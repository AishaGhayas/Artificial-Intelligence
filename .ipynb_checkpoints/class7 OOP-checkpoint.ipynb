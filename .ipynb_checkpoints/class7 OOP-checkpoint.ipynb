{
 "cells": [
  {
   "cell_type": "raw",
   "metadata": {},
   "source": [
    "consult (pep 8 naming convention) \n",
    "\n",
    "-low level language\n",
    "    binary language that comp understands(0,1) (C and Rust are nearest to binary)\n",
    "-middle level lang\n",
    "    easy than binary but still difficult for human\n",
    "    e.g assembly language, C, C++\n",
    "interpreter, compiler converts natural language to binary\n",
    "-high level language\n",
    "    easiest for human but not for comp\n",
    "    e.g python\n",
    "\n",
    "-linear programming \n",
    "    each line for each task, very fast\n",
    "-functional/procedural/functional/sub routine/structural programming\n",
    "    provides blocks (loops), if else conditions, switch, functions, exception handling etc efficient programming\n",
    "-object oriented programming oop\n",
    "    to manage code\n",
    "    pyrhon is not a pure OOP"
   ]
  },
  {
   "cell_type": "markdown",
   "metadata": {},
   "source": [
    "# OOP\n",
    "- anything having a name is an object\n",
    "- object has methods(actions performed by object) and attributes(values, properties, fields)\n",
    "- class has objects that has similar actions and properties\n",
    "- reusability\n",
    "\n",
    "4 pillars of OOP\n",
    "1. inheritance\n",
    "2. polymorphism\n",
    "    - functions that show more than one behaviours \n",
    "    - overloading: more than one functions with same name in a class(no. of parameters, their datatypes & positions vary)\n",
    "    - overriding: same function in parent & child class but overridden in child class. both show different behaviours\n",
    "3. encapsulation\n",
    "    - privatize attributes of a class. that cannot be accessed from outside the class. to access or update those attributes\n",
    "        write getter (access) and setter methods(update).\n",
    "4. abstraction\n",
    "    - abstract class is an incomplete class. it has sub classes\n",
    "    - It's object/instance cannot be created directly. instead we can use inheritance.\n",
    "    - heirarchy of general classes are abstract classes. obj can be made of a more specific class"
   ]
  },
  {
   "cell_type": "markdown",
   "metadata": {},
   "source": [
    "# classes"
   ]
  },
  {
   "cell_type": "code",
   "execution_count": 3,
   "metadata": {},
   "outputs": [],
   "source": [
    "class student():\n",
    "    pass #dont show error, to fill space\n",
    "s1 = student()"
   ]
  },
  {
   "cell_type": "code",
   "execution_count": 60,
   "metadata": {},
   "outputs": [
    {
     "name": "stdout",
     "output_type": "stream",
     "text": [
      "100\n"
     ]
    },
    {
     "data": {
      "text/plain": [
       "3"
      ]
     },
     "execution_count": 60,
     "metadata": {},
     "output_type": "execute_result"
    }
   ],
   "source": [
    "class student():\n",
    "    \n",
    "    counter = 0 #class variable\n",
    "    def __init__(self, sid): #constructor: it is called whenever student obj is created # self = this, self can be named anything\n",
    "        self.sid = sid  #object (variables) attributes/properties/field/dataMember\n",
    "        self.name = \"\"  #all attributes are declared in constructor\n",
    "        self.fname = \"\"\n",
    "        self.course = \"\"\n",
    "        self.fee = 0\n",
    "        self.user = \"\"\n",
    "        student.counter += 1 # to call or edit class variable class name is important to write \n",
    "                                #to give count of objects created of class student\n",
    "    def login(self, user, pas): #method/action #method in class, outside class its function\n",
    "        self.user = user      # to update\n",
    "        print(\"welcome \", self.user)\n",
    "    def logout(self):\n",
    "        pass\n",
    "    def quiz(self):\n",
    "        pass\n",
    "s1 = student(100) #counter = 1\n",
    "s2 = student(200) #counter = 2\n",
    "s3 = student(300) #counter = 3\n",
    "print(s1.sid)\n",
    "s1.counter"
   ]
  },
  {
   "cell_type": "code",
   "execution_count": 46,
   "metadata": {},
   "outputs": [
    {
     "name": "stdout",
     "output_type": "stream",
     "text": [
      "welcome  aisha\n"
     ]
    }
   ],
   "source": [
    "s1.login(\"aisha\",\"123\")"
   ]
  },
  {
   "cell_type": "code",
   "execution_count": 32,
   "metadata": {},
   "outputs": [
    {
     "name": "stdout",
     "output_type": "stream",
     "text": [
      "300\n",
      "ali\n"
     ]
    }
   ],
   "source": [
    "s1.name = \"ali\"\n",
    "s3.name = \"hamza\"\n",
    "print(s3.sid,s1.name, sep = \"\\n\")"
   ]
  },
  {
   "cell_type": "code",
   "execution_count": 49,
   "metadata": {},
   "outputs": [
    {
     "data": {
      "text/plain": [
       "200"
      ]
     },
     "execution_count": 49,
     "metadata": {},
     "output_type": "execute_result"
    }
   ],
   "source": [
    "s2.__getattribute__(\"sid\")"
   ]
  },
  {
   "cell_type": "code",
   "execution_count": 61,
   "metadata": {},
   "outputs": [],
   "source": [
    "del s1.sid"
   ]
  },
  {
   "cell_type": "markdown",
   "metadata": {},
   "source": [
    "# inheritance"
   ]
  },
  {
   "cell_type": "code",
   "execution_count": 67,
   "metadata": {},
   "outputs": [],
   "source": [
    "class Human():\n",
    "    def __init__(self):\n",
    "        self.name = \"\"\n",
    "        self.fname = \"\"\n",
    "    def speak(self, words=\"\"):\n",
    "        print(words,\"...\")\n",
    "    def eat(self, food=\"roti\"):\n",
    "        print(food)\n",
    "\n",
    "class Child(Human):\n",
    "    pass"
   ]
  },
  {
   "cell_type": "code",
   "execution_count": 68,
   "metadata": {},
   "outputs": [
    {
     "name": "stdout",
     "output_type": "stream",
     "text": [
      "ABC\n"
     ]
    }
   ],
   "source": [
    "h_obj1 = Human()\n",
    "h_obj1.name = \"ABC\"\n",
    "print(h_obj1.name)"
   ]
  },
  {
   "cell_type": "code",
   "execution_count": 71,
   "metadata": {},
   "outputs": [
    {
     "name": "stdout",
     "output_type": "stream",
     "text": [
      "pakistan ...\n"
     ]
    }
   ],
   "source": [
    "c_obj = Child()\n",
    "c_obj.speak(\"pakistan\")"
   ]
  },
  {
   "cell_type": "code",
   "execution_count": 6,
   "metadata": {},
   "outputs": [
    {
     "name": "stdout",
     "output_type": "stream",
     "text": [
      "yes\n",
      "speak from father hi...\n",
      "roti\n"
     ]
    }
   ],
   "source": [
    "class father():\n",
    "    def __init__(self):\n",
    "        self.name = \"ghayas\"\n",
    "        self.height = 6\n",
    "    def speak(self, words):\n",
    "        print(\"speak from father \" + words + \"...\")\n",
    "    def listen(self):\n",
    "        print(\"yes\")\n",
    "class mother():\n",
    "    def __init__(self):\n",
    "        self.name = \"\"\n",
    "        self.height = 5\n",
    "    def speak(self, words):\n",
    "        print(\"speak from mother \" + words + \"...\")\n",
    "    def eat(self, food=\"roti\"):\n",
    "        print(food)\n",
    "\n",
    "class child(father, mother):\n",
    "    pass\n",
    "\n",
    "a = child()\n",
    "a.listen()\n",
    "a.speak(\"hi\")\n",
    "a.eat()"
   ]
  },
  {
   "cell_type": "markdown",
   "metadata": {},
   "source": [
    "# Polymorphism \n",
    "overloading"
   ]
  },
  {
   "cell_type": "code",
   "execution_count": 8,
   "metadata": {},
   "outputs": [
    {
     "name": "stdout",
     "output_type": "stream",
     "text": [
      "1\n",
      "10\n"
     ]
    }
   ],
   "source": [
    "class A():\n",
    "    def abc(self, *n):\n",
    "        print(sum(n))\n",
    "\n",
    "obj1 = A()\n",
    "obj1.abc(1) # working even if one or multiple arguments passed\n",
    "obj1.abc(1,2,3,4)"
   ]
  },
  {
   "cell_type": "raw",
   "metadata": {},
   "source": [
    "over riding"
   ]
  },
  {
   "cell_type": "code",
   "execution_count": 1,
   "metadata": {},
   "outputs": [
    {
     "name": "stdout",
     "output_type": "stream",
     "text": [
      "hi its B\n"
     ]
    }
   ],
   "source": [
    "class A(): #parent\n",
    "    def speak(self):\n",
    "        print(\"hello its A\")\n",
    "class B(A): #child\n",
    "    def speak(self):\n",
    "        print(\"hi its B\")\n",
    "obj = B()\n",
    "obj.speak()"
   ]
  },
  {
   "cell_type": "markdown",
   "metadata": {},
   "source": [
    "# encapsulation"
   ]
  },
  {
   "cell_type": "code",
   "execution_count": 25,
   "metadata": {},
   "outputs": [
    {
     "data": {
      "text/plain": [
       "'aisha'"
      ]
     },
     "execution_count": 25,
     "metadata": {},
     "output_type": "execute_result"
    }
   ],
   "source": [
    "class A():\n",
    "    def __init__(self, name, age):\n",
    "        self.__sname = name #to privatize any method or attribute use __\n",
    "        self.__age = age\n",
    "    def display(self): #getter\n",
    "        print(\"name is \", self.__sname)\n",
    "        print(\"age is \", self.__age)\n",
    "    def change(self,a,b): #setter\n",
    "        self.__sname = a\n",
    "        self.__age = b\n",
    "    def __info(self):  #private method\n",
    "        print(\"Hello!\")\n",
    "    def abc(self):\n",
    "        self.__info() #to access private method\n",
    "        \n",
    "obj1 = A(\"aisha\", 25)\n",
    "# obj1.sname -->not accessable outside the class\n",
    "obj1._A__sname"
   ]
  },
  {
   "cell_type": "code",
   "execution_count": 23,
   "metadata": {},
   "outputs": [
    {
     "name": "stdout",
     "output_type": "stream",
     "text": [
      "name is  aisha\n",
      "age is  25\n"
     ]
    }
   ],
   "source": [
    "obj1.display()"
   ]
  },
  {
   "cell_type": "code",
   "execution_count": 18,
   "metadata": {},
   "outputs": [
    {
     "name": "stdout",
     "output_type": "stream",
     "text": [
      "name is  ali\n",
      "age is  22\n"
     ]
    }
   ],
   "source": [
    "obj1.change(\"ali\",22)\n",
    "obj1.display()"
   ]
  },
  {
   "cell_type": "code",
   "execution_count": 24,
   "metadata": {},
   "outputs": [
    {
     "ename": "AttributeError",
     "evalue": "'A' object has no attribute 'info'",
     "output_type": "error",
     "traceback": [
      "\u001b[1;31m---------------------------------------------------------------------------\u001b[0m",
      "\u001b[1;31mAttributeError\u001b[0m                            Traceback (most recent call last)",
      "\u001b[1;32m<ipython-input-24-64cf02240ee3>\u001b[0m in \u001b[0;36m<module>\u001b[1;34m\u001b[0m\n\u001b[1;32m----> 1\u001b[1;33m \u001b[0mobj1\u001b[0m\u001b[1;33m.\u001b[0m\u001b[0minfo\u001b[0m\u001b[1;33m(\u001b[0m\u001b[1;33m)\u001b[0m \u001b[1;31m#is not accessable\u001b[0m\u001b[1;33m\u001b[0m\u001b[1;33m\u001b[0m\u001b[0m\n\u001b[0m",
      "\u001b[1;31mAttributeError\u001b[0m: 'A' object has no attribute 'info'"
     ]
    }
   ],
   "source": [
    "obj1.info() #is not accessable"
   ]
  },
  {
   "cell_type": "code",
   "execution_count": 27,
   "metadata": {},
   "outputs": [
    {
     "name": "stdout",
     "output_type": "stream",
     "text": [
      "Hello!\n"
     ]
    }
   ],
   "source": [
    "obj1.abc()"
   ]
  },
  {
   "cell_type": "markdown",
   "metadata": {},
   "source": [
    "# Abstract class"
   ]
  },
  {
   "cell_type": "code",
   "execution_count": 28,
   "metadata": {},
   "outputs": [],
   "source": [
    "class A:   # abstract class in python2\n",
    "    def __init__(self,a,b):\n",
    "        self.a = a\n",
    "        self.b = b\n",
    "class B(A):  # child\n",
    "    pass"
   ]
  },
  {
   "cell_type": "code",
   "execution_count": 31,
   "metadata": {},
   "outputs": [],
   "source": [
    "obj1 = A(2,5) #it should give error bcz A is an abstract class and its instance shouldn't be created"
   ]
  },
  {
   "cell_type": "code",
   "execution_count": 32,
   "metadata": {},
   "outputs": [
    {
     "name": "stdout",
     "output_type": "stream",
     "text": [
      "2\n",
      "5\n"
     ]
    }
   ],
   "source": [
    "print(obj1.a) \n",
    "print(obj1.b)"
   ]
  },
  {
   "cell_type": "code",
   "execution_count": 33,
   "metadata": {},
   "outputs": [],
   "source": [
    "obj2 = B(7,9)"
   ]
  },
  {
   "cell_type": "raw",
   "metadata": {},
   "source": [
    "abc is a file stored by default in root directory\n",
    "in which there is a class ABC\n",
    "and a decorator function abstractmethod"
   ]
  },
  {
   "cell_type": "code",
   "execution_count": 46,
   "metadata": {},
   "outputs": [
    {
     "ename": "SyntaxError",
     "evalue": "invalid syntax (<ipython-input-46-b05e6e5bba42>, line 16)",
     "output_type": "error",
     "traceback": [
      "\u001b[1;36m  File \u001b[1;32m\"<ipython-input-46-b05e6e5bba42>\"\u001b[1;36m, line \u001b[1;32m16\u001b[0m\n\u001b[1;33m    p1.display(\"aa\", 22)`\u001b[0m\n\u001b[1;37m                        ^\u001b[0m\n\u001b[1;31mSyntaxError\u001b[0m\u001b[1;31m:\u001b[0m invalid syntax\n"
     ]
    }
   ],
   "source": [
    "from abc import ABC, abstractmethod  #file is abc, ABC is class, abstractmethod is a fumction\n",
    "                                          # class starts with capital letter while function name starts with small letter\n",
    "class Human(ABC): #abstract class #class having parent ABC is an abstract class\n",
    "    #  @abstractmethod write this with constructor or any other method of abstract class\n",
    "    @abstractmethod  #decorater # with this any method can be converted into abstract method\n",
    "    def __init__(self):\n",
    "        self.name = None\n",
    "        self.age = None\n",
    "    \n",
    "    def display(self,name,age):\n",
    "        self.name = name\n",
    "        self.age = age\n",
    "        return \"object name is {} {} old.\".format(self.name,self.age)\n",
    "\n",
    "p1 = Human()\n",
    "p1.display(\"aa\", 22)`"
   ]
  },
  {
   "cell_type": "code",
   "execution_count": 48,
   "metadata": {},
   "outputs": [],
   "source": [
    "class Male(Human):\n",
    "    def __init__(self):\n",
    "        self.name = \"aisha\"\n",
    "        self.fname = \"ghayas\"\n",
    "    def laugh(self):\n",
    "        return \"hahaha\"\n",
    "p1 = Male()"
   ]
  },
  {
   "cell_type": "markdown",
   "metadata": {},
   "source": [
    "# Practice"
   ]
  },
  {
   "cell_type": "code",
   "execution_count": 54,
   "metadata": {},
   "outputs": [
    {
     "name": "stdout",
     "output_type": "stream",
     "text": [
      "1 2\n"
     ]
    }
   ],
   "source": [
    "class P():\n",
    "    \n",
    "    def display(self,a,b):\n",
    "        print(a,b)\n",
    "\n",
    "class C(P):\n",
    "    pass\n",
    "\n",
    "c_obj = C()\n",
    "c_obj.display(1,2)"
   ]
  },
  {
   "cell_type": "code",
   "execution_count": 73,
   "metadata": {},
   "outputs": [
    {
     "name": "stdout",
     "output_type": "stream",
     "text": [
      "1 2\n"
     ]
    }
   ],
   "source": [
    "class P():\n",
    "    def __init__(self, a, b):\n",
    "        self.a = a\n",
    "        self.b = b\n",
    "    def display(self):\n",
    "        print(self.a,self.b)\n",
    "\n",
    "class C(P):\n",
    "    pass\n",
    "\n",
    "c_obj = C(1,2)\n",
    "c_obj.display()"
   ]
  },
  {
   "cell_type": "code",
   "execution_count": null,
   "metadata": {},
   "outputs": [],
   "source": [
    "overloading and overriding"
   ]
  },
  {
   "cell_type": "code",
   "execution_count": 65,
   "metadata": {},
   "outputs": [
    {
     "name": "stdout",
     "output_type": "stream",
     "text": [
      "its B\n"
     ]
    }
   ],
   "source": [
    "#overriding\n",
    "class A():\n",
    "    def dis(self):\n",
    "        print(\"its A\")\n",
    "class B(A):\n",
    "    def dis(self):\n",
    "        print(\"its B\")\n",
    "        \n",
    "b_obj = B()\n",
    "b_obj.dis()"
   ]
  },
  {
   "cell_type": "code",
   "execution_count": 72,
   "metadata": {},
   "outputs": [
    {
     "name": "stdout",
     "output_type": "stream",
     "text": [
      "5\n"
     ]
    }
   ],
   "source": [
    "#overloading\n",
    "class A():\n",
    "    def dis(self,a=3):\n",
    "        print(a)\n",
    "obj = A()\n",
    "obj.dis(5)"
   ]
  },
  {
   "cell_type": "code",
   "execution_count": null,
   "metadata": {},
   "outputs": [],
   "source": []
  }
 ],
 "metadata": {
  "kernelspec": {
   "display_name": "Python 3",
   "language": "python",
   "name": "python3"
  },
  "language_info": {
   "codemirror_mode": {
    "name": "ipython",
    "version": 3
   },
   "file_extension": ".py",
   "mimetype": "text/x-python",
   "name": "python",
   "nbconvert_exporter": "python",
   "pygments_lexer": "ipython3",
   "version": "3.7.3"
  }
 },
 "nbformat": 4,
 "nbformat_minor": 2
}
