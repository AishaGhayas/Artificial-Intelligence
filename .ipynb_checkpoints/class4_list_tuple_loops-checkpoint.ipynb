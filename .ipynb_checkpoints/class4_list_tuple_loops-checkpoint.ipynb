{
 "cells": [
  {
   "cell_type": "markdown",
   "metadata": {},
   "source": [
    "# list methods"
   ]
  },
  {
   "cell_type": "code",
   "execution_count": 2,
   "metadata": {
    "collapsed": true
   },
   "outputs": [
    {
     "name": "stdout",
     "output_type": "stream",
     "text": [
      "Help on class list in module builtins:\n",
      "\n",
      "class list(object)\n",
      " |  list(iterable=(), /)\n",
      " |  \n",
      " |  Built-in mutable sequence.\n",
      " |  \n",
      " |  If no argument is given, the constructor creates a new empty list.\n",
      " |  The argument must be an iterable if specified.\n",
      " |  \n",
      " |  Methods defined here:\n",
      " |  \n",
      " |  __add__(self, value, /)\n",
      " |      Return self+value.\n",
      " |  \n",
      " |  __contains__(self, key, /)\n",
      " |      Return key in self.\n",
      " |  \n",
      " |  __delitem__(self, key, /)\n",
      " |      Delete self[key].\n",
      " |  \n",
      " |  __eq__(self, value, /)\n",
      " |      Return self==value.\n",
      " |  \n",
      " |  __ge__(self, value, /)\n",
      " |      Return self>=value.\n",
      " |  \n",
      " |  __getattribute__(self, name, /)\n",
      " |      Return getattr(self, name).\n",
      " |  \n",
      " |  __getitem__(...)\n",
      " |      x.__getitem__(y) <==> x[y]\n",
      " |  \n",
      " |  __gt__(self, value, /)\n",
      " |      Return self>value.\n",
      " |  \n",
      " |  __iadd__(self, value, /)\n",
      " |      Implement self+=value.\n",
      " |  \n",
      " |  __imul__(self, value, /)\n",
      " |      Implement self*=value.\n",
      " |  \n",
      " |  __init__(self, /, *args, **kwargs)\n",
      " |      Initialize self.  See help(type(self)) for accurate signature.\n",
      " |  \n",
      " |  __iter__(self, /)\n",
      " |      Implement iter(self).\n",
      " |  \n",
      " |  __le__(self, value, /)\n",
      " |      Return self<=value.\n",
      " |  \n",
      " |  __len__(self, /)\n",
      " |      Return len(self).\n",
      " |  \n",
      " |  __lt__(self, value, /)\n",
      " |      Return self<value.\n",
      " |  \n",
      " |  __mul__(self, value, /)\n",
      " |      Return self*value.\n",
      " |  \n",
      " |  __ne__(self, value, /)\n",
      " |      Return self!=value.\n",
      " |  \n",
      " |  __repr__(self, /)\n",
      " |      Return repr(self).\n",
      " |  \n",
      " |  __reversed__(self, /)\n",
      " |      Return a reverse iterator over the list.\n",
      " |  \n",
      " |  __rmul__(self, value, /)\n",
      " |      Return value*self.\n",
      " |  \n",
      " |  __setitem__(self, key, value, /)\n",
      " |      Set self[key] to value.\n",
      " |  \n",
      " |  __sizeof__(self, /)\n",
      " |      Return the size of the list in memory, in bytes.\n",
      " |  \n",
      " |  append(self, object, /)\n",
      " |      Append object to the end of the list.\n",
      " |  \n",
      " |  clear(self, /)\n",
      " |      Remove all items from list.\n",
      " |  \n",
      " |  copy(self, /)\n",
      " |      Return a shallow copy of the list.\n",
      " |  \n",
      " |  count(self, value, /)\n",
      " |      Return number of occurrences of value.\n",
      " |  \n",
      " |  extend(self, iterable, /)\n",
      " |      Extend list by appending elements from the iterable.\n",
      " |  \n",
      " |  index(self, value, start=0, stop=9223372036854775807, /)\n",
      " |      Return first index of value.\n",
      " |      \n",
      " |      Raises ValueError if the value is not present.\n",
      " |  \n",
      " |  insert(self, index, object, /)\n",
      " |      Insert object before index.\n",
      " |  \n",
      " |  pop(self, index=-1, /)\n",
      " |      Remove and return item at index (default last).\n",
      " |      \n",
      " |      Raises IndexError if list is empty or index is out of range.\n",
      " |  \n",
      " |  remove(self, value, /)\n",
      " |      Remove first occurrence of value.\n",
      " |      \n",
      " |      Raises ValueError if the value is not present.\n",
      " |  \n",
      " |  reverse(self, /)\n",
      " |      Reverse *IN PLACE*.\n",
      " |  \n",
      " |  sort(self, /, *, key=None, reverse=False)\n",
      " |      Stable sort *IN PLACE*.\n",
      " |  \n",
      " |  ----------------------------------------------------------------------\n",
      " |  Static methods defined here:\n",
      " |  \n",
      " |  __new__(*args, **kwargs) from builtins.type\n",
      " |      Create and return a new object.  See help(type) for accurate signature.\n",
      " |  \n",
      " |  ----------------------------------------------------------------------\n",
      " |  Data and other attributes defined here:\n",
      " |  \n",
      " |  __hash__ = None\n",
      "\n"
     ]
    }
   ],
   "source": [
    "dir(list)"
   ]
  },
  {
   "cell_type": "code",
   "execution_count": 3,
   "metadata": {},
   "outputs": [
    {
     "name": "stdout",
     "output_type": "stream",
     "text": [
      "['aisha', 'sonia', 'warda', 1, 4, 3]\n"
     ]
    }
   ],
   "source": [
    "#           0        1        2     3  4  5\n",
    "names = [\"aisha\", \"sonia\", \"warda\", 1, 4, 3]\n",
    "#          -6     -5       -4     -3  -2 -1 \n",
    "print(names)"
   ]
  },
  {
   "cell_type": "code",
   "execution_count": 4,
   "metadata": {},
   "outputs": [
    {
     "name": "stdout",
     "output_type": "stream",
     "text": [
      "['sonia', 'warda']\n"
     ]
    }
   ],
   "source": [
    "print(names[1:3]) #start, end, step"
   ]
  },
  {
   "cell_type": "code",
   "execution_count": 6,
   "metadata": {},
   "outputs": [
    {
     "name": "stdout",
     "output_type": "stream",
     "text": [
      "aisha\n"
     ]
    }
   ],
   "source": [
    "print(names[0])"
   ]
  },
  {
   "cell_type": "code",
   "execution_count": 9,
   "metadata": {},
   "outputs": [
    {
     "data": {
      "text/plain": [
       "['A', 'B', 'c', 1]"
      ]
     },
     "execution_count": 9,
     "metadata": {},
     "output_type": "execute_result"
    }
   ],
   "source": [
    "names = []\n",
    "names.append(\"A\")\n",
    "names.append(\"B\")\n",
    "names.append(\"c\")\n",
    "names.append(1)\n",
    "names"
   ]
  },
  {
   "cell_type": "markdown",
   "metadata": {},
   "source": [
    "variable -> parenthesis --> method\n",
    "keyword -> parenthesis --> function e.g print"
   ]
  },
  {
   "cell_type": "code",
   "execution_count": 14,
   "metadata": {},
   "outputs": [
    {
     "name": "stdout",
     "output_type": "stream",
     "text": [
      "[]\n"
     ]
    }
   ],
   "source": [
    "names.clear()\n",
    "print(names)"
   ]
  },
  {
   "cell_type": "code",
   "execution_count": 15,
   "metadata": {},
   "outputs": [
    {
     "name": "stdout",
     "output_type": "stream",
     "text": [
      "['Z', 'sonia', 'warda', 1, 4, 3]\n",
      "['Z', 'sonia', 'warda', 1, 4, 3]\n"
     ]
    }
   ],
   "source": [
    "names = [\"aisha\", \"sonia\", \"warda\", 1, 4, 3]\n",
    "names1 = names #(shallow copy)\n",
    "names1[0] = \"Z\"\n",
    "\n",
    "print(names)\n",
    "print(names1)"
   ]
  },
  {
   "cell_type": "code",
   "execution_count": 18,
   "metadata": {},
   "outputs": [
    {
     "name": "stdout",
     "output_type": "stream",
     "text": [
      "['Z', 'sonia', 'warda', 1, 4, 3]\n",
      "['aisha', 'sonia', 'warda', 1, 4, 3]\n"
     ]
    }
   ],
   "source": [
    "names = [\"aisha\", \"sonia\", \"warda\", 1, 4, 3]\n",
    "names1 = names.copy() #deep copy (two different copies)\n",
    "names[0] = \"Z\"\n",
    "\n",
    "print(names)\n",
    "print(names1)"
   ]
  },
  {
   "cell_type": "code",
   "execution_count": 19,
   "metadata": {},
   "outputs": [
    {
     "data": {
      "text/plain": [
       "2"
      ]
     },
     "execution_count": 19,
     "metadata": {},
     "output_type": "execute_result"
    }
   ],
   "source": [
    "alphabets = [\"A\",\"S\",\"D\",\"F\",\"G\",\"A\"]\n",
    "alphabets.count(\"A\")"
   ]
  },
  {
   "cell_type": "code",
   "execution_count": 32,
   "metadata": {},
   "outputs": [
    {
     "name": "stdout",
     "output_type": "stream",
     "text": [
      "[1, 3, 5, 'a', 'b']\n",
      "['a', 'b']\n",
      "[1, 3, 5]\n"
     ]
    }
   ],
   "source": [
    "L1 = [1,3,5]\n",
    "L2 = [\"a\",\"b\"]\n",
    "\n",
    "print(L1 + L2) #in line operation\n",
    "print(L2)\n",
    "print(L1)"
   ]
  },
  {
   "cell_type": "code",
   "execution_count": 31,
   "metadata": {},
   "outputs": [
    {
     "name": "stdout",
     "output_type": "stream",
     "text": [
      "None\n",
      "['a', 'b']\n",
      "[1, 3, 5, 'a', 'b']\n"
     ]
    }
   ],
   "source": [
    "L1 = [1,3,5]\n",
    "L2 = [\"a\",\"b\"]\n",
    "\n",
    "L3 = L1.extend(L2) #in memory operation # extend() doesnot return any value\n",
    "print(L3)\n",
    "print(L2)\n",
    "print(L1)"
   ]
  },
  {
   "cell_type": "code",
   "execution_count": 42,
   "metadata": {},
   "outputs": [
    {
     "name": "stdout",
     "output_type": "stream",
     "text": [
      "0\n"
     ]
    },
    {
     "data": {
      "text/plain": [
       "2"
      ]
     },
     "execution_count": 42,
     "metadata": {},
     "output_type": "execute_result"
    }
   ],
   "source": [
    "L2 = [\"a\",\"b\",\"a\",\"c\"]\n",
    "print(L2.index(\"a\") )\n",
    "L2.index(\"a\", 1) #value, start"
   ]
  },
  {
   "cell_type": "code",
   "execution_count": 51,
   "metadata": {},
   "outputs": [
    {
     "name": "stdout",
     "output_type": "stream",
     "text": [
      "['z', 'g', 'a', 'b', 'a', 'c']\n"
     ]
    }
   ],
   "source": [
    "L2 = [\"a\",\"b\",\"a\",\"c\"]\n",
    "L2.insert(0,\"z\") #index, value \n",
    "L2.insert(1,\"g\")\n",
    "print(L2)"
   ]
  },
  {
   "cell_type": "code",
   "execution_count": 56,
   "metadata": {},
   "outputs": [
    {
     "name": "stdout",
     "output_type": "stream",
     "text": [
      "c\n",
      "['a', 'b', 'a']\n"
     ]
    }
   ],
   "source": [
    "L2 = [\"a\",\"b\",\"a\",\"c\"]\n",
    "print(L2.pop()) #return function #pop is oposite to append\n",
    "print(L2)"
   ]
  },
  {
   "cell_type": "code",
   "execution_count": 60,
   "metadata": {},
   "outputs": [
    {
     "name": "stdout",
     "output_type": "stream",
     "text": [
      "['a']\n",
      "['b', 'a', 'c']\n"
     ]
    }
   ],
   "source": [
    "L2 = [\"a\",\"b\",\"a\",\"c\"]\n",
    "L1 = []\n",
    "L1.append(L2.pop(0)) #remove by index & return value\n",
    "print(L1)\n",
    "print(L2)"
   ]
  },
  {
   "cell_type": "code",
   "execution_count": 67,
   "metadata": {},
   "outputs": [
    {
     "name": "stdout",
     "output_type": "stream",
     "text": [
      "[]\n"
     ]
    }
   ],
   "source": [
    "L2 = [\"a\",\"b\",\"a\",\"c\"]\n",
    "del L2[:]\n",
    "print(L2)"
   ]
  },
  {
   "cell_type": "code",
   "execution_count": 71,
   "metadata": {},
   "outputs": [
    {
     "name": "stdout",
     "output_type": "stream",
     "text": [
      "['S', 'D', 'F', 'G', 'A']\n"
     ]
    }
   ],
   "source": [
    "alphabets = [\"A\",\"S\",\"D\",\"F\",\"G\",\"A\"]\n",
    "alphabets.remove(\"A\")\n",
    "print(alphabets)"
   ]
  },
  {
   "cell_type": "code",
   "execution_count": 81,
   "metadata": {},
   "outputs": [
    {
     "name": "stdout",
     "output_type": "stream",
     "text": [
      "['A', 'G', 'F', 'D', 'S', 'A']\n"
     ]
    }
   ],
   "source": [
    "alphabets = [\"A\",\"S\",\"D\",\"F\",\"G\",\"A\"]\n",
    "alphabets.reverse() #in memroy\n",
    "print(alphabets)"
   ]
  },
  {
   "cell_type": "code",
   "execution_count": 82,
   "metadata": {},
   "outputs": [
    {
     "name": "stdout",
     "output_type": "stream",
     "text": [
      "['A', 'A', 'D', 'F', 'G', 'S']\n"
     ]
    }
   ],
   "source": [
    "alphabets = [\"A\",\"S\",\"D\",\"F\",\"G\",\"A\"]\n",
    "alphabets.sort() #in memroy\n",
    "print(alphabets)"
   ]
  },
  {
   "cell_type": "code",
   "execution_count": 83,
   "metadata": {},
   "outputs": [
    {
     "name": "stdout",
     "output_type": "stream",
     "text": [
      "['S', 'G', 'F', 'D', 'A', 'A']\n"
     ]
    }
   ],
   "source": [
    "alphabets = [\"A\",\"S\",\"D\",\"F\",\"G\",\"A\"]\n",
    "alphabets.sort(reverse=True) #descending order\n",
    "print(alphabets)"
   ]
  },
  {
   "cell_type": "code",
   "execution_count": 85,
   "metadata": {},
   "outputs": [
    {
     "name": "stdout",
     "output_type": "stream",
     "text": [
      "['S', 'G', 'F', 'D', 'A', 'A']\n"
     ]
    }
   ],
   "source": [
    "#descending order\n",
    "alphabets = [\"A\",\"S\",\"D\",\"F\",\"G\",\"A\"]\n",
    "alphabets.sort()\n",
    "alphabets.reverse()\n",
    "print(alphabets)"
   ]
  },
  {
   "cell_type": "code",
   "execution_count": 87,
   "metadata": {},
   "outputs": [
    {
     "data": {
      "text/plain": [
       "[1, 3, 5, 'a', 'b', 'a', 'c']"
      ]
     },
     "execution_count": 87,
     "metadata": {},
     "output_type": "execute_result"
    }
   ],
   "source": [
    "L2 = [\"a\",\"b\",\"a\",\"c\"]\n",
    "L1 = [1,3,5]\n",
    "L1.__add__(L2)\n",
    "#extend in memory operation\n",
    "# + in line operation\n"
   ]
  },
  {
   "cell_type": "code",
   "execution_count": 88,
   "metadata": {},
   "outputs": [
    {
     "data": {
      "text/plain": [
       "list"
      ]
     },
     "execution_count": 88,
     "metadata": {},
     "output_type": "execute_result"
    }
   ],
   "source": [
    "L1.__class__"
   ]
  },
  {
   "cell_type": "code",
   "execution_count": 92,
   "metadata": {},
   "outputs": [
    {
     "name": "stdout",
     "output_type": "stream",
     "text": [
      "False\n",
      "True\n",
      "True\n"
     ]
    }
   ],
   "source": [
    "L1 = [1,3,5]\n",
    "print(L1.__contains__(\"1\"))\n",
    "print(L1.__contains__(1)) \n",
    "#or\n",
    "print(1 in L1)"
   ]
  },
  {
   "cell_type": "code",
   "execution_count": 96,
   "metadata": {},
   "outputs": [
    {
     "name": "stdout",
     "output_type": "stream",
     "text": [
      "False\n",
      "False\n"
     ]
    }
   ],
   "source": [
    "L2 = [\"a\",\"b\",\"a\",\"c\"]\n",
    "L1 = [1,3,5]\n",
    "print(L1.__eq__(L2))\n",
    "print(L1==L2)"
   ]
  },
  {
   "cell_type": "code",
   "execution_count": 2,
   "metadata": {},
   "outputs": [
    {
     "name": "stdout",
     "output_type": "stream",
     "text": [
      "True\n",
      "False\n"
     ]
    }
   ],
   "source": [
    "L1 = [1,13,15]\n",
    "L2 = [1,3,6]\n",
    "L3 = [2,7,9]\n",
    "print(L1.__ge__(L2)) # >=\n",
    "print(L1.__ge__(L3))"
   ]
  },
  {
   "cell_type": "code",
   "execution_count": 105,
   "metadata": {},
   "outputs": [
    {
     "name": "stdout",
     "output_type": "stream",
     "text": [
      "3\n"
     ]
    },
    {
     "data": {
      "text/plain": [
       "3"
      ]
     },
     "execution_count": 105,
     "metadata": {},
     "output_type": "execute_result"
    }
   ],
   "source": [
    "print(len(L1))\n",
    "L1.__len__()"
   ]
  },
  {
   "cell_type": "markdown",
   "metadata": {},
   "source": [
    "# loops"
   ]
  },
  {
   "cell_type": "markdown",
   "metadata": {},
   "source": [
    "- loop for repetition\n",
    "- function to stop repitition"
   ]
  },
  {
   "cell_type": "markdown",
   "metadata": {},
   "source": [
    "1. counter\n",
    "2. logic\n",
    "3. increment/decrement"
   ]
  },
  {
   "cell_type": "code",
   "execution_count": 110,
   "metadata": {},
   "outputs": [
    {
     "data": {
      "text/plain": [
       "'hihihihihihihihihihi'"
      ]
     },
     "execution_count": 110,
     "metadata": {},
     "output_type": "execute_result"
    }
   ],
   "source": [
    "\"hi\" * 10"
   ]
  },
  {
   "cell_type": "code",
   "execution_count": 6,
   "metadata": {},
   "outputs": [
    {
     "name": "stdout",
     "output_type": "stream",
     "text": [
      "pak 1\n",
      "pak 2\n",
      "pak 3\n",
      "pak 4\n",
      "pak 5\n",
      "pak 6\n",
      "pak 7\n",
      "pak 8\n",
      "pak 9\n",
      "pak 10\n"
     ]
    }
   ],
   "source": [
    "counter = 1 #counter\n",
    "while counter <= 10: #logic\n",
    "    print(\"pak\",counter)\n",
    "    counter += 1 #increment"
   ]
  },
  {
   "cell_type": "code",
   "execution_count": 9,
   "metadata": {},
   "outputs": [
    {
     "name": "stdout",
     "output_type": "stream",
     "text": [
      "pak 1\n",
      "pak 2\n",
      "pak 3\n",
      "pak 4\n",
      "pak 5\n",
      "pak 6\n",
      "pak 7\n",
      "pak 8\n",
      "pak 9\n",
      "pak 10\n"
     ]
    }
   ],
   "source": [
    "for i in range(1,11):\n",
    "    print(\"pak\", i)"
   ]
  },
  {
   "cell_type": "code",
   "execution_count": 5,
   "metadata": {},
   "outputs": [
    {
     "name": "stdout",
     "output_type": "stream",
     "text": [
      "pak 1\n",
      "pak 2\n",
      "pak 3\n",
      "pak 4\n",
      "pak 5\n",
      "pak 6\n",
      "pak 7\n",
      "pak 8\n",
      "pak 9\n",
      "pak 10\n"
     ]
    },
    {
     "data": {
      "text/plain": [
       "['pak 1',\n",
       " 'pak 2',\n",
       " 'pak 3',\n",
       " 'pak 4',\n",
       " 'pak 5',\n",
       " 'pak 6',\n",
       " 'pak 7',\n",
       " 'pak 8',\n",
       " 'pak 9',\n",
       " 'pak 10']"
      ]
     },
     "execution_count": 5,
     "metadata": {},
     "output_type": "execute_result"
    }
   ],
   "source": [
    "[print(\"pak \" + str(x)) for x in range(1,11)]\n",
    "#or\n",
    "[\"pak \" + str(x) for x in range(1,11)]"
   ]
  },
  {
   "cell_type": "code",
   "execution_count": 16,
   "metadata": {},
   "outputs": [
    {
     "name": "stdout",
     "output_type": "stream",
     "text": [
      "2 X 1 = 2\n",
      "2 X 2 = 4\n",
      "2 X 3 = 6\n",
      "2 X 4 = 8\n",
      "2 X 5 = 10\n",
      "2 X 6 = 12\n",
      "2 X 7 = 14\n",
      "2 X 8 = 16\n",
      "2 X 9 = 18\n",
      "2 X 10 = 20\n"
     ]
    }
   ],
   "source": [
    "for i in range(1,11):\n",
    "    print(2,\"X\",i,\"=\",2*i)"
   ]
  },
  {
   "cell_type": "code",
   "execution_count": 20,
   "metadata": {},
   "outputs": [
    {
     "name": "stdout",
     "output_type": "stream",
     "text": [
      "2 X 1 = 2\n",
      "2 X 2 = 4\n",
      "2 X 3 = 6\n",
      "2 X 4 = 8\n",
      "2 X 5 = 10\n",
      "2 X 6 = 12\n",
      "2 X 7 = 14\n",
      "2 X 8 = 16\n",
      "2 X 9 = 18\n",
      "2 X 10 = 20\n"
     ]
    }
   ],
   "source": [
    "for i in range(1,11):\n",
    "    print(\"2 X \" + str(i) + \" = \" + str(2*i)) #concatenation"
   ]
  },
  {
   "cell_type": "code",
   "execution_count": 23,
   "metadata": {},
   "outputs": [
    {
     "data": {
      "text/plain": [
       "['2 X 1 = 2',\n",
       " '2 X 2 = 4',\n",
       " '2 X 3 = 6',\n",
       " '2 X 4 = 8',\n",
       " '2 X 5 = 10',\n",
       " '2 X 6 = 12',\n",
       " '2 X 7 = 14',\n",
       " '2 X 8 = 16',\n",
       " '2 X 9 = 18',\n",
       " '2 X 10 = 20']"
      ]
     },
     "execution_count": 23,
     "metadata": {},
     "output_type": "execute_result"
    }
   ],
   "source": [
    "[\"2 X \" + str(i) + \" = \" + str(2*i) for i in range (1,11)]"
   ]
  },
  {
   "cell_type": "markdown",
   "metadata": {},
   "source": [
    "# tuple"
   ]
  },
  {
   "cell_type": "code",
   "execution_count": 5,
   "metadata": {},
   "outputs": [
    {
     "name": "stdout",
     "output_type": "stream",
     "text": [
      "Help on class tuple in module builtins:\n",
      "\n",
      "class tuple(object)\n",
      " |  tuple(iterable=(), /)\n",
      " |  \n",
      " |  Built-in immutable sequence.\n",
      " |  \n",
      " |  If no argument is given, the constructor returns an empty tuple.\n",
      " |  If iterable is specified the tuple is initialized from iterable's items.\n",
      " |  \n",
      " |  If the argument is a tuple, the return value is the same object.\n",
      " |  \n",
      " |  Methods defined here:\n",
      " |  \n",
      " |  __add__(self, value, /)\n",
      " |      Return self+value.\n",
      " |  \n",
      " |  __contains__(self, key, /)\n",
      " |      Return key in self.\n",
      " |  \n",
      " |  __eq__(self, value, /)\n",
      " |      Return self==value.\n",
      " |  \n",
      " |  __ge__(self, value, /)\n",
      " |      Return self>=value.\n",
      " |  \n",
      " |  __getattribute__(self, name, /)\n",
      " |      Return getattr(self, name).\n",
      " |  \n",
      " |  __getitem__(self, key, /)\n",
      " |      Return self[key].\n",
      " |  \n",
      " |  __getnewargs__(self, /)\n",
      " |  \n",
      " |  __gt__(self, value, /)\n",
      " |      Return self>value.\n",
      " |  \n",
      " |  __hash__(self, /)\n",
      " |      Return hash(self).\n",
      " |  \n",
      " |  __iter__(self, /)\n",
      " |      Implement iter(self).\n",
      " |  \n",
      " |  __le__(self, value, /)\n",
      " |      Return self<=value.\n",
      " |  \n",
      " |  __len__(self, /)\n",
      " |      Return len(self).\n",
      " |  \n",
      " |  __lt__(self, value, /)\n",
      " |      Return self<value.\n",
      " |  \n",
      " |  __mul__(self, value, /)\n",
      " |      Return self*value.\n",
      " |  \n",
      " |  __ne__(self, value, /)\n",
      " |      Return self!=value.\n",
      " |  \n",
      " |  __repr__(self, /)\n",
      " |      Return repr(self).\n",
      " |  \n",
      " |  __rmul__(self, value, /)\n",
      " |      Return value*self.\n",
      " |  \n",
      " |  count(self, value, /)\n",
      " |      Return number of occurrences of value.\n",
      " |  \n",
      " |  index(self, value, start=0, stop=9223372036854775807, /)\n",
      " |      Return first index of value.\n",
      " |      \n",
      " |      Raises ValueError if the value is not present.\n",
      " |  \n",
      " |  ----------------------------------------------------------------------\n",
      " |  Static methods defined here:\n",
      " |  \n",
      " |  __new__(*args, **kwargs) from builtins.type\n",
      " |      Create and return a new object.  See help(type) for accurate signature.\n",
      "\n"
     ]
    }
   ],
   "source": [
    "help(tuple)"
   ]
  },
  {
   "cell_type": "code",
   "execution_count": 2,
   "metadata": {},
   "outputs": [
    {
     "data": {
      "text/plain": [
       "3"
      ]
     },
     "execution_count": 2,
     "metadata": {},
     "output_type": "execute_result"
    }
   ],
   "source": [
    "a = (1,2,3,4,2,3,2)\n",
    "a.count(2)"
   ]
  },
  {
   "cell_type": "code",
   "execution_count": 7,
   "metadata": {},
   "outputs": [
    {
     "data": {
      "text/plain": [
       "3"
      ]
     },
     "execution_count": 7,
     "metadata": {},
     "output_type": "execute_result"
    }
   ],
   "source": [
    "a.index(3)\n",
    "a.__getitem__(2)"
   ]
  },
  {
   "cell_type": "markdown",
   "metadata": {},
   "source": [
    "# Tasks"
   ]
  },
  {
   "cell_type": "code",
   "execution_count": 8,
   "metadata": {},
   "outputs": [
    {
     "name": "stdout",
     "output_type": "stream",
     "text": [
      "enter your name: a\n",
      "enter father's name: s\n",
      "contact: d\n",
      "exit or add moreadd more\n",
      "enter your name: a\n",
      "enter father's name: s\n",
      "contact: d\n",
      "exit or add moreadd more\n",
      "enter your name: a\n",
      "enter father's name: s\n",
      "contact: d\n",
      "exit or add moreexit\n",
      "[['a', 's', 'd'], ['a', 's', 'd'], ['a', 's', 'd']]\n",
      "[['a', 's', 'd'], ['a', 's', 'd'], ['a', 's', 'd']]\n"
     ]
    }
   ],
   "source": [
    "name = input(\"enter your name: \")\n",
    "f_name = input(\"enter father's name: \")\n",
    "contact = input(\"contact: \")\n",
    "student = []\n",
    "student.append(name)\n",
    "student.append(f_name)\n",
    "student.append(contact)\n",
    "students = []\n",
    "students.append(student)\n",
    "\n",
    "user_input = input(\"exit or add more\")\n",
    "while user_input == \"add more\":\n",
    "    student = list()\n",
    "    name = input(\"enter your name: \")\n",
    "    f_name = input(\"enter father's name: \")\n",
    "    contact = input(\"contact: \")\n",
    "    student.append(name)\n",
    "    student.append(f_name)\n",
    "    student.append(contact)\n",
    "    students.append(student)\n",
    "    user_input = input(\"exit or add more\")\n",
    "    if user_input == \"exit\":\n",
    "        print(students)\n",
    "else:\n",
    "    print(students)"
   ]
  },
  {
   "cell_type": "code",
   "execution_count": 1,
   "metadata": {},
   "outputs": [
    {
     "name": "stdout",
     "output_type": "stream",
     "text": [
      "exit or adde\n",
      "[]\n"
     ]
    }
   ],
   "source": [
    "student = []\n",
    "students = []\n",
    "\n",
    "user_input = input(\"exit or add\")\n",
    "while user_input == \"add\":\n",
    "    \n",
    "    student = list() #creates an empty list -->list constructor\n",
    "    name = input(\"enter your name: \")\n",
    "    f_name = input(\"enter father's name: \")\n",
    "    contact = input(\"contact: \")\n",
    "    \n",
    "    student.append(name)\n",
    "    student.append(f_name)\n",
    "    student.append(contact)\n",
    "    students.append(student)\n",
    "    \n",
    "    user_input = input(\"exit or add\")\n",
    "    if user_input == \"exit\":\n",
    "        print(students)\n",
    "else:\n",
    "    print(students)"
   ]
  },
  {
   "cell_type": "code",
   "execution_count": 3,
   "metadata": {},
   "outputs": [
    {
     "name": "stdout",
     "output_type": "stream",
     "text": [
      "exit or addadd\n",
      "enter your name: a\n",
      "enter father's name: s\n",
      "contact: d\n",
      "exit or addadd\n",
      "enter your name: q\n",
      "enter father's name: w\n",
      "contact: e\n",
      "exit or addadd\n",
      "enter your name: a\n",
      "enter father's name: \n",
      "contact: e\n",
      "exit or adde\n",
      "[['a', 's', 'd'], ['q', 'w', 'e'], ['a', '', 'e']]\n"
     ]
    }
   ],
   "source": [
    "student = []\n",
    "students = []\n",
    "i = \"add\"\n",
    "user_input = input(\"exit or add\")\n",
    "for i in user_input:\n",
    "    student = list()\n",
    "    name = input(\"enter your name: \")\n",
    "    f_name = input(\"enter father's name: \")\n",
    "    contact = input(\"contact: \")\n",
    "    student.append(name)\n",
    "    student.append(f_name)\n",
    "    student.append(contact)\n",
    "    students.append(student)\n",
    "    user_input = input(\"exit or add\")\n",
    "else:\n",
    "    print(students)\n"
   ]
  },
  {
   "cell_type": "markdown",
   "metadata": {},
   "source": [
    "1. print value 1000 to 990 with (while and for loop)"
   ]
  },
  {
   "cell_type": "code",
   "execution_count": 2,
   "metadata": {},
   "outputs": [
    {
     "name": "stdout",
     "output_type": "stream",
     "text": [
      "990\n",
      "991\n",
      "992\n",
      "993\n",
      "994\n",
      "995\n",
      "996\n",
      "997\n",
      "998\n",
      "999\n",
      "1000\n"
     ]
    }
   ],
   "source": [
    "for i in range(990,1001):\n",
    "    print(i)\n",
    "    i += 1"
   ]
  },
  {
   "cell_type": "code",
   "execution_count": 5,
   "metadata": {},
   "outputs": [
    {
     "name": "stdout",
     "output_type": "stream",
     "text": [
      "990\n",
      "991\n",
      "992\n",
      "993\n",
      "994\n",
      "995\n",
      "996\n",
      "997\n",
      "998\n",
      "999\n",
      "1000\n"
     ]
    }
   ],
   "source": [
    "i = 990\n",
    "while i <=1000:\n",
    "    print(i)\n",
    "    i += 1"
   ]
  },
  {
   "cell_type": "markdown",
   "metadata": {},
   "source": [
    "2. with assci code 65-90, 97-122, 48-57 print chracters base on above range with for loop\n",
    "output:\n",
    "A  a  0\n",
    "B  b  1\n",
    "C  c  3"
   ]
  },
  {
   "cell_type": "code",
   "execution_count": 8,
   "metadata": {
    "collapsed": true
   },
   "outputs": [
    {
     "name": "stdout",
     "output_type": "stream",
     "text": [
      "A a 65\n",
      "B b 66\n",
      "C c 67\n",
      "D d 68\n",
      "E e 69\n",
      "F f 70\n",
      "G g 71\n",
      "H h 72\n",
      "I i 73\n",
      "J j 74\n",
      "K k 75\n",
      "L l 76\n",
      "M m 77\n",
      "N n 78\n",
      "O o 79\n",
      "P p 80\n",
      "Q q 81\n",
      "R r 82\n",
      "S s 83\n",
      "T t 84\n",
      "U u 85\n",
      "V v 86\n",
      "W w 87\n",
      "X x 88\n",
      "Y y 89\n",
      "Z z 90\n",
      "C c 67\n",
      "D d 68\n",
      "E e 69\n",
      "F f 70\n",
      "G g 71\n",
      "H h 72\n",
      "I i 73\n",
      "J j 74\n",
      "K k 75\n",
      "L l 76\n",
      "M m 77\n",
      "N n 78\n",
      "O o 79\n",
      "P p 80\n",
      "Q q 81\n",
      "R r 82\n",
      "S s 83\n",
      "T t 84\n",
      "U u 85\n",
      "V v 86\n",
      "W w 87\n",
      "X x 88\n",
      "Y y 89\n",
      "Z z 90\n",
      "[ [ 91\n",
      "\\ \\ 92\n",
      "] ] 93\n",
      "^ ^ 94\n",
      "_ _ 95\n",
      "` ` 96\n",
      "a a 97\n",
      "b b 98\n",
      "c c 99\n",
      "d d 100\n",
      "e e 101\n",
      "f f 102\n",
      "g g 103\n",
      "h h 104\n",
      "i i 105\n",
      "j j 106\n",
      "k k 107\n",
      "l l 108\n",
      "m m 109\n",
      "n n 110\n",
      "o o 111\n",
      "p p 112\n",
      "q q 113\n",
      "r r 114\n",
      "s s 115\n",
      "t t 116\n",
      "u u 117\n",
      "v v 118\n",
      "w w 119\n",
      "x x 120\n",
      "y y 121\n",
      "z z 122\n",
      "0 0 48\n",
      "1 1 49\n",
      "2 2 50\n",
      "3 3 51\n",
      "4 4 52\n",
      "5 5 53\n",
      "6 6 54\n",
      "7 7 55\n",
      "8 8 56\n",
      "9 9 57\n"
     ]
    }
   ],
   "source": [
    "for i in range(65,91):\n",
    "    print(chr(i), chr(i).lower(), i)\n",
    "for i in range(97,123):\n",
    "    print(chr(i), chr(i).lower(), i)\n",
    "for i in range(48,58):\n",
    "    print(chr(i), chr(i).lower(), i)"
   ]
  },
  {
   "cell_type": "code",
   "execution_count": 85,
   "metadata": {},
   "outputs": [
    {
     "name": "stdout",
     "output_type": "stream",
     "text": [
      "0 0 48 (line: 1)\n",
      "1 1 49 (line: 2)\n",
      "2 2 50 (line: 3)\n",
      "3 3 51 (line: 4)\n",
      "4 4 52 (line: 5)\n",
      "5 5 53 (line: 6)\n",
      "6 6 54 (line: 7)\n",
      "7 7 55 (line: 8)\n",
      "8 8 56 (line: 9)\n",
      "9 9 57 (line: 10)\n",
      "A a 65 (line: 11)\n",
      "B b 66 (line: 12)\n",
      "C c 67 (line: 13)\n",
      "D d 68 (line: 14)\n",
      "E e 69 (line: 15)\n",
      "F f 70 (line: 16)\n",
      "G g 71 (line: 17)\n",
      "H h 72 (line: 18)\n",
      "I i 73 (line: 19)\n",
      "J j 74 (line: 20)\n",
      "K k 75 (line: 21)\n",
      "L l 76 (line: 22)\n",
      "M m 77 (line: 23)\n",
      "N n 78 (line: 24)\n",
      "O o 79 (line: 25)\n",
      "P p 80 (line: 26)\n",
      "Q q 81 (line: 27)\n",
      "R r 82 (line: 28)\n",
      "S s 83 (line: 29)\n",
      "T t 84 (line: 30)\n",
      "U u 85 (line: 31)\n",
      "V v 86 (line: 32)\n",
      "W w 87 (line: 33)\n",
      "X x 88 (line: 34)\n",
      "Y y 89 (line: 35)\n",
      "Z z 90 (line: 36)\n",
      "a a 97 (line: 37)\n",
      "b b 98 (line: 38)\n",
      "c c 99 (line: 39)\n",
      "d d 100 (line: 40)\n",
      "e e 101 (line: 41)\n",
      "f f 102 (line: 42)\n",
      "g g 103 (line: 43)\n",
      "h h 104 (line: 44)\n",
      "i i 105 (line: 45)\n",
      "j j 106 (line: 46)\n",
      "k k 107 (line: 47)\n",
      "l l 108 (line: 48)\n",
      "m m 109 (line: 49)\n",
      "n n 110 (line: 50)\n",
      "o o 111 (line: 51)\n",
      "p p 112 (line: 52)\n",
      "q q 113 (line: 53)\n",
      "r r 114 (line: 54)\n",
      "s s 115 (line: 55)\n",
      "t t 116 (line: 56)\n",
      "u u 117 (line: 57)\n",
      "v v 118 (line: 58)\n",
      "w w 119 (line: 59)\n",
      "x x 120 (line: 60)\n",
      "y y 121 (line: 61)\n",
      "z z 122 (line: 62)\n"
     ]
    }
   ],
   "source": [
    "count = 0\n",
    "for i in range(48,123):\n",
    "    if i in range(58,65) or i in range(91,97):\n",
    "        continue\n",
    "    count +=1\n",
    "    print(chr(i), chr(i).lower(), i, \"(line: {})\".format(count))#count for line count\n",
    "    \n",
    "# or simply\n",
    "    \"\"\"\n",
    "    for i in range(48,123):\n",
    "        if i in range(58,65) or i in range(91,97):\n",
    "            continue\n",
    "        print(chr(i), chr(i).lower(), i)\n",
    "\n",
    "    \"\"\""
   ]
  },
  {
   "cell_type": "markdown",
   "metadata": {},
   "source": [
    "3. take input from user \n",
    "if user enter 3\n",
    "\n",
    "then your output:\n",
    "    \n",
    "1 X 1 =    2 x 1 =     3 x 1 = \n",
    "1 X 2 =    2 x 2 =     3 x 2 = \n",
    "1 X 3 =    2 x 3 =     3 x 3 = \n",
    "1 X 4 =    2 x 4 =     3 x 4 = \n",
    "1 X 5 =    2 x 5 =     3 x 5 = \n",
    "1 X 6 =    2 x 6 =     3 x 6 = \n",
    "1 X 7 =    2 x 7 =     3 x 7 = \n",
    "1 X 8 =    2 x 8 =     3 x 8 = \n",
    "1 X 9 =    2 x 9 =     3 x 9 = \n",
    "1 X 10 =    2 x 10 =     3 x 10 = "
   ]
  },
  {
   "cell_type": "code",
   "execution_count": 13,
   "metadata": {
    "scrolled": true
   },
   "outputs": [
    {
     "name": "stdout",
     "output_type": "stream",
     "text": [
      "enter number3\n",
      "1 X 1 = 1\t2 X 1 = 2\t3 X 1 = 3\t\n",
      "1 X 2 = 2\t2 X 2 = 4\t3 X 2 = 6\t\n",
      "1 X 3 = 3\t2 X 3 = 6\t3 X 3 = 9\t\n",
      "1 X 4 = 4\t2 X 4 = 8\t3 X 4 = 12\t\n",
      "1 X 5 = 5\t2 X 5 = 10\t3 X 5 = 15\t\n",
      "1 X 6 = 6\t2 X 6 = 12\t3 X 6 = 18\t\n",
      "1 X 7 = 7\t2 X 7 = 14\t3 X 7 = 21\t\n",
      "1 X 8 = 8\t2 X 8 = 16\t3 X 8 = 24\t\n",
      "1 X 9 = 9\t2 X 9 = 18\t3 X 9 = 27\t\n",
      "1 X 10 = 10\t2 X 10 = 20\t3 X 10 = 30\t\n"
     ]
    }
   ],
   "source": [
    "num = int(input(\"enter number\"))\n",
    "for i in range(1,11):\n",
    "    for num in range(1,num+1):\n",
    "        print(num, \"X\", i, \"=\", str(num*i), end = \"\\t\")\n",
    "    print()\n"
   ]
  },
  {
   "cell_type": "code",
   "execution_count": 3,
   "metadata": {},
   "outputs": [
    {
     "name": "stdout",
     "output_type": "stream",
     "text": [
      "Enter Number3\n",
      "1X1=1 hi\t2X1=2 hi\t3X1=3 hi\t\n",
      "1X2=2 hi\t2X2=4 hi\t3X2=6 hi\t\n",
      "1X3=3 hi\t2X3=6 hi\t3X3=9 hi\t\n",
      "1X4=4 hi\t2X4=8 hi\t3X4=12 hi\t\n",
      "1X5=5 hi\t2X5=10 hi\t3X5=15 hi\t\n",
      "1X6=6 hi\t2X6=12 hi\t3X6=18 hi\t\n",
      "1X7=7 hi\t2X7=14 hi\t3X7=21 hi\t\n",
      "1X8=8 hi\t2X8=16 hi\t3X8=24 hi\t\n",
      "1X9=9 hi\t2X9=18 hi\t3X9=27 hi\t\n",
      "1X10=10 hi\t2X10=20 hi\t3X10=30 hi\t\n"
     ]
    }
   ],
   "source": [
    "\n",
    "user = int(input(\"Enter Number\"))\n",
    "for r in range(1,11):\n",
    "    for t in range(1, user+1):\n",
    "        print(f'{t}X{r}={r*t} hi', end='\\t')\n",
    "    print()"
   ]
  },
  {
   "cell_type": "markdown",
   "metadata": {},
   "source": [
    "return row and coloumn number of each number divisible by 5\n",
    "[[2,5,9],\n",
    "[8,9,10],\n",
    "[20,30,27],\n",
    "[35,9,20]]\n",
    "\n",
    "output:\n",
    "[[(1,1)]]\n",
    "[(2,2)]\n",
    "[(3,0),(3,1)]\n",
    "[(4,1),(4,2)]"
   ]
  },
  {
   "cell_type": "code",
   "execution_count": 52,
   "metadata": {},
   "outputs": [
    {
     "name": "stdout",
     "output_type": "stream",
     "text": [
      "(0, 1, 5) \n",
      "(1, 2, 10) \n",
      "(2, 0, 20) (2, 1, 30) \n",
      "(3, 0, 35) (3, 2, 20) \n"
     ]
    }
   ],
   "source": [
    "l = [[2,5,9],\n",
    "[8,9,10],\n",
    "[20,30,27],\n",
    "[35,9,20]]\n",
    "\n",
    "for ri, r in enumerate(l):\n",
    "    for ci, c in enumerate(r):\n",
    "        if c%5 == 0:\n",
    "            print((ri,ci,c), end = \" \")\n",
    "    print()\n",
    "        "
   ]
  },
  {
   "cell_type": "code",
   "execution_count": 35,
   "metadata": {},
   "outputs": [
    {
     "data": {
      "text/plain": [
       "[(0, 3), (1, 4), (2, 6)]"
      ]
     },
     "execution_count": 35,
     "metadata": {},
     "output_type": "execute_result"
    }
   ],
   "source": [
    "list(enumerate([3,4,6]))"
   ]
  },
  {
   "cell_type": "code",
   "execution_count": 92,
   "metadata": {},
   "outputs": [
    {
     "name": "stdout",
     "output_type": "stream",
     "text": [
      "5\n",
      "7\n",
      "10\n",
      "14\n",
      "15\n",
      "20\n",
      "21\n",
      "25\n",
      "28\n",
      "30\n",
      "35\n",
      "40\n",
      "42\n",
      "45\n",
      "49\n",
      "50\n",
      "55\n",
      "56\n",
      "60\n",
      "63\n",
      "65\n",
      "70\n",
      "75\n",
      "77\n",
      "80\n",
      "84\n",
      "85\n",
      "90\n",
      "91\n",
      "95\n",
      "98\n",
      "100\n",
      "105\n",
      "110\n",
      "112\n",
      "115\n",
      "119\n",
      "120\n",
      "125\n",
      "126\n",
      "130\n",
      "133\n",
      "135\n",
      "140\n",
      "145\n",
      "147\n",
      "150\n",
      "154\n",
      "155\n",
      "160\n",
      "161\n",
      "165\n",
      "168\n",
      "170\n",
      "175\n",
      "180\n",
      "182\n",
      "185\n",
      "189\n",
      "190\n",
      "195\n",
      "196\n",
      "200\n",
      "203\n",
      "205\n",
      "210\n",
      "215\n",
      "217\n",
      "220\n",
      "224\n",
      "225\n",
      "230\n",
      "231\n",
      "235\n",
      "238\n",
      "240\n",
      "245\n",
      "250\n",
      "252\n",
      "255\n",
      "259\n",
      "260\n",
      "265\n",
      "266\n",
      "270\n",
      "273\n",
      "275\n",
      "280\n",
      "285\n",
      "287\n",
      "290\n",
      "294\n",
      "295\n",
      "300\n",
      "301\n",
      "305\n",
      "308\n",
      "310\n",
      "315\n",
      "320\n",
      "322\n",
      "325\n",
      "329\n",
      "330\n",
      "335\n",
      "336\n",
      "340\n",
      "343\n",
      "345\n",
      "350\n",
      "355\n",
      "357\n",
      "360\n",
      "364\n",
      "365\n",
      "370\n",
      "371\n",
      "375\n",
      "378\n",
      "380\n",
      "385\n",
      "390\n",
      "392\n",
      "395\n",
      "399\n",
      "400\n",
      "405\n",
      "406\n",
      "410\n",
      "413\n",
      "415\n",
      "420\n",
      "425\n",
      "427\n",
      "430\n",
      "434\n",
      "435\n",
      "440\n",
      "441\n",
      "445\n",
      "448\n",
      "450\n",
      "455\n",
      "460\n",
      "462\n",
      "465\n",
      "469\n",
      "470\n",
      "475\n",
      "476\n",
      "480\n",
      "483\n",
      "485\n",
      "490\n",
      "495\n",
      "497\n",
      "500\n",
      "504\n",
      "505\n",
      "510\n",
      "511\n",
      "515\n",
      "518\n",
      "520\n",
      "525\n",
      "530\n",
      "532\n",
      "535\n",
      "539\n",
      "540\n",
      "545\n",
      "546\n",
      "550\n",
      "553\n",
      "555\n",
      "560\n",
      "565\n",
      "567\n",
      "570\n",
      "574\n",
      "575\n",
      "580\n",
      "581\n",
      "585\n",
      "588\n",
      "590\n",
      "595\n",
      "600\n",
      "602\n",
      "605\n",
      "609\n",
      "610\n",
      "615\n",
      "616\n",
      "620\n",
      "623\n",
      "625\n",
      "630\n",
      "635\n",
      "637\n",
      "640\n",
      "644\n",
      "645\n",
      "650\n",
      "651\n",
      "655\n",
      "658\n",
      "660\n",
      "665\n",
      "670\n",
      "672\n",
      "675\n",
      "679\n",
      "680\n",
      "685\n",
      "686\n",
      "690\n",
      "693\n",
      "695\n",
      "700\n",
      "705\n",
      "707\n",
      "710\n",
      "714\n",
      "715\n",
      "720\n",
      "721\n",
      "725\n",
      "728\n",
      "730\n",
      "735\n",
      "740\n",
      "742\n",
      "745\n",
      "749\n",
      "750\n",
      "755\n",
      "756\n",
      "760\n",
      "763\n",
      "765\n",
      "770\n",
      "775\n",
      "777\n",
      "780\n",
      "784\n",
      "785\n",
      "790\n",
      "791\n",
      "795\n",
      "798\n",
      "800\n",
      "805\n",
      "810\n",
      "812\n",
      "815\n",
      "819\n",
      "820\n",
      "825\n",
      "826\n",
      "830\n",
      "833\n",
      "835\n",
      "840\n",
      "845\n",
      "847\n",
      "850\n",
      "854\n",
      "855\n",
      "860\n",
      "861\n",
      "865\n",
      "868\n",
      "870\n",
      "875\n",
      "880\n",
      "882\n",
      "885\n",
      "889\n",
      "890\n",
      "895\n",
      "896\n",
      "900\n",
      "903\n",
      "905\n",
      "910\n",
      "915\n",
      "917\n",
      "920\n",
      "924\n",
      "925\n",
      "930\n",
      "931\n",
      "935\n",
      "938\n",
      "940\n",
      "945\n",
      "950\n",
      "952\n",
      "955\n",
      "959\n",
      "960\n",
      "965\n",
      "966\n",
      "970\n",
      "973\n",
      "975\n",
      "980\n",
      "985\n",
      "987\n",
      "990\n",
      "994\n",
      "995\n",
      "1000\n"
     ]
    }
   ],
   "source": [
    "#5,7,20, 1-1000\n",
    "for i in range(1,1001):\n",
    "    if i % 5 == 0 or i%20 == 0 or i%7 == 0:\n",
    "        print(i)"
   ]
  },
  {
   "cell_type": "code",
   "execution_count": 23,
   "metadata": {},
   "outputs": [
    {
     "name": "stdout",
     "output_type": "stream",
     "text": [
      "direct mkt\n"
     ]
    }
   ],
   "source": [
    "# 3 characters taking input\n",
    "initiative = \"you\" #or friend or girl\n",
    "rich = True\n",
    "slap = False\n",
    "husband = True\n",
    "\n",
    "if initiative == \"you\":\n",
    "    if rich == True and slap == False:\n",
    "        print(\"direct mkt\")\n",
    "    elif rich == True and slap == True:\n",
    "        print(\"feedback\")\n",
    "    elif husband == True:\n",
    "        print(\"demand and supply gap\")\n",
    "\n",
    "elif initiative == \"friend\":\n",
    "    print(\"add\")\n",
    "elif initiative == \"girl\":\n",
    "    if rich == True:\n",
    "        print(\"brand recognition\")\n",
    "else:\n",
    "    print(\"cant enter new market\")\n"
   ]
  },
  {
   "cell_type": "code",
   "execution_count": 28,
   "metadata": {},
   "outputs": [
    {
     "name": "stdout",
     "output_type": "stream",
     "text": [
      "(0, 0)\n",
      "(0, 1)\n",
      "(1, 0)\n",
      "(1, 1)\n",
      "(2, 0)\n",
      "(2, 1)\n",
      "[(0, ('Matt', 20)), (1, ('Karim', 30)), (2, ('Maya', 40))]\n"
     ]
    }
   ],
   "source": [
    "L = [('Matt', 20), ('Karim', 30), ('Maya', 40)]\n",
    "for row, sublist in enumerate(L):\n",
    "    for column, item in enumerate(sublist):\n",
    "        if item:\n",
    "            print((row, column))\n",
    "print(list(enumerate(L)))"
   ]
  },
  {
   "cell_type": "code",
   "execution_count": 93,
   "metadata": {},
   "outputs": [
    {
     "name": "stdout",
     "output_type": "stream",
     "text": [
      "no\n",
      "no\n",
      "1 0 Karim\n",
      "no\n",
      "no\n",
      "no\n"
     ]
    }
   ],
   "source": [
    "L = [('Matt', 20), ('Karim', 30), ('Maya', 40)]\n",
    "\n",
    "for ri, r in enumerate(L):\n",
    "    for ci, c in enumerate(r):\n",
    "        if c == \"Karim\":\n",
    "            print(ri,ci,c)\n",
    "        else:\n",
    "            print(\"no\")\n",
    "        "
   ]
  },
  {
   "cell_type": "code",
   "execution_count": 4,
   "metadata": {},
   "outputs": [
    {
     "name": "stdout",
     "output_type": "stream",
     "text": [
      "The converted list of list : [[5, 6]]\n"
     ]
    }
   ],
   "source": [
    "test_list = [(1, 2), (3, 4), (5, 6)] \n",
    "\n",
    "for ele in test_list:\n",
    "    res = [list(ele)] \n",
    "print(\"The converted list of list : \"+ str(res)) "
   ]
  },
  {
   "cell_type": "code",
   "execution_count": 5,
   "metadata": {},
   "outputs": [
    {
     "name": "stdout",
     "output_type": "stream",
     "text": [
      "The converted list of list : [[1, 2], [3, 4], [5, 6]]\n"
     ]
    }
   ],
   "source": [
    "test_list = [(1, 2), (3, 4), (5, 6)] \n",
    "\n",
    "res = [list(ele) for ele in test_list]\n",
    "print(\"The converted list of list : \" + str(res)) "
   ]
  },
  {
   "cell_type": "code",
   "execution_count": 17,
   "metadata": {},
   "outputs": [
    {
     "data": {
      "text/plain": [
       "True"
      ]
     },
     "execution_count": 17,
     "metadata": {},
     "output_type": "execute_result"
    }
   ],
   "source": [
    "l = [\"karachi\",\"lahore\",\"isb\",\"rwp\"]\n",
    "\"rwp\" in l"
   ]
  }
 ],
 "metadata": {
  "kernelspec": {
   "display_name": "Python 3",
   "language": "python",
   "name": "python3"
  },
  "language_info": {
   "codemirror_mode": {
    "name": "ipython",
    "version": 3
   },
   "file_extension": ".py",
   "mimetype": "text/x-python",
   "name": "python",
   "nbconvert_exporter": "python",
   "pygments_lexer": "ipython3",
   "version": "3.7.3"
  }
 },
 "nbformat": 4,
 "nbformat_minor": 2
}
