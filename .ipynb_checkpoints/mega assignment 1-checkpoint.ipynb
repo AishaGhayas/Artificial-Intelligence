{
 "cells": [
  {
   "cell_type": "markdown",
   "metadata": {},
   "source": [
    "### sir i didn't understand Q28,29,30,31,44,45. Kindly help with it"
   ]
  },
  {
   "cell_type": "raw",
   "metadata": {},
   "source": [
    "1. Which of the following terms are related to dictionaries?\n",
    "    a. value\n",
    "    b. item    -->ans\n",
    "    c. index\n",
    "    d. key\n",
    "\n",
    "2. Just like lists, + operator is used to extend dictionaries?\n",
    "    a. True\n",
    "    b. False   -->ans\n",
    "    \n",
    "3. To access items from a dictionary, we specify the index of that item within [] like myDict[0]?\n",
    "    a. True\n",
    "    b. False   -->ans\n",
    "    \n",
    "4. When we use [] to access the value from a dictionary which does not exist in that dictionary….?\n",
    "    a. Value within [] is added to the dictionary\n",
    "    b. Value None is returned\n",
    "    c. New dictionary is created\n",
    "    d. None of above                 -->ans\n",
    "    \n",
    "5. What does return the pop method of a dictionary?\n",
    "    a. list\n",
    "    b. tuple containing the pair of last item of the dictionary\n",
    "    c. dictionary\n",
    "    d. value of the key, if it exists in the dictionary         -->ans\n",
    "    \n",
    "6. What does return popitem method return?\n",
    "    a. dictionary\n",
    "    b. tupple containing the pair of last item of the dictionary      -->ans\n",
    "    c. list\n",
    "    d. value of key, if it exists in the dictionary\n",
    "    \n",
    "7. Which of the following 2 methods can be used to iterate through the items of a dictionary?\n",
    "    a. items()\n",
    "    b. values()   -->ans\n",
    "    c. indexes()\n",
    "    d. keys()     -->ans\n",
    "    \n",
    "8. Which one of the following is used to enclose a dictionary?\n",
    "    a. () parenthesis\n",
    "    b. {} curly brackets   -->ans\n",
    "    c. [] square brackets\n",
    "    d. “” quotation marks"
   ]
  },
  {
   "cell_type": "markdown",
   "metadata": {},
   "source": [
    "### 9. Write Python Program add key-value pair in dictionary and check if a Given Key or Value or Both Exists in a Dictionary or Not"
   ]
  },
  {
   "cell_type": "code",
   "execution_count": 31,
   "metadata": {},
   "outputs": [
    {
     "name": "stdout",
     "output_type": "stream",
     "text": [
      "key doesnot exist in dictionary\n",
      "yes value is present\n",
      "yes given key value pair is present\n"
     ]
    }
   ],
   "source": [
    "dic = {\n",
    "    1 : \"red\",\n",
    "    2 : \"green\",\n",
    "}\n",
    "dic[3] = \"blue\" # adding value to dict\n",
    "\n",
    "print(dic.get(4,\"key doesnot exist in dictionary\")) # check whether key is present or not\n",
    "\n",
    "if \"blue\" in dic.values(): # check whether value is present or not\n",
    "    print(\"yes value is present\")\n",
    "else:\n",
    "    print(\"value not present\")\n",
    "    \n",
    "for x, y in dic.items(): # check wether item exists or not\n",
    "    if x == 3 and y == \"blue\":\n",
    "        print(\"yes given key value pair is present\")"
   ]
  },
  {
   "cell_type": "markdown",
   "metadata": {},
   "source": [
    "### 10. Write a Python Program to Count the Frequency of Words Appearing in a String Using a Dictionary and print only the words having Even (divisible by 2) frequency."
   ]
  },
  {
   "cell_type": "code",
   "execution_count": 44,
   "metadata": {},
   "outputs": [
    {
     "name": "stdout",
     "output_type": "stream",
     "text": [
      "{'warm': 2, 'weather': 2, 'clothes': 1, 'cold': 2, 'hands': 1}\n",
      "warm\n",
      "weather\n",
      "cold\n"
     ]
    }
   ],
   "source": [
    "string = \"warm weather, warm clothes, cold weather, cold hands\"\n",
    "dic = {}\n",
    "dic[\"warm\"] = string.count(\"warm\")\n",
    "dic[\"weather\"] = string.count(\"weather\")\n",
    "dic[\"clothes\"] = string.count(\"clothes\")\n",
    "dic[\"cold\"] = string.count(\"cold\")\n",
    "dic[\"hands\"] = string.count(\"hands\")\n",
    "print(dic)\n",
    "\n",
    "for i in dic.keys():\n",
    "    if dic[i]%2 == 0:\n",
    "        print(i)"
   ]
  },
  {
   "cell_type": "markdown",
   "metadata": {},
   "source": [
    "### 11. X = [\"Feb\", Apr, Mar, May, Jun, Jul, Aug, Jan]. What will be output of following?"
   ]
  },
  {
   "cell_type": "raw",
   "metadata": {},
   "source": [
    "X[0:3]  --> Feb, Apr, Mar\n",
    "X[2:8]  --> Mar, May, Jun, Jul, Aug, Jan\n",
    "X[4:9]  --> Jun, Jul, Aug, Jan\n",
    "X[1:7:2] --> Apr, May, Jul\n",
    "X[-1:-7] --> []\n",
    "X[-7:7]  --> Apr, Mar, May, Jun, Jul, Aug\n",
    "X[-1:-8:-2] -->  Apr, May, Jul, Jan\n",
    "X[:4] --> Feb, Apr, Mar, May"
   ]
  },
  {
   "cell_type": "markdown",
   "metadata": {},
   "source": [
    "### 12. Remove the correct number from the list X"
   ]
  },
  {
   "cell_type": "raw",
   "metadata": {},
   "source": [
    "X = [ 9,2,8,4,5]\n",
    "X__?__\n",
    "print (X)\n",
    "Output: [2,8,4,5]\n",
    "1) .delete(9)\n",
    "2) .rm(9)\n",
    "3) .remove(9)      -->> ans"
   ]
  },
  {
   "cell_type": "code",
   "execution_count": 65,
   "metadata": {},
   "outputs": [
    {
     "data": {
      "text/plain": [
       "[2, 8, 4, 5]"
      ]
     },
     "execution_count": 65,
     "metadata": {},
     "output_type": "execute_result"
    }
   ],
   "source": [
    "X = [ 9,2,8,4,5]\n",
    "X.remove(9)\n",
    "X"
   ]
  },
  {
   "cell_type": "markdown",
   "metadata": {},
   "source": [
    "### 13."
   ]
  },
  {
   "cell_type": "raw",
   "metadata": {},
   "source": [
    "13. p = 3\n",
    " q = 'hello! '\n",
    " print( q __?__ p)\n",
    " hello! hello! hello!\n",
    " 1) *                 --> ans\n",
    " 2) **\n",
    " 3) +"
   ]
  },
  {
   "cell_type": "code",
   "execution_count": 67,
   "metadata": {},
   "outputs": [
    {
     "name": "stdout",
     "output_type": "stream",
     "text": [
      "hello! hello! hello! \n"
     ]
    }
   ],
   "source": [
    "p = 3\n",
    "q = 'hello! '\n",
    "print( q*p)"
   ]
  },
  {
   "cell_type": "markdown",
   "metadata": {},
   "source": [
    "### 14."
   ]
  },
  {
   "cell_type": "raw",
   "metadata": {},
   "source": [
    "14. y = \"this is a random sentence\"\n",
    "print (y__?__)\n",
    "Output: THIS IS A RANDOM SENTENCE\n",
    "1) .upper()   --> ans\n",
    "2) .upcase()\n",
    "3) .capitalize()"
   ]
  },
  {
   "cell_type": "code",
   "execution_count": 69,
   "metadata": {},
   "outputs": [
    {
     "name": "stdout",
     "output_type": "stream",
     "text": [
      "THIS IS A RANDOM SENTENCE\n"
     ]
    }
   ],
   "source": [
    "y = \"this is a random sentence\"\n",
    "print (y.upper())"
   ]
  },
  {
   "cell_type": "markdown",
   "metadata": {},
   "source": [
    "### 15."
   ]
  },
  {
   "cell_type": "code",
   "execution_count": 72,
   "metadata": {},
   "outputs": [
    {
     "name": "stdout",
     "output_type": "stream",
     "text": [
      "<class 'bool'>\n",
      "<class 'str'>\n",
      "<class 'int'>\n",
      "<class 'float'>\n"
     ]
    }
   ],
   "source": [
    "p = True #bool\n",
    "q = \"True\" #string\n",
    "r = 2 #int\n",
    "s = 2.0 #float\n",
    "print(type(p))\n",
    "print(type(q))\n",
    "print(type(r))\n",
    "print(type(s))"
   ]
  },
  {
   "cell_type": "markdown",
   "metadata": {},
   "source": [
    "### 16."
   ]
  },
  {
   "cell_type": "raw",
   "metadata": {},
   "source": [
    "16. What are the optional arguments to the function?\n",
    "function_1(R1, q, p=None, R2= None)\n",
    "1) q and R2\n",
    "2) p and R2   --> ans\n",
    "3) p and R1\n",
    "4) R1 and q\n"
   ]
  },
  {
   "cell_type": "raw",
   "metadata": {},
   "source": [
    "17. Which command invokes method X() of the object p?\n",
    "1) X(p)\n",
    "2) p$x()\n",
    "3) X().p\n",
    "4) p.X()  --> ans\n",
    "\n",
    "18. X=4 , Y= 2\n",
    "print(X % Y)   --> 0\n",
    "print(X / Y)   --> 2.0\n",
    "print(X // Y)    --> 2 \n",
    "print(Y % X)   --> 2"
   ]
  },
  {
   "cell_type": "code",
   "execution_count": 79,
   "metadata": {},
   "outputs": [
    {
     "name": "stdout",
     "output_type": "stream",
     "text": [
      "2\n"
     ]
    }
   ],
   "source": [
    "X=4\n",
    "Y= 2\n",
    "print(Y % X)"
   ]
  },
  {
   "cell_type": "raw",
   "metadata": {},
   "source": [
    "19. x = [[4, 1, 1], [5, 9, 0]]\n",
    "for i in x:\n",
    " for j in i:\n",
    "  print(j)\n",
    "Output: \n",
    "4\n",
    "1\n",
    "1\n",
    "5\n",
    "9\n",
    "0\n",
    "\n",
    "x = [[4, 1, 1], [5, 9, 0]]           \n",
    "for i in __?__:\n",
    " for j in __?__:\n",
    " ?\n",
    "Output:                        -->> sir i can't get this output\n",
    "4 5\n",
    "1 9\n",
    "1 0\n",
    "\n",
    "x = [[4, 1, 1], [5, 9, 0]]\n",
    "for i in x:\n",
    " for j in i:\n",
    " print(j, end=\" \")\n",
    "Output: 4 1 1 5 9 0\n",
    "\n",
    "x = [[4, 1, 1], [5, 9, 0]]\n",
    "for i in x:\n",
    " for j in i:\n",
    " print(j, end=\" \")\n",
    "print()\n",
    "Output: 4 1 1\n",
    "5 9 0"
   ]
  },
  {
   "cell_type": "code",
   "execution_count": 82,
   "metadata": {},
   "outputs": [
    {
     "name": "stdout",
     "output_type": "stream",
     "text": [
      "4\n",
      "1\n",
      "1\n",
      "5\n",
      "9\n",
      "0\n"
     ]
    }
   ],
   "source": [
    "x = [[4, 1, 1], [5, 9, 0]]\n",
    "for i in x:\n",
    "    for j in i:\n",
    "        print(j)\n"
   ]
  },
  {
   "cell_type": "code",
   "execution_count": 120,
   "metadata": {},
   "outputs": [
    {
     "name": "stdout",
     "output_type": "stream",
     "text": [
      "4\n",
      "1\n",
      "1\n",
      "\n",
      "5\n",
      "9\n",
      "0\n",
      "\n"
     ]
    }
   ],
   "source": [
    "x = [[4, 1, 1], [5, 9, 0]]\n",
    "for i in x:\n",
    "    for j in i:\n",
    "        print(j, end=\"\\n\")\n",
    "    print()\n",
    "        \n",
    "#Output:\n",
    "#4 5\n",
    "#1 9\n",
    "#1 0\n",
    "\n",
    "## sir i can't get this output kindly help me with it"
   ]
  },
  {
   "cell_type": "code",
   "execution_count": 123,
   "metadata": {},
   "outputs": [
    {
     "name": "stdout",
     "output_type": "stream",
     "text": [
      "4\t1\t1\t5\t9\t0\t"
     ]
    }
   ],
   "source": [
    "x = [[4, 1, 1], [5, 9, 0]]\n",
    "for i in x:\n",
    "    for j in i:\n",
    "        print(j, end=\"\\t\")\n",
    "#Output: 4     1     1     5     9     0\n"
   ]
  },
  {
   "cell_type": "code",
   "execution_count": 122,
   "metadata": {},
   "outputs": [
    {
     "name": "stdout",
     "output_type": "stream",
     "text": [
      "4\t1\t1\t\n",
      "5\t9\t0\t\n"
     ]
    }
   ],
   "source": [
    "x = [[4, 1, 1], [5, 9, 0]]\n",
    "for i in x:\n",
    "    for j in i:\n",
    "        print(j, end=\"\\t\")\n",
    "    print()\n",
    "#Output: 4    1    1\n",
    "#5    9    0"
   ]
  },
  {
   "cell_type": "markdown",
   "metadata": {},
   "source": [
    "### 20. \n",
    "ans is 3. j"
   ]
  },
  {
   "cell_type": "raw",
   "metadata": {},
   "source": [
    "20. q = [10.62, 16.14, 6.45, 17.11]\n",
    "for __?__, z in enumerate (q) :\n",
    " print( ‘Item ‘ + str( j ) + ‘ - ‘, str ( z ))\n",
    "Output: Item 0 – 10.62\n",
    "Item 1 – 16.14\n",
    "Item 2 – 6.45\n",
    "Item 3 – 17.11\n",
    "1) z\n",
    "2) i\n",
    "3) j   --> ans\n",
    "4) x\n",
    "5) k\n",
    "6) y"
   ]
  },
  {
   "cell_type": "code",
   "execution_count": 127,
   "metadata": {},
   "outputs": [
    {
     "name": "stdout",
     "output_type": "stream",
     "text": [
      "Item 0 -  10.62\n",
      "Item 1 -  16.14\n",
      "Item 2 -  6.45\n",
      "Item 3 -  17.11\n"
     ]
    }
   ],
   "source": [
    "q = [10.62, 16.14, 6.45, 17.11]\n",
    "for j, z in enumerate (q) :\n",
    "    print(\"Item \" + str( j ) + \" - \", str ( z ))"
   ]
  },
  {
   "cell_type": "raw",
   "metadata": {},
   "source": [
    "21. Which of these about a dictionary is false?\n",
    "a) The values of a dictionary can be accessed using keys\n",
    "b) The keys of a dictionary can be accessed using values  --> ans\n",
    "c) Dictionaries aren’t ordered\n",
    "d) Dictionaries are mutable\n",
    "\n",
    "\n",
    "22. What is the output of the following:\n",
    "D = dict()\n",
    "for i in range (3):\n",
    " for j in range(2):\n",
    " D[i] = j\n",
    "a. {0: 1, 1: 1, 2: 1}   --> ans\n",
    "b. {1: 0, 1: 1, 1: 2}\n",
    "c. {0: 1, 1: 2, 2: 3}\n",
    "d. {1: 2, 1: 1, 1: 0}"
   ]
  },
  {
   "cell_type": "raw",
   "metadata": {},
   "source": [
    "23. You are writing a function that increments player score in a soccer game\n",
    "    If no value is specified for points, then point must start with 1\n",
    "    If no value is specified for bonus, then bonus should be True\n",
    "01 def increment_score ( bonus , score , points ):\n",
    "\n",
    "To meet the first requirement line 01 must be change to\n",
    "     def increment_score ( bonus , score , points = 1 ): (True or False) -->> True\n",
    "To meet the second requirement line 01 must be change to\n",
    "     def increment_score ( bonus = True , score , points = 1 ): (True or False) -->> False\n",
    "     Once a parameter is defined with default value, any parameter to the right must also be defined\n",
    "        with default values (True or False)  -->> True"
   ]
  },
  {
   "cell_type": "raw",
   "metadata": {},
   "source": [
    "24. What will be output?\n",
    "def avg ( x , y , z = 50 ):\n",
    "adding = x + y + z\n",
    "avg_value = adding / 3\n",
    "return avg_value\n",
    "y = avg ( x = 5 , y = 9 , z = 20 )\n",
    "print(y)\n",
    "\n",
    "ans: output = 11.34"
   ]
  },
  {
   "cell_type": "raw",
   "metadata": {},
   "source": [
    "25. What will be output? Describe it with reason and logic behind. Do multiple experiments with arguments / parameters to remove error, if occurs.\n",
    "def avg ( *opt_values , name ):\n",
    "avg_value = sum (opt_values) / len(opt_values)\n",
    "print(‘name is: ’ + name + ‘Marks: ’ + str(avg_value))\n",
    "avg ( 5 , 9 , 20, 34, 87, 112 , ‘Ali’ )"
   ]
  },
  {
   "cell_type": "code",
   "execution_count": 156,
   "metadata": {},
   "outputs": [
    {
     "name": "stdout",
     "output_type": "stream",
     "text": [
      "name is: AliMarks: 44.5\n"
     ]
    }
   ],
   "source": [
    "def avg (opt_values , name ):\n",
    "    avg_value = sum (opt_values) / len(opt_values)  # sum of all the values in the list then divided by its length i.e.6\n",
    "    print(\"name is: \" + name + \"Marks: \" + str(avg_value))\n",
    "\n",
    "avg ( [5 , 9 , 20, 34, 87, 112] , \"Ali\" )  #list is passed to the parameter opt_values"
   ]
  },
  {
   "cell_type": "markdown",
   "metadata": {},
   "source": [
    "### 26. \n",
    "Final output is not required. Just take copy pencil, think and write the output of each line, write\n",
    "down the link between parameters and arguments. Remove one or two ** from other_info and\n",
    "observe the ouput."
   ]
  },
  {
   "cell_type": "code",
   "execution_count": 175,
   "metadata": {},
   "outputs": [
    {
     "name": "stdout",
     "output_type": "stream",
     "text": [
      "The winner was Manchester\n",
      "The score was 1-0\n",
      "{'overtime': 'yes', 'injuries': 'none'}\n"
     ]
    }
   ],
   "source": [
    "def display_result(winner, score, **other_info): #** converts the parametes into dict as shown below\n",
    "    print(\"The winner was \" + winner)\n",
    "    print(\"The score was \" + score)\n",
    "    print(other_info)\n",
    "display_result(winner=\"Manchester\", score=\"1-0\", overtime =\"yes\", injuries=\"none\") "
   ]
  },
  {
   "cell_type": "code",
   "execution_count": 167,
   "metadata": {},
   "outputs": [
    {
     "name": "stdout",
     "output_type": "stream",
     "text": [
      "{'overtime': 'yes', 'injuries': 'none'}\n"
     ]
    }
   ],
   "source": [
    "other_info = dict(overtime =\"yes\", injuries=\"none\") # ** converts keyword arguments into dictionary\n",
    "print(other_info)"
   ]
  },
  {
   "cell_type": "raw",
   "metadata": {},
   "source": [
    "27. The position of parameters and arguments is re-arranged. Just think and find the logic behind\n",
    "output or error.\n",
    "def display_result(winner, **other_info, score):\n",
    "print(\"The winner was \" + winner)\n",
    "print(\"The score was \" + score)\n",
    "display_result(winner=“Manchester\", overtime =\"yes\", injuries=\"none“ , score=\"1-0“ ) "
   ]
  },
  {
   "cell_type": "code",
   "execution_count": 185,
   "metadata": {},
   "outputs": [
    {
     "name": "stdout",
     "output_type": "stream",
     "text": [
      "The winner was Manchester\n",
      "The score was 1-0\n"
     ]
    }
   ],
   "source": [
    "def display_result(winner,score, **other_info): #**other_info should be in the end so dict could be made from ramining arguments\n",
    "    print(\"The winner was \" + winner)\n",
    "    print(\"The score was \" + score)\n",
    "display_result(winner=\"Manchester\", overtime =\"yes\", injuries=\"none\" , score=\"1-0\") "
   ]
  },
  {
   "cell_type": "markdown",
   "metadata": {},
   "source": [
    "# sir i didn't understand Q28,29,30. Kindly help with it"
   ]
  },
  {
   "cell_type": "raw",
   "metadata": {},
   "source": [
    "28. What will be the output of the following Python expression if X=123?\n",
    "print(\"%06d\"%X)\n",
    "a) 123000\n",
    "b) 000123  -->> ans\n",
    "c) 000000123\n",
    "d) 123000000"
   ]
  },
  {
   "cell_type": "code",
   "execution_count": 186,
   "metadata": {},
   "outputs": [
    {
     "name": "stdout",
     "output_type": "stream",
     "text": [
      "000123\n"
     ]
    }
   ],
   "source": [
    "X=123\n",
    "print(\"%06d\"%X)"
   ]
  },
  {
   "cell_type": "markdown",
   "metadata": {},
   "source": [
    "### 29. What will be the output of the following Python expression if x=22.19?\n",
    "print(\"%5.2f\"%x)"
   ]
  },
  {
   "cell_type": "code",
   "execution_count": 187,
   "metadata": {},
   "outputs": [
    {
     "name": "stdout",
     "output_type": "stream",
     "text": [
      "22.19\n"
     ]
    }
   ],
   "source": [
    "x=22.19\n",
    "print(\"%5.2f\"%x)"
   ]
  },
  {
   "cell_type": "markdown",
   "metadata": {},
   "source": [
    "### 30. What will be the output of the following Python code?"
   ]
  },
  {
   "cell_type": "code",
   "execution_count": 188,
   "metadata": {},
   "outputs": [
    {
     "data": {
      "text/plain": [
       "'1.234560, 1.234560, 01.23'"
      ]
     },
     "execution_count": 188,
     "metadata": {},
     "output_type": "execute_result"
    }
   ],
   "source": [
    "'{0:f}, {1:2f}, {2:05.2f}'.format(1.23456, 1.23456, 1.23456)"
   ]
  },
  {
   "cell_type": "code",
   "execution_count": null,
   "metadata": {},
   "outputs": [],
   "source": [
    "31."
   ]
  },
  {
   "cell_type": "code",
   "execution_count": 273,
   "metadata": {},
   "outputs": [],
   "source": [
    "i = 5\n",
    "while x == False:\n",
    "    if i%2 == 0:\n",
    "        break\n",
    "    print(i)\n",
    "    i += 2"
   ]
  },
  {
   "cell_type": "raw",
   "metadata": {},
   "source": [
    "32. Write down the output of each line after each iterations. Do multiple experiments to change values\n",
    "x = \"abcdef\"\n",
    "i = \"a\"\n",
    "while i in x:\n",
    " x = x[:-1]\n",
    " print(i, end = \" \")"
   ]
  },
  {
   "cell_type": "code",
   "execution_count": 203,
   "metadata": {},
   "outputs": [
    {
     "name": "stdout",
     "output_type": "stream",
     "text": [
      "abcde abcd abc ab a  "
     ]
    }
   ],
   "source": [
    "x = \"abcdef\"\n",
    "i = \"a\"\n",
    "while i in x:\n",
    "    x = x[:-1]\n",
    "    print(x, end = \" \")\n",
    "# each time the loop runs string is getting shorter by ommiting last letter hence it runs 5 times unless only a remains in the string"
   ]
  },
  {
   "cell_type": "code",
   "execution_count": 211,
   "metadata": {},
   "outputs": [
    {
     "name": "stdout",
     "output_type": "stream",
     "text": [
      "d\n",
      "c\n",
      "b\n",
      "a\n"
     ]
    }
   ],
   "source": [
    "for i in ''.join(reversed(list('abcd'))):\n",
    "    print(i)"
   ]
  },
  {
   "cell_type": "code",
   "execution_count": 213,
   "metadata": {},
   "outputs": [
    {
     "data": {
      "text/plain": [
       "'d c b a'"
      ]
     },
     "execution_count": 213,
     "metadata": {},
     "output_type": "execute_result"
    }
   ],
   "source": [
    "' '.join(reversed(list('abcd'))) #string abcd is converted into list of alphabets then the list is reversed as dcba and then these elements are concatenated with space between them"
   ]
  },
  {
   "cell_type": "raw",
   "metadata": {},
   "source": [
    "34. Flow of the program. Write the output of each line after every iteration of ‘i’\n",
    "for i in range(10):\n",
    " if i == 5:\n",
    " break\n",
    " else:\n",
    " print(i)\n",
    "else:\n",
    " print(\"Here\")"
   ]
  },
  {
   "cell_type": "code",
   "execution_count": 224,
   "metadata": {},
   "outputs": [
    {
     "name": "stdout",
     "output_type": "stream",
     "text": [
      "0\n",
      "1\n",
      "2\n",
      "3\n",
      "4\n"
     ]
    }
   ],
   "source": [
    "for i in range(10):\n",
    "    if i == 5: #for 0-4 else will run and print i and as soon as i == 5 loop breaks\n",
    "        break\n",
    "    else:\n",
    "        print(i)\n",
    "else:\n",
    "    print(\"Here\")"
   ]
  },
  {
   "cell_type": "raw",
   "metadata": {},
   "source": [
    "# 35. What is the output? And understand the functionality of lambda function\n",
    "y = 6\n",
    "z = lambda x: x * y\n",
    "print z(8)"
   ]
  },
  {
   "cell_type": "code",
   "execution_count": 228,
   "metadata": {},
   "outputs": [
    {
     "name": "stdout",
     "output_type": "stream",
     "text": [
      "30\n"
     ]
    }
   ],
   "source": [
    "y = 6\n",
    "z = lambda x: x * y #x receives value 5 then multiply by 6 and lambda returns 30\n",
    "print(z(5))"
   ]
  },
  {
   "cell_type": "raw",
   "metadata": {},
   "source": [
    "36. Write output and give proper logic of whatever the output comes.\n",
    "i=0\n",
    "def change(i):\n",
    " i=i+1\n",
    " return i\n",
    "change(1)\n",
    "print(i)"
   ]
  },
  {
   "cell_type": "code",
   "execution_count": 234,
   "metadata": {},
   "outputs": [
    {
     "name": "stdout",
     "output_type": "stream",
     "text": [
      "2\n"
     ]
    }
   ],
   "source": [
    "i=0\n",
    "def change(i):    #i = 1\n",
    "    i=i+1         # 2 = 1+1\n",
    "    return i      # 2\n",
    "print(change(1))"
   ]
  },
  {
   "cell_type": "markdown",
   "metadata": {},
   "source": [
    "### 40."
   ]
  },
  {
   "cell_type": "code",
   "execution_count": 237,
   "metadata": {},
   "outputs": [
    {
     "name": "stdout",
     "output_type": "stream",
     "text": [
      "<class 'tuple'>\n",
      "(2, 3, 4)\n"
     ]
    }
   ],
   "source": [
    "def change(one, *two):\n",
    "    print(type(two))\n",
    "    print(two)\n",
    "change(1,2,3,4) "
   ]
  },
  {
   "cell_type": "code",
   "execution_count": 238,
   "metadata": {},
   "outputs": [
    {
     "name": "stdout",
     "output_type": "stream",
     "text": [
      "<class 'dict'>\n"
     ]
    }
   ],
   "source": [
    "#41.\n",
    "def find(a, **b):\n",
    "    print(type(b)) #-->dict\n",
    "\n",
    "find('letters',A='1',B='2')"
   ]
  },
  {
   "cell_type": "code",
   "execution_count": 244,
   "metadata": {},
   "outputs": [
    {
     "name": "stdout",
     "output_type": "stream",
     "text": [
      "[0]\n",
      "[0, 1]\n",
      "[0, 1, 2]\n"
     ]
    }
   ],
   "source": [
    "#42.\n",
    "def foo(i, x=[]):\n",
    "    x.append(i)\n",
    "    return x\n",
    "for i in range(3): \n",
    "    print(foo(i))"
   ]
  },
  {
   "cell_type": "code",
   "execution_count": 246,
   "metadata": {},
   "outputs": [
    {
     "data": {
      "text/plain": [
       "15"
      ]
     },
     "execution_count": 246,
     "metadata": {},
     "output_type": "execute_result"
    }
   ],
   "source": [
    "#43.\n",
    "(3*(1+2)**2-(2**2)*3)\n",
    "#(3*(3)**2-(4)*3)\n",
    "#(3*9-12)\n",
    "#(27-12)\n",
    "#(15)"
   ]
  },
  {
   "cell_type": "raw",
   "metadata": {},
   "source": [
    "44.You are creating a function that manipulates a number. The function has the following requirements:\n",
    " A float is passed into the function\n",
    " The function must take the absolute value of the float\n",
    " Any decimal points after the integer must be removed\n",
    "A. math.fmod(x)\n",
    "B. math.frexp(x)\n",
    "C. math.floor(x)\n",
    "D. math.ceil(x)\n",
    "E. math.fabs(x)"
   ]
  },
  {
   "cell_type": "code",
   "execution_count": 271,
   "metadata": {},
   "outputs": [
    {
     "name": "stdout",
     "output_type": "stream",
     "text": [
      "7\n"
     ]
    }
   ],
   "source": [
    "def abcd(a):\n",
    "    z = int(abs(a))\n",
    "    print(z)\n",
    "abcd(7.233)"
   ]
  },
  {
   "cell_type": "raw",
   "metadata": {},
   "source": [
    "45. \n",
    "ans A,C"
   ]
  },
  {
   "cell_type": "raw",
   "metadata": {},
   "source": [
    "46. Write a program that receives marks from user and check the grade.\n",
    "Marks greater than equal to 90 then A grade\n",
    "Marks between 80 to 90, B grade\n",
    "Marks between 70 to 80, C grade\n",
    "Marks between 60 to 70, D grade\n",
    "Marks less than equal to 60 then E grade"
   ]
  },
  {
   "cell_type": "code",
   "execution_count": 272,
   "metadata": {},
   "outputs": [
    {
     "name": "stdout",
     "output_type": "stream",
     "text": [
      "enter marks: 77\n",
      "C\n"
     ]
    }
   ],
   "source": [
    "marks = int(input(\"enter marks: \"))\n",
    "if marks >= 90:\n",
    "    g = \"A\"\n",
    "elif marks >= 80:\n",
    "    g = \"B\"\n",
    "elif marks >= 70:\n",
    "    g = \"C\"\n",
    "elif marks > 60:\n",
    "    g = \"D\"\n",
    "elif marks <= 60:\n",
    "    g = \"E\"\n",
    "print(g)"
   ]
  },
  {
   "cell_type": "code",
   "execution_count": null,
   "metadata": {},
   "outputs": [],
   "source": [
    "ceil"
   ]
  }
 ],
 "metadata": {
  "kernelspec": {
   "display_name": "Python 3",
   "language": "python",
   "name": "python3"
  },
  "language_info": {
   "codemirror_mode": {
    "name": "ipython",
    "version": 3
   },
   "file_extension": ".py",
   "mimetype": "text/x-python",
   "name": "python",
   "nbconvert_exporter": "python",
   "pygments_lexer": "ipython3",
   "version": "3.7.3"
  }
 },
 "nbformat": 4,
 "nbformat_minor": 2
}
