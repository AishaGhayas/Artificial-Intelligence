{
 "cells": [
  {
   "cell_type": "code",
   "execution_count": 12,
   "metadata": {},
   "outputs": [
    {
     "name": "stdout",
     "output_type": "stream",
     "text": [
      "enter marks79\n",
      "C\n"
     ]
    }
   ],
   "source": [
    "m = int(input(\"enter marks\"))\n",
    "if m >= 90:\n",
    "    g = \"A\"\n",
    "elif m >= 80:\n",
    "    g = \"B\"\n",
    "elif m >= 70:\n",
    "    g = \"C\"\n",
    "elif m > 60:\n",
    "    g = \"D\"\n",
    "else:\n",
    "    g = \"E\"\n",
    "print(g)"
   ]
  },
  {
   "cell_type": "code",
   "execution_count": 2,
   "metadata": {},
   "outputs": [
    {
     "name": "stdout",
     "output_type": "stream",
     "text": [
      "enter marks80\n",
      "B\n"
     ]
    }
   ],
   "source": [
    "m = int(input(\"enter marks\"))\n",
    "if m >= 90:\n",
    "    g = \"A\"\n",
    "elif m in range(80,90):\n",
    "    g = \"B\"\n",
    "elif m in range(70,80):\n",
    "    g = \"C\"\n",
    "elif m in range(60,70):\n",
    "    g = \"D\"\n",
    "else:\n",
    "    g = \"E\"\n",
    "print(g)"
   ]
  },
  {
   "cell_type": "code",
   "execution_count": 7,
   "metadata": {},
   "outputs": [
    {
     "name": "stdout",
     "output_type": "stream",
     "text": [
      "enter rented dayff\n",
      "return time: 3\n",
      "if DVD is scratched enter yes else no yes\n",
      "$ 2.59\n"
     ]
    }
   ],
   "source": [
    "c = 1.59\n",
    "d = input(\"enter rented day\")\n",
    "r = int(input(\"return time: \"))\n",
    "s = input(\"if DVD is scratched enter yes else no \")\n",
    "if d == \"sunday\":\n",
    "    c = c*0.70\n",
    "    if s == \"yes\":\n",
    "        c = c + 2\n",
    "    if r >= 8:\n",
    "        c = c + 1.59\n",
    "elif d == \"thursday\":\n",
    "    c = c*0.50\n",
    "    if s == \"yes\":\n",
    "        c = c + 1\n",
    "    if r >= 8:\n",
    "        c = c + 1.59\n",
    "else:    \n",
    "    if r > 8:\n",
    "        c = c + c\n",
    "    if s == \"yes\":\n",
    "            c = c + 1\n",
    "print(\"$\",c)"
   ]
  },
  {
   "cell_type": "code",
   "execution_count": 11,
   "metadata": {},
   "outputs": [
    {
     "name": "stdout",
     "output_type": "stream",
     "text": [
      "0 1 2 \n",
      "\n",
      "0 2 4 \n",
      "\n",
      "0 3 6 \n",
      "\n",
      "0 4 8 \n",
      "\n"
     ]
    }
   ],
   "source": [
    "for i in range(1,5):\n",
    "    for j in range(0,3):\n",
    "        print(str(i*j), end = \" \")\n",
    "    print(\"\\n\")"
   ]
  },
  {
   "cell_type": "code",
   "execution_count": 15,
   "metadata": {},
   "outputs": [
    {
     "name": "stdout",
     "output_type": "stream",
     "text": [
      "['E7', 'E6', 'E5', 'E4', 'E3', 'E2']\n"
     ]
    }
   ],
   "source": [
    "emp = [\"E1\",\"E2\",\"E3\",\"E4\",\"E5\",\"E6\",\"E7\",\"M1\",\"M2\",\"M3\",\"M4\",\"M5\"]\n",
    "print(emp[-6:0:-1])"
   ]
  },
  {
   "cell_type": "code",
   "execution_count": null,
   "metadata": {},
   "outputs": [],
   "source": [
    "num = [1,2,3,4,5,6,7,8,9,10]\n",
    "i = 0\n",
    "while i<=10:\n",
    "    if num[i]==6:\n",
    "        print(i)\n",
    "    num[i+1]\n"
   ]
  },
  {
   "cell_type": "code",
   "execution_count": 4,
   "metadata": {},
   "outputs": [
    {
     "name": "stdout",
     "output_type": "stream",
     "text": [
      "1\n",
      "2\n",
      "3\n",
      "4\n",
      "5\n",
      "6\n"
     ]
    }
   ],
   "source": [
    "num = [1,2,3,4,5,6,7,8,9,10]\n",
    "i = 0\n",
    "while (i < 10):\n",
    "    print(num[i])\n",
    "    if num[i]==6:\n",
    "        break\n",
    "    else:\n",
    "        i += 1"
   ]
  },
  {
   "cell_type": "code",
   "execution_count": 10,
   "metadata": {},
   "outputs": [
    {
     "name": "stdout",
     "output_type": "stream",
     "text": [
      "5\n"
     ]
    }
   ],
   "source": [
    "if 6 in num:\n",
    "    print(num.index(6))"
   ]
  },
  {
   "cell_type": "markdown",
   "metadata": {},
   "source": [
    "# nested dictionaries\n",
    "data types for dictionaries:\n",
    "1. int\n",
    "2. str\n",
    "3. boolean\n",
    "4. float\n",
    "5. tupples"
   ]
  },
  {
   "cell_type": "code",
   "execution_count": 3,
   "metadata": {},
   "outputs": [],
   "source": [
    "data = {\n",
    "    \"name\": \"bob\",\n",
    "    \"age\": 33,\n",
    "    \"job\":\"Dev\"\n",
    "}"
   ]
  },
  {
   "cell_type": "code",
   "execution_count": 4,
   "metadata": {},
   "outputs": [
    {
     "data": {
      "text/plain": [
       "{'name': 'bob', 'age': 33, 'job': 'Dev', 'hobbies': ['reading', 'swimming']}"
      ]
     },
     "execution_count": 4,
     "metadata": {},
     "output_type": "execute_result"
    }
   ],
   "source": [
    "data[\"hobbies\"] = [\"reading\",\"swimming\"]\n",
    "data"
   ]
  },
  {
   "cell_type": "code",
   "execution_count": 6,
   "metadata": {},
   "outputs": [],
   "source": [
    "work = {\n",
    "    \"location\":\"pakistan\",\n",
    "    \"title\": \"developer\"\n",
    "}"
   ]
  },
  {
   "cell_type": "code",
   "execution_count": 8,
   "metadata": {},
   "outputs": [
    {
     "data": {
      "text/plain": [
       "{'name': 'bob',\n",
       " 'age': 33,\n",
       " 'job': 'Dev',\n",
       " 'hobbies': ['reading', 'swimming'],\n",
       " 'work': {'location': 'pakistan', 'title': 'developer'}}"
      ]
     },
     "execution_count": 8,
     "metadata": {},
     "output_type": "execute_result"
    }
   ],
   "source": [
    "data[\"work\"] = work #nested dict\n",
    "data"
   ]
  },
  {
   "cell_type": "code",
   "execution_count": 14,
   "metadata": {},
   "outputs": [
    {
     "data": {
      "text/plain": [
       "{'location': 'pakistan', 'title': 'developer'}"
      ]
     },
     "execution_count": 14,
     "metadata": {},
     "output_type": "execute_result"
    }
   ],
   "source": [
    "# data retrieval\n",
    "data[\"work\"]"
   ]
  },
  {
   "cell_type": "code",
   "execution_count": 11,
   "metadata": {},
   "outputs": [
    {
     "data": {
      "text/plain": [
       "{'location': 'pakistan', 'title': 'developer'}"
      ]
     },
     "execution_count": 11,
     "metadata": {},
     "output_type": "execute_result"
    }
   ],
   "source": [
    "data.get(\"work\")"
   ]
  },
  {
   "cell_type": "code",
   "execution_count": 13,
   "metadata": {},
   "outputs": [
    {
     "data": {
      "text/plain": [
       "'developer'"
      ]
     },
     "execution_count": 13,
     "metadata": {},
     "output_type": "execute_result"
    }
   ],
   "source": [
    "data[\"work\"][\"title\"]"
   ]
  },
  {
   "cell_type": "code",
   "execution_count": 24,
   "metadata": {},
   "outputs": [
    {
     "name": "stdout",
     "output_type": "stream",
     "text": [
      "enter namea\n",
      "enter marks of eng, maths, urdu1,2,3\n",
      "enter hobbies ',' seperated q,w\n",
      "enter data (yes/no)yes\n",
      "enter nameaisha\n",
      "enter marks of eng, maths, urdu22,33,44\n",
      "enter hobbies ',' seperated qq,ww\n",
      "enter data (yes/no)no\n",
      "[{'name': 'a', 'marks': {'1': 'eng', '2': 'maths', '3': 'urdu'}, 'hobbies': ['q', 'w']}, {'name': 'aisha', 'marks': {'22': 'eng', '33': 'maths', '44': 'urdu'}, 'hobbies': ['qq', 'ww']}]\n"
     ]
    }
   ],
   "source": [
    "studentdata = []\n",
    "c = \"yes\"\n",
    "while c == \"yes\":\n",
    "    data = {}\n",
    "    n = input(\"enter name\")\n",
    "    m = input(\"enter marks of eng, maths, urdu\").split(\",\")\n",
    "    sub = [\"eng\",\"maths\",\"urdu\"]\n",
    "    hobbies = input(\"enter hobbies ',' seperated \").split(\",\")\n",
    "    marks = dict(zip(m,sub))\n",
    "    data = {\n",
    "        \"name\" : n,\n",
    "        \"marks\": marks,\n",
    "        \"hobbies\" : hobbies,\n",
    "    }\n",
    "    studentdata.append(data)\n",
    "    c = input(\"enter data (yes/no)\")\n",
    "print(studentdata)"
   ]
  },
  {
   "cell_type": "code",
   "execution_count": 25,
   "metadata": {},
   "outputs": [
    {
     "name": "stdout",
     "output_type": "stream",
     "text": [
      "enter namea\n",
      "enter marks: 66\n",
      "enter subject: maths\n",
      "enter marks: 55\n",
      "enter subject: eng\n",
      "enter marks: 77\n",
      "enter subject: urdu\n",
      "enter hobby: C#\n",
      "enter hobby: books\n",
      "enter hobby: TV\n",
      "{'name': 'a', 'marks': {'maths': '66', 'eng': '55', 'urdu': '77'}, 'hobbies': ['C#', 'books', 'TV']}\n",
      "press x to exitx\n",
      "[{'name': 'a', 'marks': {'maths': '66', 'eng': '55', 'urdu': '77'}, 'hobbies': ['C#', 'books', 'TV']}]\n"
     ]
    }
   ],
   "source": [
    "d = []\n",
    "exit = \"\"\n",
    "while exit != \"x\":\n",
    "    data = {}\n",
    "    data[\"name\"] = input(\"enter name\")\n",
    "    data[\"marks\"] = {input(\"enter subject: \"):input(\"enter marks: \") for i in range(3)}\n",
    "    data[\"hobbies\"] = [input(\"enter hobby: \")for i in range(3)]\n",
    "    print(data)\n",
    "    d.append(data)\n",
    "    exit = input(\"press x to exit\")\n",
    "print(d)"
   ]
  }
 ],
 "metadata": {
  "kernelspec": {
   "display_name": "Python 3",
   "language": "python",
   "name": "python3"
  },
  "language_info": {
   "codemirror_mode": {
    "name": "ipython",
    "version": 3
   },
   "file_extension": ".py",
   "mimetype": "text/x-python",
   "name": "python",
   "nbconvert_exporter": "python",
   "pygments_lexer": "ipython3",
   "version": "3.7.3"
  }
 },
 "nbformat": 4,
 "nbformat_minor": 2
}
