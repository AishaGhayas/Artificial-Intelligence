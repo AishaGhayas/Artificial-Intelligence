{
 "cells": [
  {
   "cell_type": "markdown",
   "metadata": {},
   "source": [
    "## Q1. Calculate Area of a Circle"
   ]
  },
  {
   "cell_type": "code",
   "execution_count": 9,
   "metadata": {},
   "outputs": [
    {
     "name": "stdout",
     "output_type": "stream",
     "text": [
      "enter radius: 5.532\n",
      "area of circle is 96.18\n"
     ]
    }
   ],
   "source": [
    "radius = float(input(\"enter radius: \"))\n",
    "area = (22/7) * (radius**2)\n",
    "print(\"area of circle is %.2f\" %area)"
   ]
  },
  {
   "cell_type": "markdown",
   "metadata": {},
   "source": [
    "using function"
   ]
  },
  {
   "cell_type": "code",
   "execution_count": 8,
   "metadata": {},
   "outputs": [
    {
     "name": "stdout",
     "output_type": "stream",
     "text": [
      "enter radius: 5.532\n",
      "area of circle is 96.18\n"
     ]
    }
   ],
   "source": [
    "def area(r):\n",
    "    a = (22/7) * (r**2)\n",
    "    return a\n",
    "\n",
    "radius = float(input(\"enter radius: \"))\n",
    "print(\"area of circle is %.2f\" %area(radius))"
   ]
  },
  {
   "cell_type": "markdown",
   "metadata": {},
   "source": [
    "## Q2. Check Number either positive, negative or zero"
   ]
  },
  {
   "cell_type": "code",
   "execution_count": 15,
   "metadata": {},
   "outputs": [
    {
     "name": "stdout",
     "output_type": "stream",
     "text": [
      "enter any number: +233\n",
      "positive number\n"
     ]
    }
   ],
   "source": [
    "n = input(\"enter any number: \")\n",
    "\n",
    "if \"-\" in n:\n",
    "    print(\"negative number\")\n",
    "elif n == \"0\":\n",
    "    print(\"number is zero\")\n",
    "else:\n",
    "    print(\"positive number\")"
   ]
  },
  {
   "cell_type": "code",
   "execution_count": 19,
   "metadata": {},
   "outputs": [
    {
     "name": "stdout",
     "output_type": "stream",
     "text": [
      "enter any number: -3\n",
      "negative number\n"
     ]
    }
   ],
   "source": [
    "n = float(input(\"enter any number: \"))\n",
    "\n",
    "if n < 0:\n",
    "    print(\"negative number\")\n",
    "elif n == 0:\n",
    "    print(\"number is zero\")\n",
    "else:\n",
    "    print(\"positive number\")"
   ]
  },
  {
   "cell_type": "markdown",
   "metadata": {},
   "source": [
    "## Q3. Divisibility Check of two numbers"
   ]
  },
  {
   "cell_type": "code",
   "execution_count": 22,
   "metadata": {},
   "outputs": [
    {
     "name": "stdout",
     "output_type": "stream",
     "text": [
      "Enter numerator: 10\n",
      "Enter denominator: 5\n",
      "number 10 is completely divisible by 5\n"
     ]
    }
   ],
   "source": [
    "n = int(input(\"Enter numerator: \"))\n",
    "d = int(input(\"Enter denominator: \"))\n",
    "if n % d == 0:\n",
    "    print(\"number %d is completely divisible by %d\" %(n,d))\n",
    "else:\n",
    "    print(\"number %d is not completely divisible by %d\" %(n,d))"
   ]
  },
  {
   "cell_type": "markdown",
   "metadata": {},
   "source": [
    "## Q4. Days Calculator"
   ]
  },
  {
   "cell_type": "code",
   "execution_count": 31,
   "metadata": {},
   "outputs": [
    {
     "name": "stdout",
     "output_type": "stream",
     "text": [
      "<class 'datetime.date'>\n"
     ]
    }
   ],
   "source": [
    "import datetime as d\n",
    "\n",
    "print(type(d.date(2017,2,22)))\n"
   ]
  },
  {
   "cell_type": "code",
   "execution_count": 10,
   "metadata": {},
   "outputs": [
    {
     "name": "stdout",
     "output_type": "stream",
     "text": [
      "Enter a date in (yy/mm/dd) format: 2019/2/3\n",
      "Enter a date in (dd/mm/yy) format: 2019/2/10\n",
      "days in between 7 days, 0:00:00\n"
     ]
    }
   ],
   "source": [
    "import datetime as d\n",
    "\n",
    "date1 = input(\"Enter a date in (yy/mm/dd) format: \")\n",
    "d1,m1,y1 = map(int, date1.split(\"/\"))\n",
    "date1 = d.date(d1,m1,y1)\n",
    "\n",
    "date2 = input(\"Enter a date in (dd/mm/yy) format: \")\n",
    "d2,m2,y2 = map(int, date2.split(\"/\"))\n",
    "date2 = d.date(d2,m2,y2)\n",
    "\n",
    "days = date2 - date1\n",
    "print(\"days in between\", days)"
   ]
  },
  {
   "cell_type": "markdown",
   "metadata": {},
   "source": [
    "## Q5. Calculate Volume of a sphere"
   ]
  },
  {
   "cell_type": "code",
   "execution_count": 38,
   "metadata": {},
   "outputs": [
    {
     "name": "stdout",
     "output_type": "stream",
     "text": [
      "enter radius: 6\n",
      "volume is: 905.14\n"
     ]
    }
   ],
   "source": [
    "r = float(input(\"enter radius: \"))\n",
    "v = (4/3) * (22/7) * (r**3)\n",
    "\n",
    "print(\"volume is: %.2f\" %v)"
   ]
  },
  {
   "cell_type": "markdown",
   "metadata": {},
   "source": [
    "## Q6. Copy string n times"
   ]
  },
  {
   "cell_type": "code",
   "execution_count": 50,
   "metadata": {},
   "outputs": [
    {
     "name": "stdout",
     "output_type": "stream",
     "text": [
      "enter a string bun\n",
      "how many copies u want 4\n",
      "bunbunbunbun"
     ]
    }
   ],
   "source": [
    "string = input(\"enter a string \")\n",
    "n = int(input(\"how many copies u want \"))\n",
    "for i in range(1,n+1):\n",
    "    print(string, end=\"\")"
   ]
  },
  {
   "cell_type": "markdown",
   "metadata": {},
   "source": [
    "## Q7. Copy string n times"
   ]
  },
  {
   "cell_type": "code",
   "execution_count": 56,
   "metadata": {},
   "outputs": [
    {
     "name": "stdout",
     "output_type": "stream",
     "text": [
      "enter a number: 8\n",
      "8 is an even number\n"
     ]
    }
   ],
   "source": [
    "n = int(input(\"enter a number: \"))\n",
    "if n % 2 == 0:\n",
    "    print(\"%d is an even number\" %n)\n",
    "else:\n",
    "    print(\"%d is an odd number\" %n)"
   ]
  },
  {
   "cell_type": "markdown",
   "metadata": {},
   "source": [
    "## Q8. Vowel Tester"
   ]
  },
  {
   "cell_type": "code",
   "execution_count": 69,
   "metadata": {},
   "outputs": [
    {
     "name": "stdout",
     "output_type": "stream",
     "text": [
      "enter an alphabet to check Z\n",
      "z is not a vowel\n"
     ]
    }
   ],
   "source": [
    "alpha = \"abcdefghijklmnopqrstuvwxyz\"\n",
    "a = (input(\"enter an alphabet to check \")).lower()\n",
    "vowels = \"aeiou\"\n",
    "\n",
    "if a in vowels:\n",
    "    print(\"%s is a vowel\" %a)\n",
    "else:\n",
    "    print(\"%s is not a vowel\" %a)"
   ]
  },
  {
   "cell_type": "markdown",
   "metadata": {},
   "source": [
    "## Q9. Triangle area"
   ]
  },
  {
   "cell_type": "code",
   "execution_count": null,
   "metadata": {},
   "outputs": [],
   "source": []
  },
  {
   "cell_type": "markdown",
   "metadata": {},
   "source": [
    "## Q10. Calculate Interest"
   ]
  },
  {
   "cell_type": "code",
   "execution_count": null,
   "metadata": {},
   "outputs": [],
   "source": []
  },
  {
   "cell_type": "markdown",
   "metadata": {},
   "source": [
    "## Q11. Euclidean distance"
   ]
  },
  {
   "cell_type": "code",
   "execution_count": null,
   "metadata": {},
   "outputs": [],
   "source": []
  },
  {
   "cell_type": "markdown",
   "metadata": {},
   "source": [
    "## Q12. Feet to Centimeter Converter"
   ]
  },
  {
   "cell_type": "code",
   "execution_count": null,
   "metadata": {},
   "outputs": [],
   "source": []
  },
  {
   "cell_type": "markdown",
   "metadata": {},
   "source": [
    "## Q13. BMI Calculator"
   ]
  },
  {
   "cell_type": "code",
   "execution_count": null,
   "metadata": {},
   "outputs": [],
   "source": []
  },
  {
   "cell_type": "markdown",
   "metadata": {},
   "source": [
    "## Q14. Sum of n Positive Integers"
   ]
  },
  {
   "cell_type": "code",
   "execution_count": null,
   "metadata": {},
   "outputs": [],
   "source": []
  },
  {
   "cell_type": "markdown",
   "metadata": {},
   "source": [
    "## Q15. Digits Sum of a Number"
   ]
  },
  {
   "cell_type": "code",
   "execution_count": null,
   "metadata": {},
   "outputs": [],
   "source": []
  },
  {
   "cell_type": "markdown",
   "metadata": {},
   "source": [
    "## Q16. Decimal to Binary Converter"
   ]
  },
  {
   "cell_type": "code",
   "execution_count": null,
   "metadata": {},
   "outputs": [],
   "source": []
  },
  {
   "cell_type": "markdown",
   "metadata": {},
   "source": [
    "## Q17. Binary to Decimal Converter"
   ]
  },
  {
   "cell_type": "code",
   "execution_count": null,
   "metadata": {},
   "outputs": [],
   "source": []
  },
  {
   "cell_type": "markdown",
   "metadata": {},
   "source": [
    "## Q18. Vowel and Consonants Counter"
   ]
  },
  {
   "cell_type": "code",
   "execution_count": null,
   "metadata": {},
   "outputs": [],
   "source": []
  },
  {
   "cell_type": "markdown",
   "metadata": {},
   "source": [
    "## Q19. Palindrome tester"
   ]
  },
  {
   "cell_type": "code",
   "execution_count": null,
   "metadata": {},
   "outputs": [],
   "source": []
  },
  {
   "cell_type": "markdown",
   "metadata": {},
   "source": [
    "## Q20. Count Alphabets, Numbers and Special Characters"
   ]
  },
  {
   "cell_type": "code",
   "execution_count": null,
   "metadata": {},
   "outputs": [],
   "source": []
  },
  {
   "cell_type": "markdown",
   "metadata": {},
   "source": [
    "## Q21. Write a Python program to construct the following pattern"
   ]
  },
  {
   "cell_type": "code",
   "execution_count": null,
   "metadata": {},
   "outputs": [],
   "source": []
  },
  {
   "cell_type": "markdown",
   "metadata": {},
   "source": [
    "## Q22. Write a Python program to construct the following pattern"
   ]
  },
  {
   "cell_type": "code",
   "execution_count": null,
   "metadata": {},
   "outputs": [],
   "source": []
  },
  {
   "cell_type": "markdown",
   "metadata": {},
   "source": [
    "## Q23. Write a Python program to construct the following pattern"
   ]
  },
  {
   "cell_type": "code",
   "execution_count": 79,
   "metadata": {},
   "outputs": [
    {
     "name": "stdout",
     "output_type": "stream",
     "text": [
      "\n",
      "1\n",
      "22\n",
      "333\n",
      "4444\n",
      "55555\n",
      "666666\n",
      "7777777\n",
      "88888888\n",
      "999999999"
     ]
    }
   ],
   "source": [
    "for i in range(1,10):\n",
    "    x = 1\n",
    "    print()\n",
    "    while x <= i:\n",
    "        print(i, end=\"\")\n",
    "        x += 1"
   ]
  }
 ],
 "metadata": {
  "kernelspec": {
   "display_name": "Python 3",
   "language": "python",
   "name": "python3"
  },
  "language_info": {
   "codemirror_mode": {
    "name": "ipython",
    "version": 3
   },
   "file_extension": ".py",
   "mimetype": "text/x-python",
   "name": "python",
   "nbconvert_exporter": "python",
   "pygments_lexer": "ipython3",
   "version": "3.7.3"
  }
 },
 "nbformat": 4,
 "nbformat_minor": 2
}
