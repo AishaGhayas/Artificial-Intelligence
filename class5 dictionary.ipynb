{
 "cells": [
  {
   "cell_type": "code",
   "execution_count": 3,
   "metadata": {},
   "outputs": [
    {
     "data": {
      "text/plain": [
       "{'id': 2, 'name': 'aisha', 'course': 'AI', 'uni': 'bahria'}"
      ]
     },
     "execution_count": 3,
     "metadata": {},
     "output_type": "execute_result"
    }
   ],
   "source": [
    "#dict{item1, item2, item3}\n",
    "#item = key:value\n",
    "#dict doesnot keep order/sequence in which it was entered\n",
    "d1 = {\"id\": 2,\n",
    "     \"name\": \"aisha\",\n",
    "     \"course\": \"AI\",\n",
    "     \"uni\": \"bahria\"}\n",
    "d1"
   ]
  },
  {
   "cell_type": "code",
   "execution_count": 5,
   "metadata": {},
   "outputs": [
    {
     "data": {
      "text/plain": [
       "{'id': 1, 'name': 'aisha', 'course': 'AI', 'uni': 'bahria'}"
      ]
     },
     "execution_count": 5,
     "metadata": {},
     "output_type": "execute_result"
    }
   ],
   "source": [
    "d1 = {}\n",
    "d1[\"id\"] = 1\n",
    "d1[\"name\"] = \"aisha\"\n",
    "d1[\"course\"] = \"AI\"\n",
    "d1[\"uni\"] = \"bahria\"\n",
    "\n",
    "d1"
   ]
  },
  {
   "cell_type": "code",
   "execution_count": 2,
   "metadata": {},
   "outputs": [
    {
     "name": "stdout",
     "output_type": "stream",
     "text": [
      "enter name: l\n",
      "enter father's name: k\n",
      "enter your skills with ',' seperated valuel,l\n",
      "{'skills': ['python', 'l', 'l'], 'name': 'l', \"father's name\": 'k'}\n"
     ]
    }
   ],
   "source": [
    "d1 = {}\n",
    "skills = []\n",
    "d1[\"skills\"] = [\"python\"]\n",
    "\n",
    "d1[\"name\"] = input(\"enter name: \")\n",
    "d1[\"father's name\"] = input(\"enter father's name: \")\n",
    "\n",
    "skills = input(\"enter your skills with ',' seperated value\")\n",
    "d1[\"skills\"] = d1[\"skills\"] + skills.split(\",\")\n",
    "\n",
    "print(d1)\n"
   ]
  },
  {
   "cell_type": "code",
   "execution_count": null,
   "metadata": {},
   "outputs": [],
   "source": [
    "\n",
    "\"\"\"for\n",
    "    n = input(\"enter name: \")\n",
    "    f_name = input(\"enter father's name: \")\n",
    "    for i in range(1,11):\n",
    "        skill = input(\"enter your skills\")\n",
    "        skills.append(skill)\n",
    "    d1 = {\"name\":n,\n",
    "         \"father's name\":f_name,\n",
    "         \"skills\":skills}\n",
    "print(d1)\"\"\""
   ]
  },
  {
   "cell_type": "markdown",
   "metadata": {},
   "source": [
    "## getting value"
   ]
  },
  {
   "cell_type": "code",
   "execution_count": 20,
   "metadata": {},
   "outputs": [
    {
     "data": {
      "text/plain": [
       "2"
      ]
     },
     "execution_count": 20,
     "metadata": {},
     "output_type": "execute_result"
    }
   ],
   "source": [
    "#list\n",
    "l = [1,2,3,4]\n",
    "l[1]"
   ]
  },
  {
   "cell_type": "code",
   "execution_count": 22,
   "metadata": {},
   "outputs": [
    {
     "data": {
      "text/plain": [
       "'bahria'"
      ]
     },
     "execution_count": 22,
     "metadata": {},
     "output_type": "execute_result"
    }
   ],
   "source": [
    "d1 = {\"id\": 2,\n",
    "     \"name\": \"aisha\",\n",
    "     \"course\": \"AI\",\n",
    "     \"uni\": \"bahria\"}\n",
    "d1[\"uni\"]"
   ]
  },
  {
   "cell_type": "code",
   "execution_count": 25,
   "metadata": {},
   "outputs": [
    {
     "data": {
      "text/plain": [
       "{'id': 2, 'name': 'aisha', 'course': 'AI', 'uni': 'IIUI'}"
      ]
     },
     "execution_count": 25,
     "metadata": {},
     "output_type": "execute_result"
    }
   ],
   "source": [
    "d1[\"uni\"] = \"IIUI\"\n",
    "d1"
   ]
  },
  {
   "cell_type": "code",
   "execution_count": 26,
   "metadata": {},
   "outputs": [
    {
     "data": {
      "text/plain": [
       "{}"
      ]
     },
     "execution_count": 26,
     "metadata": {},
     "output_type": "execute_result"
    }
   ],
   "source": [
    "d1.clear()\n",
    "d1"
   ]
  },
  {
   "cell_type": "code",
   "execution_count": 28,
   "metadata": {},
   "outputs": [
    {
     "ename": "NameError",
     "evalue": "name 'd1' is not defined",
     "output_type": "error",
     "traceback": [
      "\u001b[1;31m---------------------------------------------------------------------------\u001b[0m",
      "\u001b[1;31mNameError\u001b[0m                                 Traceback (most recent call last)",
      "\u001b[1;32m<ipython-input-28-15d73427e066>\u001b[0m in \u001b[0;36m<module>\u001b[1;34m\u001b[0m\n\u001b[0;32m      1\u001b[0m \u001b[0md1\u001b[0m \u001b[1;33m=\u001b[0m \u001b[1;33m{\u001b[0m\u001b[1;34m'id'\u001b[0m\u001b[1;33m:\u001b[0m \u001b[1;36m2\u001b[0m\u001b[1;33m,\u001b[0m \u001b[1;34m'name'\u001b[0m\u001b[1;33m:\u001b[0m \u001b[1;34m'aisha'\u001b[0m\u001b[1;33m,\u001b[0m \u001b[1;34m'course'\u001b[0m\u001b[1;33m:\u001b[0m \u001b[1;34m'AI'\u001b[0m\u001b[1;33m,\u001b[0m \u001b[1;34m'uni'\u001b[0m\u001b[1;33m:\u001b[0m \u001b[1;34m'IIUI'\u001b[0m\u001b[1;33m}\u001b[0m\u001b[1;33m\u001b[0m\u001b[1;33m\u001b[0m\u001b[0m\n\u001b[0;32m      2\u001b[0m \u001b[1;32mdel\u001b[0m \u001b[0md1\u001b[0m \u001b[1;31m#delete the whole variable\u001b[0m\u001b[1;33m\u001b[0m\u001b[1;33m\u001b[0m\u001b[0m\n\u001b[1;32m----> 3\u001b[1;33m \u001b[0mprint\u001b[0m\u001b[1;33m(\u001b[0m\u001b[0md1\u001b[0m\u001b[1;33m)\u001b[0m\u001b[1;33m\u001b[0m\u001b[1;33m\u001b[0m\u001b[0m\n\u001b[0m",
      "\u001b[1;31mNameError\u001b[0m: name 'd1' is not defined"
     ]
    }
   ],
   "source": [
    "d1 = {'id': 2, 'name': 'aisha', 'course': 'AI', 'uni': 'IIUI'}\n",
    "del d1 #delete the whole variable\n",
    "print(d1)"
   ]
  },
  {
   "cell_type": "code",
   "execution_count": 34,
   "metadata": {},
   "outputs": [
    {
     "name": "stdout",
     "output_type": "stream",
     "text": [
      "{}\n"
     ]
    },
    {
     "data": {
      "text/plain": [
       "{'id': 2, 'name': 'aisha', 'course': 'AI', 'uni': 'IIUI'}"
      ]
     },
     "execution_count": 34,
     "metadata": {},
     "output_type": "execute_result"
    }
   ],
   "source": [
    "d1 = {'id': 2, 'name': 'aisha', 'course': 'AI', 'uni': 'IIUI'}\n",
    "d2 = d1.copy() #creates deep copy\n",
    "d1.clear()\n",
    "print(d1)\n",
    "d2"
   ]
  },
  {
   "cell_type": "code",
   "execution_count": 4,
   "metadata": {},
   "outputs": [],
   "source": [
    "?dict.copy"
   ]
  },
  {
   "cell_type": "code",
   "execution_count": 40,
   "metadata": {},
   "outputs": [],
   "source": [
    "d1 = {'id': 2, 'name': 'aisha', 'course': 'AI', 'uni': 'IIUI'}\n"
   ]
  },
  {
   "cell_type": "code",
   "execution_count": 43,
   "metadata": {},
   "outputs": [
    {
     "data": {
      "text/plain": [
       "{'id': None, 'name': None, 'course': None, 'uni': None}"
      ]
     },
     "execution_count": 43,
     "metadata": {},
     "output_type": "execute_result"
    }
   ],
   "source": [
    "d1 = {}\n",
    "d1[\"id\"] = None\n",
    "d1[\"name\"] = None\n",
    "d1[\"course\"] = None\n",
    "d1[\"uni\"] = None\n",
    "d1"
   ]
  },
  {
   "cell_type": "code",
   "execution_count": 45,
   "metadata": {},
   "outputs": [
    {
     "name": "stdout",
     "output_type": "stream",
     "text": [
      "['id', 'name', 'f_name', 'uni', 'course']\n",
      "{'id': None, 'name': None, 'f_name': None, 'uni': None, 'course': None}\n"
     ]
    }
   ],
   "source": [
    "l1 = [\"id\",\"name\",\"f_name\",\"uni\",\"course\"]\n",
    "print(l1)\n",
    "d1 = dict.fromkeys(l1)\n",
    "print(d1)"
   ]
  },
  {
   "cell_type": "code",
   "execution_count": 59,
   "metadata": {},
   "outputs": [
    {
     "name": "stdout",
     "output_type": "stream",
     "text": [
      "enter your keys with ',' seperated valueid,name,uni\n"
     ]
    },
    {
     "data": {
      "text/plain": [
       "{'id': None, 'name': None, 'uni': None}"
      ]
     },
     "execution_count": 59,
     "metadata": {},
     "output_type": "execute_result"
    }
   ],
   "source": [
    "keys = []\n",
    "keys = input(\"enter your keys with ',' seperated value\")\n",
    "keys = keys.split(\",\")\n",
    "#print(keys)\n",
    "d1 = dict.fromkeys(keys)\n",
    "d1"
   ]
  },
  {
   "cell_type": "code",
   "execution_count": 60,
   "metadata": {},
   "outputs": [
    {
     "name": "stdout",
     "output_type": "stream",
     "text": [
      "enter your keys with ',' seperated valueid,name,uni\n",
      "['id', 'name', 'uni']\n"
     ]
    },
    {
     "data": {
      "text/plain": [
       "{'id': 'NA', 'name': 'NA', 'uni': 'NA'}"
      ]
     },
     "execution_count": 60,
     "metadata": {},
     "output_type": "execute_result"
    }
   ],
   "source": [
    "list_of_keys = input(\"enter your keys with ',' seperated value\")\n",
    "list_of_keys = list_of_keys.split(\",\")\n",
    "print(list_of_keys)\n",
    "\n",
    "d1 = dict.fromkeys(list_of_keys,\"NA\") #value default = none\n",
    "d1"
   ]
  },
  {
   "cell_type": "code",
   "execution_count": 35,
   "metadata": {},
   "outputs": [
    {
     "name": "stdout",
     "output_type": "stream",
     "text": [
      "enter your keys with ',' seperated valuea,s,d\n",
      "enter your values with ',' seperated valuea,s,d\n"
     ]
    },
    {
     "ename": "TypeError",
     "evalue": "'int' object is not iterable",
     "output_type": "error",
     "traceback": [
      "\u001b[1;31m---------------------------------------------------------------------------\u001b[0m",
      "\u001b[1;31mTypeError\u001b[0m                                 Traceback (most recent call last)",
      "\u001b[1;32m<ipython-input-35-c2a3f199900b>\u001b[0m in \u001b[0;36m<module>\u001b[1;34m\u001b[0m\n\u001b[0;32m      6\u001b[0m \u001b[0mi\u001b[0m \u001b[1;33m=\u001b[0m \u001b[1;36m0\u001b[0m\u001b[1;33m\u001b[0m\u001b[1;33m\u001b[0m\u001b[0m\n\u001b[0;32m      7\u001b[0m \u001b[0md1\u001b[0m \u001b[1;33m=\u001b[0m \u001b[0mdict\u001b[0m\u001b[1;33m.\u001b[0m\u001b[0mfromkeys\u001b[0m\u001b[1;33m(\u001b[0m\u001b[0mlist_of_keys\u001b[0m\u001b[1;33m)\u001b[0m\u001b[1;33m\u001b[0m\u001b[1;33m\u001b[0m\u001b[0m\n\u001b[1;32m----> 8\u001b[1;33m \u001b[1;32mfor\u001b[0m \u001b[0mi\u001b[0m \u001b[1;32min\u001b[0m \u001b[0mlen\u001b[0m\u001b[1;33m(\u001b[0m\u001b[0mlist_of_keys\u001b[0m\u001b[1;33m)\u001b[0m\u001b[1;33m:\u001b[0m\u001b[1;33m\u001b[0m\u001b[1;33m\u001b[0m\u001b[0m\n\u001b[0m\u001b[0;32m      9\u001b[0m     \u001b[0md1\u001b[0m\u001b[1;33m[\u001b[0m\u001b[1;36m0\u001b[0m\u001b[1;33m]\u001b[0m \u001b[1;33m=\u001b[0m \u001b[0mlist_of_values\u001b[0m\u001b[1;33m[\u001b[0m\u001b[1;36m0\u001b[0m\u001b[1;33m]\u001b[0m\u001b[1;33m\u001b[0m\u001b[1;33m\u001b[0m\u001b[0m\n\u001b[0;32m     10\u001b[0m     \u001b[0mi\u001b[0m\u001b[1;33m+=\u001b[0m\u001b[1;36m1\u001b[0m\u001b[1;33m\u001b[0m\u001b[1;33m\u001b[0m\u001b[0m\n",
      "\u001b[1;31mTypeError\u001b[0m: 'int' object is not iterable"
     ]
    }
   ],
   "source": [
    "list_of_keys = input(\"enter your keys with ',' seperated value\")\n",
    "list_of_keys = list_of_keys.split(\",\")\n",
    "list_of_values = input(\"enter your values with ',' seperated value\")\n",
    "list_of_values = list_of_values.split(\",\")\n",
    "\n",
    "i = 0\n",
    "d1 = dict.fromkeys(list_of_keys)\n",
    "for i in len(list_of_keys):\n",
    "    d1[0] = list_of_values[0]\n",
    "    i += 1\n",
    "d1"
   ]
  },
  {
   "cell_type": "code",
   "execution_count": 71,
   "metadata": {},
   "outputs": [
    {
     "name": "stdout",
     "output_type": "stream",
     "text": [
      "[('a', 1), ('b', 2), ('c', 3)]\n",
      "{'a': 1, 'b': 2, 'c': 3}\n"
     ]
    }
   ],
   "source": [
    "# [a,b,c]\n",
    "# [1,2,3]\n",
    "# d1 = {a:1,b:2,c:3}\n",
    "\n",
    "l1 = [\"a\",\"b\",\"c\"]\n",
    "l2 = [1,2,3]\n",
    "l3 = list(zip(l1,l2))\n",
    "print(l3)\n",
    "\n",
    "d1 = dict(l3)\n",
    "print(d1)"
   ]
  },
  {
   "cell_type": "markdown",
   "metadata": {},
   "source": [
    "### list of tuples to dict"
   ]
  },
  {
   "cell_type": "code",
   "execution_count": null,
   "metadata": {},
   "outputs": [],
   "source": [
    "list_of_keys = input(\"enter your keys with ',' seperated value\")\n",
    "list_of_keys = list_of_keys.split(\",\")\n",
    "list_of_values = input(\"enter your values with ',' seperated value\")\n",
    "list_of_values = list_of_values.split(\",\")\n",
    "\n",
    "l3 = list(zip(list_of_keys,list_of_values))\n",
    "d1 = dict(l3)\n",
    "print(d1)"
   ]
  },
  {
   "cell_type": "code",
   "execution_count": 1,
   "metadata": {},
   "outputs": [
    {
     "name": "stdout",
     "output_type": "stream",
     "text": [
      "enter your keys with ',' seperated valueid,name,uni\n",
      "enter your values with ',' seperated value1,ai,ii\n",
      "{'id': '1', 'name': 'ai', 'uni': 'ii'}\n"
     ]
    }
   ],
   "source": [
    "#or\n",
    "list_of_keys = input(\"enter your keys with ',' seperated value\").split(\",\")\n",
    "list_of_values = input(\"enter your values with ',' seperated value\").split(\",\")\n",
    "\n",
    "l3 = list(zip(list_of_keys,list_of_values))\n",
    "d1 = dict(l3)\n",
    "print(d1)"
   ]
  },
  {
   "cell_type": "code",
   "execution_count": 3,
   "metadata": {},
   "outputs": [
    {
     "name": "stdout",
     "output_type": "stream",
     "text": [
      "enter keys seperated by ',' 1,2,3\n",
      "enter values seperated by ',' a,s,d\n",
      "{'1': 'a', '2': 's', '3': 'd'}\n"
     ]
    }
   ],
   "source": [
    "# above code in one line\n",
    "print(dict(list(zip(input(\"enter keys seperated by ',' \").split(\",\"),input(\"enter values seperated by ',' \").split(\",\")))))"
   ]
  },
  {
   "cell_type": "code",
   "execution_count": 3,
   "metadata": {
    "scrolled": true
   },
   "outputs": [
    {
     "data": {
      "text/plain": [
       "'1'"
      ]
     },
     "execution_count": 3,
     "metadata": {},
     "output_type": "execute_result"
    }
   ],
   "source": [
    "d1 = {'id': '1', 'name': 'ai', 'uni': 'ii'}\n",
    "d1[\"id\"]"
   ]
  },
  {
   "cell_type": "code",
   "execution_count": 12,
   "metadata": {},
   "outputs": [
    {
     "name": "stdout",
     "output_type": "stream",
     "text": [
      "1\n",
      "None\n"
     ]
    }
   ],
   "source": [
    "print(d1.get(\"id\"))\n",
    "print(d1.get(\"ii\")) #doesn't generate error if key not found"
   ]
  },
  {
   "cell_type": "code",
   "execution_count": 13,
   "metadata": {
    "scrolled": true
   },
   "outputs": [
    {
     "name": "stdout",
     "output_type": "stream",
     "text": [
      "1\n",
      "not found\n"
     ]
    }
   ],
   "source": [
    "print(d1.get(\"id\",\"not found\"))\n",
    "print(d1.get(\"ii\",\"not found\"))"
   ]
  },
  {
   "cell_type": "markdown",
   "metadata": {},
   "source": [
    "### dict to list of tuples"
   ]
  },
  {
   "cell_type": "code",
   "execution_count": 14,
   "metadata": {},
   "outputs": [
    {
     "name": "stdout",
     "output_type": "stream",
     "text": [
      "{'id': '1', 'name': 'ai', 'uni': 'ii'}\n"
     ]
    },
    {
     "data": {
      "text/plain": [
       "dict_items([('id', '1'), ('name', 'ai'), ('uni', 'ii')])"
      ]
     },
     "execution_count": 14,
     "metadata": {},
     "output_type": "execute_result"
    }
   ],
   "source": [
    "print(d1)\n",
    "d1.items()"
   ]
  },
  {
   "cell_type": "code",
   "execution_count": 16,
   "metadata": {},
   "outputs": [
    {
     "data": {
      "text/plain": [
       "dict_keys(['id', 'name', 'uni'])"
      ]
     },
     "execution_count": 16,
     "metadata": {},
     "output_type": "execute_result"
    }
   ],
   "source": [
    "d1.keys()"
   ]
  },
  {
   "cell_type": "code",
   "execution_count": 17,
   "metadata": {},
   "outputs": [
    {
     "data": {
      "text/plain": [
       "dict_values(['1', 'ai', 'ii'])"
      ]
     },
     "execution_count": 17,
     "metadata": {},
     "output_type": "execute_result"
    }
   ],
   "source": [
    "d1.values()"
   ]
  },
  {
   "cell_type": "code",
   "execution_count": 1,
   "metadata": {
    "scrolled": true
   },
   "outputs": [
    {
     "name": "stdout",
     "output_type": "stream",
     "text": [
      "{'id': '1', 'name': 'aisha', 'uni': 'iiui'}\n",
      "iiui\n",
      "{'id': '1', 'name': 'aisha'}\n"
     ]
    }
   ],
   "source": [
    "d1 = {'id': '1', 'name': 'aisha', 'uni': 'iiui'}\n",
    "print(d1)\n",
    "print(d1.pop(\"uni\")) #pop value, else default value\n",
    "print(d1)"
   ]
  },
  {
   "cell_type": "code",
   "execution_count": 24,
   "metadata": {},
   "outputs": [
    {
     "name": "stdout",
     "output_type": "stream",
     "text": [
      "{'id': '1', 'name': 'aisha', 'uni': 'iiui'}\n",
      "('uni', 'iiui')\n",
      "{'id': '1', 'name': 'aisha'}\n"
     ]
    }
   ],
   "source": [
    "d1 = {'id': '1', 'name': 'aisha', 'uni': 'iiui'}\n",
    "print(d1)\n",
    "print(d1.popitem()) #pop value\n",
    "print(d1)"
   ]
  },
  {
   "cell_type": "code",
   "execution_count": 31,
   "metadata": {},
   "outputs": [
    {
     "name": "stdout",
     "output_type": "stream",
     "text": [
      "1\n",
      "None\n",
      "2019\n",
      "{'id': '1', 'name': 'aisha', 'uni': 'iiui', 'course': None, 'year': '2019'}\n"
     ]
    }
   ],
   "source": [
    "d1 = {'id': '1', 'name': 'aisha', 'uni': 'iiui'}\n",
    "print(d1.setdefault(\"id\")) #returns value of specified key, if key not present insert key\n",
    "print(d1.setdefault(\"course\"))\n",
    "print(d1.setdefault(\"year\",\"2019\"))\n",
    "print(d1)"
   ]
  },
  {
   "cell_type": "code",
   "execution_count": 34,
   "metadata": {},
   "outputs": [
    {
     "name": "stdout",
     "output_type": "stream",
     "text": [
      "{'a': 'AAAA', 'b': 'BB', 'c': 'CCCC'}\n"
     ]
    }
   ],
   "source": [
    "d1 = {\"a\":\"AA\", \"b\":\"BB\"}\n",
    "d2 = {\"a\":\"AAAA\", \"c\":\"CCCC\"}\n",
    "\n",
    "d1.update(d2) #d1 updated on its physical address (in memory change)\n",
    "print(d1)"
   ]
  },
  {
   "cell_type": "markdown",
   "metadata": {},
   "source": [
    "### return sorted dictionary"
   ]
  },
  {
   "cell_type": "code",
   "execution_count": 48,
   "metadata": {},
   "outputs": [
    {
     "name": "stdout",
     "output_type": "stream",
     "text": [
      "e 5\n",
      "d 4\n",
      "c 2\n",
      "b 3\n",
      "a 1\n"
     ]
    }
   ],
   "source": [
    "d1 = {\"a\":1, \"c\":2, \"b\":3, \"d\":4, \"e\":5}\n",
    "\n",
    "for i,j in sorted(d1.items(),reverse = True): #sorted by keys\n",
    "    print(i,j)"
   ]
  },
  {
   "cell_type": "code",
   "execution_count": 52,
   "metadata": {},
   "outputs": [
    {
     "name": "stdout",
     "output_type": "stream",
     "text": [
      "{'e': 5, 'd': 4, 'c': 2, 'b': 3, 'a': 1}\n"
     ]
    }
   ],
   "source": [
    "d1 = {\"a\":1, \"c\":2, \"b\":3, \"d\":4, \"e\":5}\n",
    "d2 = dict(sorted(d1.items(), reverse = True)) #sorted by keys #sorted() returns list\n",
    "print(d2)"
   ]
  },
  {
   "cell_type": "code",
   "execution_count": 61,
   "metadata": {},
   "outputs": [
    {
     "name": "stdout",
     "output_type": "stream",
     "text": [
      "['a', 'c', 'b', 'd', 'e']\n",
      "['e', 'd', 'c', 'b', 'a']\n"
     ]
    },
    {
     "data": {
      "text/plain": [
       "{'e': 5, 'd': 4, 'c': 2, 'b': 3, 'a': 1}"
      ]
     },
     "execution_count": 61,
     "metadata": {},
     "output_type": "execute_result"
    }
   ],
   "source": [
    "d1 = {\"a\":1, \"c\":2, \"b\":3, \"d\":4, \"e\":5}\n",
    "l1 = list(d1.keys())\n",
    "print(l1)\n",
    "l1 = sorted(l1, reverse = True)\n",
    "print(l1)\n",
    "d2 = {}\n",
    "for i in l1:\n",
    "    d2[i] = d1[i]\n",
    "d2"
   ]
  },
  {
   "cell_type": "code",
   "execution_count": 77,
   "metadata": {},
   "outputs": [
    {
     "data": {
      "text/plain": [
       "{'e': 5, 'd': 4, 'b': 3, 'c': 2, 'a': 1}"
      ]
     },
     "execution_count": 77,
     "metadata": {},
     "output_type": "execute_result"
    }
   ],
   "source": [
    "#final sorting\n",
    "#item[1] ->value\n",
    "#item[0] ->key\n",
    "\n",
    "d1 = {\"a\":1, \"c\":2, \"b\":3, \"d\":4, \"e\":5}\n",
    "{k:v for k,v in sorted(d1.items(),key = lambda x:x[1], reverse = True)}"
   ]
  },
  {
   "cell_type": "code",
   "execution_count": 76,
   "metadata": {},
   "outputs": [
    {
     "name": "stdout",
     "output_type": "stream",
     "text": [
      "{'e': 5, 'd': 4, 'b': 3, 'c': 2, 'a': 1}\n"
     ]
    }
   ],
   "source": [
    "d2 = {}\n",
    "d1 = {\"a\":1, \"c\":2, \"b\":3, \"d\":4, \"e\":5}\n",
    "for k,v in (sorted(d1.items(),key = lambda x:x[1], reverse = True)):\n",
    "    d2[k]=v\n",
    "print(d2)"
   ]
  },
  {
   "cell_type": "code",
   "execution_count": 67,
   "metadata": {},
   "outputs": [
    {
     "name": "stdout",
     "output_type": "stream",
     "text": [
      "('a', 1)\n",
      "('c', 2)\n",
      "('b', 3)\n",
      "('d', 4)\n",
      "('e', 5)\n"
     ]
    }
   ],
   "source": [
    "for i in d1.items():\n",
    "    print(i)"
   ]
  },
  {
   "cell_type": "code",
   "execution_count": 68,
   "metadata": {},
   "outputs": [
    {
     "data": {
      "text/plain": [
       "[('a', 1), ('c', 2), ('b', 3), ('d', 4), ('e', 5)]"
      ]
     },
     "execution_count": 68,
     "metadata": {},
     "output_type": "execute_result"
    }
   ],
   "source": [
    "list(d1.items()) #--> list of tuples"
   ]
  },
  {
   "cell_type": "code",
   "execution_count": 69,
   "metadata": {},
   "outputs": [],
   "source": [
    "l1 = [(\"A\",0,\"z\"),\n",
    "     (\"C\",1,\"y\"),\n",
    "     (\"B\",3,\"x\")]"
   ]
  },
  {
   "cell_type": "code",
   "execution_count": 74,
   "metadata": {},
   "outputs": [
    {
     "name": "stdout",
     "output_type": "stream",
     "text": [
      "('A', 0, 'z')\n"
     ]
    }
   ],
   "source": [
    "def abc(x):\n",
    "    print(x)\n",
    "\n",
    "abc(l1[0])"
   ]
  },
  {
   "cell_type": "code",
   "execution_count": 78,
   "metadata": {},
   "outputs": [
    {
     "data": {
      "text/plain": [
       "[('A', 0, 'z'), ('B', 3, 'x'), ('C', 1, 'y')]"
      ]
     },
     "execution_count": 78,
     "metadata": {},
     "output_type": "execute_result"
    }
   ],
   "source": [
    "# one line no name function --> lambda function\n",
    "def abc(x):\n",
    "    return x\n",
    "\n",
    "sorted(l1, key=abc)"
   ]
  },
  {
   "cell_type": "markdown",
   "metadata": {},
   "source": [
    "(input from user) store students data: ID, name, skills in dic\n",
    "    press x program stops and prints dictionary\n",
    "    \n",
    "    while list append"
   ]
  },
  {
   "cell_type": "code",
   "execution_count": 12,
   "metadata": {},
   "outputs": [
    {
     "name": "stdout",
     "output_type": "stream",
     "text": [
      "enter ID: 1\n",
      "enter name: a\n",
      "enter skills seperated by ',' c,v,b\n",
      "[{<built-in function id>: '1', 'name': 'a', 'skills': ['c', 'v', 'b']}]\n"
     ]
    }
   ],
   "source": [
    "students = []\n",
    "student = {}\n",
    "skills = []\n",
    "\n",
    "student[id] = input(\"enter ID: \")\n",
    "student[\"name\"] = input(\"enter name: \")\n",
    "student[\"skills\"] = input(\"enter skills seperated by ',' \").split(\",\")\n",
    "students.append(student)\n",
    "print(students)"
   ]
  },
  {
   "cell_type": "code",
   "execution_count": 87,
   "metadata": {},
   "outputs": [
    {
     "name": "stdout",
     "output_type": "stream",
     "text": [
      "enter ID: a\n",
      "enter name: s\n",
      "enter skills seperated by ',' d,f,g,h\n",
      "enter x to exit: \n",
      "enter ID: q\n",
      "enter name: w\n",
      "enter skills seperated by ',' e,r,t\n",
      "enter x to exit: x\n"
     ]
    },
    {
     "data": {
      "text/plain": [
       "[{'a': 'a', 'name': 's', 'skills': ['d', 'f', 'g', 'h']},\n",
       " {'a': 'q', 'name': 'w', 'skills': ['e', 'r', 't']}]"
      ]
     },
     "execution_count": 87,
     "metadata": {},
     "output_type": "execute_result"
    }
   ],
   "source": [
    "lst = []\n",
    "x = \"\"\n",
    "\n",
    "while x != \"x\":\n",
    "    student = {}\n",
    "    student[id] = input(\"enter ID: \")\n",
    "    student[\"name\"] = input(\"enter name: \")\n",
    "    student[\"skills\"] = input(\"enter skills seperated by ',' \").split(\",\")\n",
    "    lst.append(student)\n",
    "    x = input(\"enter x to exit: \")\n",
    "\n",
    "lst "
   ]
  }
 ],
 "metadata": {
  "kernelspec": {
   "display_name": "Python 3",
   "language": "python",
   "name": "python3"
  },
  "language_info": {
   "codemirror_mode": {
    "name": "ipython",
    "version": 3
   },
   "file_extension": ".py",
   "mimetype": "text/x-python",
   "name": "python",
   "nbconvert_exporter": "python",
   "pygments_lexer": "ipython3",
   "version": "3.7.3"
  }
 },
 "nbformat": 4,
 "nbformat_minor": 2
}
