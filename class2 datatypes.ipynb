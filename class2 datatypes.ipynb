{
 "cells": [
  {
   "cell_type": "code",
   "execution_count": 1,
   "metadata": {},
   "outputs": [
    {
     "name": "stdout",
     "output_type": "stream",
     "text": [
      "The Zen of Python, by Tim Peters\n",
      "\n",
      "Beautiful is better than ugly.\n",
      "Explicit is better than implicit.\n",
      "Simple is better than complex.\n",
      "Complex is better than complicated.\n",
      "Flat is better than nested.\n",
      "Sparse is better than dense.\n",
      "Readability counts.\n",
      "Special cases aren't special enough to break the rules.\n",
      "Although practicality beats purity.\n",
      "Errors should never pass silently.\n",
      "Unless explicitly silenced.\n",
      "In the face of ambiguity, refuse the temptation to guess.\n",
      "There should be one-- and preferably only one --obvious way to do it.\n",
      "Although that way may not be obvious at first unless you're Dutch.\n",
      "Now is better than never.\n",
      "Although never is often better than *right* now.\n",
      "If the implementation is hard to explain, it's a bad idea.\n",
      "If the implementation is easy to explain, it may be a good idea.\n",
      "Namespaces are one honking great idea -- let's do more of those!\n"
     ]
    }
   ],
   "source": [
    "import this"
   ]
  },
  {
   "cell_type": "code",
   "execution_count": 152,
   "metadata": {
    "scrolled": true
   },
   "outputs": [
    {
     "name": "stdout",
     "output_type": "stream",
     "text": [
      "140736417731584\n",
      "140736417731584\n"
     ]
    }
   ],
   "source": [
    "a = 7\n",
    "b = 7\n",
    "print(id(a))\n",
    "print(id(b))"
   ]
  },
  {
   "cell_type": "code",
   "execution_count": 11,
   "metadata": {},
   "outputs": [
    {
     "data": {
      "text/plain": [
       "str"
      ]
     },
     "execution_count": 11,
     "metadata": {},
     "output_type": "execute_result"
    }
   ],
   "source": [
    "a = \"\"\" pakistan \"\"\"\n",
    "type(a)"
   ]
  },
  {
   "cell_type": "code",
   "execution_count": 15,
   "metadata": {},
   "outputs": [
    {
     "data": {
      "text/plain": [
       "list"
      ]
     },
     "execution_count": 15,
     "metadata": {},
     "output_type": "execute_result"
    }
   ],
   "source": [
    "#index   0       1     2    3      4\n",
    "name = [\"ali\", \"john\", 20, True, False]\n",
    "#index    -5     -4    -3   -2    -1\n",
    "type(name)"
   ]
  },
  {
   "cell_type": "code",
   "execution_count": 3,
   "metadata": {},
   "outputs": [
    {
     "name": "stdout",
     "output_type": "stream",
     "text": [
      "True\n"
     ]
    },
    {
     "data": {
      "text/plain": [
       "tuple"
      ]
     },
     "execution_count": 3,
     "metadata": {},
     "output_type": "execute_result"
    }
   ],
   "source": [
    "#index   0       1     2    3      4\n",
    "name = (\"ali\", \"john\", 20, True, False)\n",
    "#index    -5     -4    -3   -2    -1\n",
    "print(name[3])\n",
    "type(name)"
   ]
  },
  {
   "cell_type": "code",
   "execution_count": 5,
   "metadata": {},
   "outputs": [
    {
     "name": "stdout",
     "output_type": "stream",
     "text": [
      "{False, True, 20, 'john', 'ali'}\n",
      "<class 'set'>\n",
      "john\n"
     ]
    },
    {
     "data": {
      "text/plain": [
       "list"
      ]
     },
     "execution_count": 5,
     "metadata": {},
     "output_type": "execute_result"
    }
   ],
   "source": [
    "name = {\"ali\",\"ali\",\"ali\", \"john\", 20, True, False}\n",
    "print(name)\n",
    "print(type(name))\n",
    "name = list(name)\n",
    "print(name[3])\n",
    "type(name)"
   ]
  },
  {
   "cell_type": "code",
   "execution_count": 9,
   "metadata": {},
   "outputs": [
    {
     "name": "stdout",
     "output_type": "stream",
     "text": [
      "<class 'dict'>\n"
     ]
    },
    {
     "data": {
      "text/plain": [
       "'ghayas'"
      ]
     },
     "execution_count": 9,
     "metadata": {},
     "output_type": "execute_result"
    }
   ],
   "source": [
    "data = {\"name\":\"aisha\",\n",
    "        \"name\":\"mahin\",\n",
    "       \"f_name\":\"ghayas\",\n",
    "       0 : \"pakistan\"}\n",
    "print(type(data))\n",
    "data[\"f_name\"]"
   ]
  },
  {
   "cell_type": "code",
   "execution_count": 46,
   "metadata": {},
   "outputs": [
    {
     "name": "stdout",
     "output_type": "stream",
     "text": [
      "['mahin', 'ghayas', 'pakistan']\n"
     ]
    },
    {
     "data": {
      "text/plain": [
       "['name', 'f_name', 0]"
      ]
     },
     "execution_count": 46,
     "metadata": {},
     "output_type": "execute_result"
    }
   ],
   "source": [
    "print(list(data.values()))\n",
    "list(data)"
   ]
  },
  {
   "cell_type": "code",
   "execution_count": 11,
   "metadata": {},
   "outputs": [
    {
     "name": "stdout",
     "output_type": "stream",
     "text": [
      "upper: AISHA GHAYAS\n",
      "lower: aisha ghayas\n",
      "title: Aisha Ghayas\n",
      "capitalize: Aisha ghayas\n",
      "aIshA GhaYAs\n"
     ]
    }
   ],
   "source": [
    "# inline functions\n",
    "name = \"aIshA GhaYAs\" \n",
    "print(\"upper:\",name.upper())\n",
    "print(\"lower:\",name.lower())\n",
    "print(\"title:\",name.title())\n",
    "print(\"capitalize:\",name.capitalize())\n",
    "print(name)"
   ]
  },
  {
   "cell_type": "code",
   "execution_count": 64,
   "metadata": {},
   "outputs": [
    {
     "name": "stdout",
     "output_type": "stream",
     "text": [
      "False\n",
      "2213324921648\n",
      "2213324958448\n",
      "aIshA GhaYAs\n"
     ]
    }
   ],
   "source": [
    "name = \"aIshA GhaYAs\"\n",
    "name1 = \"aisha ghayas\"\n",
    "print(name == name1)\n",
    "print(id(name), id(name1), sep=\"\\n\")\n",
    "print(name)"
   ]
  },
  {
   "cell_type": "code",
   "execution_count": 68,
   "metadata": {
    "collapsed": true
   },
   "outputs": [
    {
     "ename": "NameError",
     "evalue": "name 'name1' is not defined",
     "output_type": "error",
     "traceback": [
      "\u001b[1;31m---------------------------------------------------------------------------\u001b[0m",
      "\u001b[1;31mNameError\u001b[0m                                 Traceback (most recent call last)",
      "\u001b[1;32m<ipython-input-68-92c2ea64c206>\u001b[0m in \u001b[0;36m<module>\u001b[1;34m\u001b[0m\n\u001b[1;32m----> 1\u001b[1;33m \u001b[1;32mdel\u001b[0m \u001b[0mname1\u001b[0m\u001b[1;33m\u001b[0m\u001b[1;33m\u001b[0m\u001b[0m\n\u001b[0m\u001b[0;32m      2\u001b[0m \u001b[0mprint\u001b[0m\u001b[1;33m(\u001b[0m\u001b[0mname1\u001b[0m\u001b[1;33m)\u001b[0m\u001b[1;33m\u001b[0m\u001b[1;33m\u001b[0m\u001b[0m\n",
      "\u001b[1;31mNameError\u001b[0m: name 'name1' is not defined"
     ]
    }
   ],
   "source": [
    "del name1\n",
    "print(name1)"
   ]
  },
  {
   "cell_type": "code",
   "execution_count": 13,
   "metadata": {},
   "outputs": [
    {
     "name": "stdout",
     "output_type": "stream",
     "text": [
      "25\n",
      "15\n",
      "21\n",
      "19\n"
     ]
    }
   ],
   "source": [
    "name1 = \"    aisha    ghayas      \"\n",
    "print(len(name1))\n",
    "print(len(name1.strip())) #strip spaces from both sides\n",
    "print(len(name1.lstrip()))#strip spaces from left sides\n",
    "print(len(name1.rstrip()))#strip spaces from right sides "
   ]
  },
  {
   "cell_type": "code",
   "execution_count": 16,
   "metadata": {},
   "outputs": [
    {
     "name": "stdout",
     "output_type": "stream",
     "text": [
      "7\n",
      "29\n"
     ]
    },
    {
     "data": {
      "text/plain": [
       "'pksa'"
      ]
     },
     "execution_count": 16,
     "metadata": {},
     "output_type": "execute_result"
    }
   ],
   "source": [
    "a = \"we are pakistani and we love pakistan\"\n",
    "print(a.find(\"pakistan\")) #return index\n",
    "print(a.find(\"pakistan\", 13)) #find pakistan after 13 positon\n",
    "a[7:15:2] # slicing start:end:step"
   ]
  },
  {
   "cell_type": "code",
   "execution_count": 20,
   "metadata": {
    "scrolled": true
   },
   "outputs": [
    {
     "name": "stdout",
     "output_type": "stream",
     "text": [
      "['we', 'are', 'pakistani', 'and', 'we', 'love', 'pakistan']\n"
     ]
    },
    {
     "data": {
      "text/plain": [
       "1"
      ]
     },
     "execution_count": 20,
     "metadata": {},
     "output_type": "execute_result"
    }
   ],
   "source": [
    "words = a.split()\n",
    "print(words)\n",
    "words.count(\"pakistan\")"
   ]
  },
  {
   "cell_type": "code",
   "execution_count": 22,
   "metadata": {},
   "outputs": [
    {
     "data": {
      "text/plain": [
       "'we '"
      ]
     },
     "execution_count": 22,
     "metadata": {},
     "output_type": "execute_result"
    }
   ],
   "source": [
    "a = \"we are pakistani and we love pakistan\"\n",
    "a[slice(3)] #slice(None, 3, None)"
   ]
  },
  {
   "cell_type": "markdown",
   "metadata": {},
   "source": [
    "# concatenating strings methods"
   ]
  },
  {
   "cell_type": "code",
   "execution_count": 25,
   "metadata": {},
   "outputs": [
    {
     "name": "stdout",
     "output_type": "stream",
     "text": [
      "Student Name: Ali \n",
      " Father's Name: Rashid \n",
      " Program: PIAIC \n",
      " Score: 200\n"
     ]
    }
   ],
   "source": [
    "# 1. % operator\n",
    "name = \"Ali\"\n",
    "fname = \"Rashid\"\n",
    "program = \"PIAIC\"\n",
    "score = 200\n",
    "\n",
    "print(\"Student Name: %s \\n Father's Name: %s \\n Program: %s \\n Score: %d\" % (name, fname,\\\n",
    "                                                                                 program,score))"
   ]
  },
  {
   "cell_type": "code",
   "execution_count": 30,
   "metadata": {},
   "outputs": [
    {
     "name": "stdout",
     "output_type": "stream",
     "text": [
      "student Name: Ali \n",
      "Father's Name: Rashid \n",
      "Program: PIAIC \n",
      "Score: 200\n"
     ]
    }
   ],
   "source": [
    "# 2. + operator\n",
    "print(\"student Name: \" + name + \" \\nFather's Name: \" + fname + \" \\nProgram: \" + program + \" \\nScore: \" + str(score))"
   ]
  },
  {
   "cell_type": "code",
   "execution_count": 31,
   "metadata": {},
   "outputs": [
    {
     "name": "stdout",
     "output_type": "stream",
     "text": [
      "student Name:  Ali \n",
      "Father's Name: Rashid \n",
      "Program: PIAIC\n"
     ]
    }
   ],
   "source": [
    "# 3. f string method\n",
    "print(f\"student Name:  {name} \\nFather's Name: {fname} \\nProgram: {program}\")"
   ]
  },
  {
   "cell_type": "code",
   "execution_count": 34,
   "metadata": {},
   "outputs": [
    {
     "name": "stdout",
     "output_type": "stream",
     "text": [
      "name:Ali, \n",
      " father name:Rashid\n"
     ]
    },
    {
     "data": {
      "text/plain": [
       "'name:Ali, \\n father name:Rashid'"
      ]
     },
     "execution_count": 34,
     "metadata": {},
     "output_type": "execute_result"
    }
   ],
   "source": [
    "# 4. format method\n",
    "print(\"name:{}, \\n father name:{}\".format(name, fname))\n",
    "\"name:{0}, \\n father name:{1}\".format(name, fname)"
   ]
  },
  {
   "cell_type": "code",
   "execution_count": 5,
   "metadata": {},
   "outputs": [
    {
     "data": {
      "text/plain": [
       "\"i am good, i'll go today\""
      ]
     },
     "execution_count": 5,
     "metadata": {},
     "output_type": "execute_result"
    }
   ],
   "source": [
    "# 5. join() function\n",
    "a = \"i am good\"\n",
    "b = \"i'll go today\"\n",
    "\", \".join([a,b])"
   ]
  },
  {
   "cell_type": "code",
   "execution_count": 116,
   "metadata": {},
   "outputs": [
    {
     "data": {
      "text/plain": [
       "'ppp3'"
      ]
     },
     "execution_count": 116,
     "metadata": {},
     "output_type": "execute_result"
    }
   ],
   "source": [
    "a = 3\n",
    "\"ppp\" + str(a)"
   ]
  },
  {
   "cell_type": "code",
   "execution_count": 226,
   "metadata": {},
   "outputs": [
    {
     "name": "stdout",
     "output_type": "stream",
     "text": [
      "False\n"
     ]
    }
   ],
   "source": [
    "name1 = \"aisha\"\n",
    "name2 = \"Aisha\"\n",
    "print(name1==name2)"
   ]
  },
  {
   "cell_type": "code",
   "execution_count": 257,
   "metadata": {},
   "outputs": [
    {
     "name": "stdout",
     "output_type": "stream",
     "text": [
      "44\n",
      "44\n",
      "44\n",
      "44\n"
     ]
    }
   ],
   "source": [
    "# taking input\n",
    "print(input())\n",
    "# OR\n",
    "a = input()\n",
    "print(a)"
   ]
  },
  {
   "cell_type": "markdown",
   "metadata": {},
   "source": [
    "#  directory string"
   ]
  },
  {
   "cell_type": "code",
   "execution_count": 228,
   "metadata": {
    "scrolled": true
   },
   "outputs": [
    {
     "data": {
      "text/plain": [
       "['__add__',\n",
       " '__class__',\n",
       " '__contains__',\n",
       " '__delattr__',\n",
       " '__dir__',\n",
       " '__doc__',\n",
       " '__eq__',\n",
       " '__format__',\n",
       " '__ge__',\n",
       " '__getattribute__',\n",
       " '__getitem__',\n",
       " '__getnewargs__',\n",
       " '__gt__',\n",
       " '__hash__',\n",
       " '__init__',\n",
       " '__init_subclass__',\n",
       " '__iter__',\n",
       " '__le__',\n",
       " '__len__',\n",
       " '__lt__',\n",
       " '__mod__',\n",
       " '__mul__',\n",
       " '__ne__',\n",
       " '__new__',\n",
       " '__reduce__',\n",
       " '__reduce_ex__',\n",
       " '__repr__',\n",
       " '__rmod__',\n",
       " '__rmul__',\n",
       " '__setattr__',\n",
       " '__sizeof__',\n",
       " '__str__',\n",
       " '__subclasshook__',\n",
       " 'capitalize',\n",
       " 'casefold',\n",
       " 'center',\n",
       " 'count',\n",
       " 'encode',\n",
       " 'endswith',\n",
       " 'expandtabs',\n",
       " 'find',\n",
       " 'format',\n",
       " 'format_map',\n",
       " 'index',\n",
       " 'isalnum',\n",
       " 'isalpha',\n",
       " 'isascii',\n",
       " 'isdecimal',\n",
       " 'isdigit',\n",
       " 'isidentifier',\n",
       " 'islower',\n",
       " 'isnumeric',\n",
       " 'isprintable',\n",
       " 'isspace',\n",
       " 'istitle',\n",
       " 'isupper',\n",
       " 'join',\n",
       " 'ljust',\n",
       " 'lower',\n",
       " 'lstrip',\n",
       " 'maketrans',\n",
       " 'partition',\n",
       " 'replace',\n",
       " 'rfind',\n",
       " 'rindex',\n",
       " 'rjust',\n",
       " 'rpartition',\n",
       " 'rsplit',\n",
       " 'rstrip',\n",
       " 'split',\n",
       " 'splitlines',\n",
       " 'startswith',\n",
       " 'strip',\n",
       " 'swapcase',\n",
       " 'title',\n",
       " 'translate',\n",
       " 'upper',\n",
       " 'zfill']"
      ]
     },
     "execution_count": 228,
     "metadata": {},
     "output_type": "execute_result"
    }
   ],
   "source": [
    "dir(str) #parameter can have any string variable as well for string directory"
   ]
  },
  {
   "cell_type": "code",
   "execution_count": 38,
   "metadata": {},
   "outputs": [
    {
     "name": "stdout",
     "output_type": "stream",
     "text": [
      "MY NAME IS AISHA\n",
      "My Name Is Aisha\n"
     ]
    },
    {
     "data": {
      "text/plain": [
       "'My name is aisha'"
      ]
     },
     "execution_count": 38,
     "metadata": {},
     "output_type": "execute_result"
    }
   ],
   "source": [
    "# upper, title, capitalize\n",
    "name = \"my name is aisha\"\n",
    "print(name.upper())# all upper\n",
    "print(name.title())# initcap each word\n",
    "name.capitalize()  # initcap sentence "
   ]
  },
  {
   "cell_type": "code",
   "execution_count": 41,
   "metadata": {},
   "outputs": [
    {
     "name": "stdout",
     "output_type": "stream",
     "text": [
      "my name is aisha ghayas\n",
      "my nAmE iS AisHa gHayaS\n"
     ]
    }
   ],
   "source": [
    "#casefold\n",
    "name1 = \"my nAmE iS AisHa gHayaS\"\n",
    "print(name1.casefold()) # inline chnage"
   ]
  },
  {
   "cell_type": "code",
   "execution_count": 43,
   "metadata": {},
   "outputs": [
    {
     "name": "stdout",
     "output_type": "stream",
     "text": [
      "['my', 'nAmE', 'iS', 'AisHa', 'gHayaS']\n",
      "my name is aisha my nAmE iS AisHa gHayaS\n",
      "my name is aisha my nAmE iS AisHa gHayaS\n",
      "            my name is aisha            \n",
      "############my name is aisha############\n"
     ]
    },
    {
     "data": {
      "text/plain": [
       "3"
      ]
     },
     "execution_count": 43,
     "metadata": {},
     "output_type": "execute_result"
    }
   ],
   "source": [
    "#split, join, center, count\n",
    "print(name1.split())\n",
    "print(name,name1)\n",
    "print(\" \".join([name,name1]))\n",
    "print(name.center(40))\n",
    "print(name.center(40,'#')) # first parameter(width) is cumpolsory, fillchar is optional i.e space by default\n",
    "name1.count(\"a\")"
   ]
  },
  {
   "cell_type": "code",
   "execution_count": 46,
   "metadata": {},
   "outputs": [
    {
     "name": "stdout",
     "output_type": "stream",
     "text": [
      "b'\\xc3\\xa5isha'\n",
      "b'isha'\n"
     ]
    },
    {
     "data": {
      "text/plain": [
       "b'?isha'"
      ]
     },
     "execution_count": 46,
     "metadata": {},
     "output_type": "execute_result"
    }
   ],
   "source": [
    "#encode\n",
    "word = \"åisha\"\n",
    "print(word.encode())\n",
    "print(word.encode(\"ascii\", \"ignore\"))\n",
    "word.encode(\"ascii\", \"replace\")"
   ]
  },
  {
   "cell_type": "code",
   "execution_count": 295,
   "metadata": {},
   "outputs": [
    {
     "name": "stdout",
     "output_type": "stream",
     "text": [
      "True\n"
     ]
    },
    {
     "data": {
      "text/plain": [
       "True"
      ]
     },
     "execution_count": 295,
     "metadata": {},
     "output_type": "execute_result"
    }
   ],
   "source": [
    "#endswith\n",
    "word = \"my name is aisha\"\n",
    "print(word.endswith(\"a\"))\n",
    "word.endswith(\"is\",5,10) # endswith(suffix, start searhing from index, end)"
   ]
  },
  {
   "cell_type": "code",
   "execution_count": 304,
   "metadata": {},
   "outputs": [
    {
     "name": "stdout",
     "output_type": "stream",
     "text": [
      "my      name    is      aisha\n",
      "my    name  is    aisha\n"
     ]
    }
   ],
   "source": [
    "#expandtabs\n",
    "word = \"my \\tname \\tis \\taisha\"\n",
    "print(word.expandtabs()) # by default tabsize = 8\n",
    "print(word.expandtabs(3))"
   ]
  },
  {
   "cell_type": "code",
   "execution_count": 345,
   "metadata": {},
   "outputs": [
    {
     "name": "stdout",
     "output_type": "stream",
     "text": [
      "using find method 4\n",
      "using index method 4\n",
      "11\n",
      "11\n",
      "15\n"
     ]
    }
   ],
   "source": [
    "# find, index (same except error)\n",
    "name = \"my name is aisha\"\n",
    "print(\"using find method\",name.find(\"a\"))\n",
    "print(\"using index method\",name.index(\"a\"))\n",
    "print(name.find(\"a\",7,14)) #find(substring, start, end)\n",
    "print(name.index(\"a\",7,14)) #index(substring, start, end)\n",
    "print(name.find(\"a\",12,16))"
   ]
  },
  {
   "cell_type": "code",
   "execution_count": 346,
   "metadata": {},
   "outputs": [
    {
     "name": "stdout",
     "output_type": "stream",
     "text": [
      "-1\n"
     ]
    },
    {
     "ename": "ValueError",
     "evalue": "substring not found",
     "output_type": "error",
     "traceback": [
      "\u001b[1;31m---------------------------------------------------------------------------\u001b[0m",
      "\u001b[1;31mValueError\u001b[0m                                Traceback (most recent call last)",
      "\u001b[1;32m<ipython-input-346-e65dcf2761e2>\u001b[0m in \u001b[0;36m<module>\u001b[1;34m\u001b[0m\n\u001b[0;32m      1\u001b[0m \u001b[0mprint\u001b[0m\u001b[1;33m(\u001b[0m\u001b[0mname\u001b[0m\u001b[1;33m.\u001b[0m\u001b[0mfind\u001b[0m\u001b[1;33m(\u001b[0m\u001b[1;34m\"z\"\u001b[0m\u001b[1;33m)\u001b[0m\u001b[1;33m)\u001b[0m \u001b[1;31m#if not find return -1\u001b[0m\u001b[1;33m\u001b[0m\u001b[1;33m\u001b[0m\u001b[0m\n\u001b[1;32m----> 2\u001b[1;33m \u001b[0mprint\u001b[0m\u001b[1;33m(\u001b[0m\u001b[0mname\u001b[0m\u001b[1;33m.\u001b[0m\u001b[0mindex\u001b[0m\u001b[1;33m(\u001b[0m\u001b[1;34m\"z\"\u001b[0m\u001b[1;33m)\u001b[0m\u001b[1;33m)\u001b[0m \u001b[1;31m# if not found return error\u001b[0m\u001b[1;33m\u001b[0m\u001b[1;33m\u001b[0m\u001b[0m\n\u001b[0m",
      "\u001b[1;31mValueError\u001b[0m: substring not found"
     ]
    }
   ],
   "source": [
    "print(name.find(\"z\")) #if not find return -1\n",
    "print(name.index(\"z\")) # if not found return error"
   ]
  },
  {
   "cell_type": "code",
   "execution_count": 33,
   "metadata": {},
   "outputs": [
    {
     "name": "stdout",
     "output_type": "stream",
     "text": [
      "4\n",
      "15\n",
      "11\n",
      "-1\n"
     ]
    }
   ],
   "source": [
    "#rindex/rfind\n",
    "name = \"my name is aisha\"\n",
    "print(name.index(\"a\"))\n",
    "print(name.rindex(\"a\"))\n",
    "print(name.rindex(\"a\", 3, 12))\n",
    "print(name.rfind('small')) #not found"
   ]
  },
  {
   "cell_type": "code",
   "execution_count": 335,
   "metadata": {},
   "outputs": [
    {
     "name": "stdout",
     "output_type": "stream",
     "text": [
      "my name is ali and i am 15 years old.\n",
      "I like gaming\n",
      "my name is ali and i am 15 years old. I like gaming\n",
      "age in decimal number system 15\n",
      "age in hexadecimal number system f\n",
      "age in octal number system 17\n",
      "age in binary number system 1111\n",
      "formating float value 1,000,000,000\n"
     ]
    }
   ],
   "source": [
    "#format\n",
    "name = \"ali\"\n",
    "age = 15\n",
    "hobby = \"gaming\"\n",
    "num = 1000000000\n",
    "print(\"my name is {} and i am {} years old.\\nI like {}\".format(name, age, hobby))\n",
    "print(\"my name is {0} and i am {1} years old. I like {2}\".format(name, age, hobby))\n",
    "\n",
    "#Formatting numerical value in different number systems\n",
    "print(\"age in decimal number system {0:d}\".format(age))\n",
    "print(\"age in hexadecimal number system {0:x}\".format(age))\n",
    "print(\"age in octal number system {0:o}\".format(age))\n",
    "print(\"age in binary number system {0:b}\".format(age))\n",
    "print(\"formating float value {0:,}\".format(num))"
   ]
  },
  {
   "cell_type": "code",
   "execution_count": 379,
   "metadata": {},
   "outputs": [
    {
     "name": "stdout",
     "output_type": "stream",
     "text": [
      "True\n",
      "True\n",
      "True\n"
     ]
    }
   ],
   "source": [
    "# isalnum,isalpha, isdecimal, isdigit, isnumeric (does not allow special chars, spaces or empty strings)\n",
    "print(\"welcome\".isalnum()) # only alphabets & numbers\n",
    "print(\"hi\".isalpha()) #only alphabets\n",
    "print(\"456\".isnumeric())"
   ]
  },
  {
   "cell_type": "code",
   "execution_count": 364,
   "metadata": {},
   "outputs": [
    {
     "name": "stdout",
     "output_type": "stream",
     "text": [
      "True\n",
      "False\n",
      "True\n",
      "False\n"
     ]
    }
   ],
   "source": [
    "print(\"345\".isdecimal()) # only decimal not even float\n",
    "print(\"222.5\".isdecimal())\n",
    "print(\"1234\".isdigit())\n",
    "print(\"355-24567-78\".isdigit())"
   ]
  },
  {
   "cell_type": "code",
   "execution_count": 373,
   "metadata": {},
   "outputs": [
    {
     "name": "stdout",
     "output_type": "stream",
     "text": [
      "True\n"
     ]
    }
   ],
   "source": [
    "# isidentifier\n",
    "#in python indentifiers can only have letters, underscore and digits\n",
    "print(\"abCd23_4\".isidentifier())"
   ]
  },
  {
   "cell_type": "code",
   "execution_count": 393,
   "metadata": {},
   "outputs": [
    {
     "name": "stdout",
     "output_type": "stream",
     "text": [
      "True\n",
      "False\n",
      "False\n",
      "True\n"
     ]
    }
   ],
   "source": [
    "#islower, isupper, istitle\n",
    "sen = \"i was going home. where i met my friend\"\n",
    "print(sen.islower())\n",
    "print(\"welCome\".islower()) #all lower\n",
    "print(\"WELCOmE\".isupper()) # all upper\n",
    "print(\"Welcome To Home\".istitle())"
   ]
  },
  {
   "cell_type": "code",
   "execution_count": 48,
   "metadata": {},
   "outputs": [
    {
     "name": "stdout",
     "output_type": "stream",
     "text": [
      "True\n",
      "True\n",
      "False\n",
      "True\n"
     ]
    }
   ],
   "source": [
    "#isprintable\n",
    "print(\"hello to the world\".isprintable())\n",
    "print(\"hello@to$the%world\".isprintable())\n",
    "print(\"hello \\n to \\t the world\".isprintable())\n",
    "print(\"\".isprintable())"
   ]
  },
  {
   "cell_type": "code",
   "execution_count": 422,
   "metadata": {},
   "outputs": [
    {
     "name": "stdout",
     "output_type": "stream",
     "text": [
      "False\n",
      "False\n",
      "False\n",
      "True\n",
      "True\n",
      "False\n"
     ]
    }
   ],
   "source": [
    "#isspace\n",
    "str = \"ab cd ef \\n\"  \n",
    "print(str.isspace())\n",
    "print(\"\\t anjkan \\t \\n\".isspace())\n",
    "print(\"\".isspace())\n",
    "print(\" \".isspace())\n",
    "print(\"\\t \\f \\v \\r \\n\".isspace())\n",
    "print(\" abd\".isspace())"
   ]
  },
  {
   "cell_type": "code",
   "execution_count": 50,
   "metadata": {},
   "outputs": [
    {
     "name": "stdout",
     "output_type": "stream",
     "text": [
      "abc,def,ghi\n",
      "rose,leaf,trees\n",
      "aisha ghayas\n"
     ]
    }
   ],
   "source": [
    "#join\n",
    "a = \"aisha\"\n",
    "b = \"ghayas\"\n",
    "stringlist = [\"rose\",\"leaf\", \"trees\"]\n",
    "stringtuple = (\"abc\",\"def\", \"ghi\")\n",
    "\n",
    "print(\",\".join(stringtuple))\n",
    "print(\",\".join(stringlist))\n",
    "print(\" \".join([a,b]))\n"
   ]
  },
  {
   "cell_type": "code",
   "execution_count": 12,
   "metadata": {},
   "outputs": [
    {
     "name": "stdout",
     "output_type": "stream",
     "text": [
      "1abc2abc3\n",
      "a123b123c\n",
      "1 2\n"
     ]
    }
   ],
   "source": [
    "a = \"123\"\n",
    "b = \"abc\"\n",
    "dic = {\"1\": \"plant\", \"2\": \"tree\"}\n",
    "\n",
    "print(b.join(a))\n",
    "print(a.join(b)) # seperator is a = \"123\"\n",
    "print(\" \".join(dic)) # join concatenate keys of dictionary"
   ]
  },
  {
   "cell_type": "code",
   "execution_count": 16,
   "metadata": {},
   "outputs": [
    {
     "name": "stdout",
     "output_type": "stream",
     "text": [
      "abc##\n",
      "  abc\n"
     ]
    }
   ],
   "source": [
    "#ljust, rjust\n",
    "print(b.ljust(5,\"#\"))\n",
    "print(b.rjust(5))"
   ]
  },
  {
   "cell_type": "code",
   "execution_count": 20,
   "metadata": {},
   "outputs": [
    {
     "name": "stdout",
     "output_type": "stream",
     "text": [
      "all\n",
      "ALL\n",
      "AlL\n"
     ]
    }
   ],
   "source": [
    "#swapcase\n",
    "print(\"ALL\".swapcase())\n",
    "print(\"all\".swapcase())\n",
    "print(\"aLl\".swapcase())"
   ]
  },
  {
   "cell_type": "code",
   "execution_count": 50,
   "metadata": {},
   "outputs": [
    {
     "name": "stdout",
     "output_type": "stream",
     "text": [
      "this is good\n",
      "   this is good\n",
      "his is good\n",
      "   this is g\n",
      "   this is good\n"
     ]
    }
   ],
   "source": [
    "#lstrip, rstrip\n",
    "string = \"   this is good\"\n",
    "print(string.lstrip())\n",
    "print(string.rstrip())\n",
    "print(string.lstrip(\" t\")) #left spaces and t removed\n",
    "print(string.rstrip(\"dos\"))\n",
    "print(string.lstrip(\"sti\"))"
   ]
  },
  {
   "cell_type": "code",
   "execution_count": 44,
   "metadata": {},
   "outputs": [
    {
     "name": "stdout",
     "output_type": "stream",
     "text": [
      "good \n",
      "   ths is good\n",
      "www.programiz.com/\n"
     ]
    }
   ],
   "source": [
    "random_string = '   ths is good '\n",
    "\n",
    "print(random_string.lstrip('s thi'))\n",
    "\n",
    "website = 'https://www.programiz.com/'\n",
    "print(website.lstrip('htps:/'))\n"
   ]
  },
  {
   "cell_type": "code",
   "execution_count": 61,
   "metadata": {},
   "outputs": [
    {
     "name": "stdout",
     "output_type": "stream",
     "text": [
      "Bye Sonia Bye\n",
      "ye Sonia By\n",
      "droid is awesome\n"
     ]
    }
   ],
   "source": [
    "#strip\n",
    "string = '  Bye Sonia Bye   '\n",
    "\n",
    "print(string.strip())\n",
    "print(string.strip('a e B'))\n",
    "\n",
    "string = 'android is awesome'\n",
    "print(string.strip('an'))"
   ]
  },
  {
   "cell_type": "code",
   "execution_count": 76,
   "metadata": {},
   "outputs": [
    {
     "name": "stdout",
     "output_type": "stream",
     "text": [
      "('Rameen ', 'is', ' sleeping. She is going')\n",
      "('Rameen is sleeping. She ', 'is', ' going')\n"
     ]
    }
   ],
   "source": [
    "#partition, rpartition\n",
    "string = \"Rameen is sleeping. She is going\"\n",
    "print(string.partition(\"is\"))\n",
    "print(string.rpartition(\"is\"))"
   ]
  },
  {
   "cell_type": "code",
   "execution_count": 84,
   "metadata": {},
   "outputs": [
    {
     "name": "stdout",
     "output_type": "stream",
     "text": [
      "['Rameen', 'is', 'sleeping.', 'She', 'is', 'going']\n",
      "['sonia', ' amna', ' khola']\n"
     ]
    }
   ],
   "source": [
    "#split and rsplit are equal but split is faster\n",
    "string = \"Rameen is sleeping. She is going\"\n",
    "names = \"sonia: amna: khola\"\n",
    "print(string.split())\n",
    "print(names.split(\":\"))"
   ]
  },
  {
   "cell_type": "code",
   "execution_count": 6,
   "metadata": {},
   "outputs": [
    {
     "name": "stdout",
     "output_type": "stream",
     "text": [
      "['cake', ' berry', ' ice', ' milk', ' sugar', ' cream, salt']\n",
      "['cake, berry, ice, milk, sugar, cream, salt']\n",
      "['cake', ' berry, ice, milk, sugar, cream, salt']\n",
      "['cake', ' berry', ' ice, milk, sugar, cream, salt']\n"
     ]
    }
   ],
   "source": [
    "items = \"cake, berry, ice, milk, sugar, cream, salt\"\n",
    "print(items.split(\",\",5)) #seperator, max number of splits, default value is -1 (no limit)\n",
    "print(items.split(\",\",0))\n",
    "print(items.split(\",\",1))\n",
    "print(items.split(\",\",2))"
   ]
  },
  {
   "cell_type": "code",
   "execution_count": 91,
   "metadata": {},
   "outputs": [
    {
     "name": "stdout",
     "output_type": "stream",
     "text": [
      "['Rameen', 'is', 'sleeping.', 'She', 'is', 'going']\n",
      "['Rameen', 'is', 'sleeping.', 'She', 'is', 'going']\n"
     ]
    }
   ],
   "source": [
    "string = \"Rameen is sleeping. She is going\"\n",
    "print(string.split()) #(faster)\n",
    "print(string.rsplit())"
   ]
  },
  {
   "cell_type": "code",
   "execution_count": 5,
   "metadata": {},
   "outputs": [
    {
     "name": "stdout",
     "output_type": "stream",
     "text": [
      "{97: '123', 98: '456', 99: '789'}\n"
     ]
    }
   ],
   "source": [
    "dict = {\"a\": \"123\", \"b\": \"456\", \"c\": \"789\"}\n",
    "print(string.maketrans(dict))\n"
   ]
  },
  {
   "cell_type": "code",
   "execution_count": 34,
   "metadata": {},
   "outputs": [
    {
     "name": "stdout",
     "output_type": "stream",
     "text": [
      "warm clothes keep you warm, dont wear warm clothes in warm weather\n",
      "cold clothes keep you cold, dont wear cold clothes in warm weather\n"
     ]
    }
   ],
   "source": [
    "#replace\n",
    "sen = \"warm clothes keep you warm, dont wear warm clothes in warm weather\"\n",
    "print(sen.replace(\"warm\",\"cold\",0))#number of times you want to replace\n",
    "print(sen.replace(\"warm\",\"cold\",3))"
   ]
  },
  {
   "cell_type": "code",
   "execution_count": 48,
   "metadata": {},
   "outputs": [
    {
     "name": "stdout",
     "output_type": "stream",
     "text": [
      "['milk', ' milk', ' milk']\n",
      "['milk\\n', ' milk\\n', ' milk']\n"
     ]
    }
   ],
   "source": [
    "#splitlines\n",
    "sen = \"milk\\n milk\\n milk\"\n",
    "print(sen.splitlines())\n",
    "print(sen.splitlines(True))# if keepsend is true then breaks are included"
   ]
  },
  {
   "cell_type": "code",
   "execution_count": 59,
   "metadata": {},
   "outputs": [
    {
     "name": "stdout",
     "output_type": "stream",
     "text": [
      "True\n",
      "True\n",
      "True\n"
     ]
    }
   ],
   "source": [
    "#startswith\n",
    "string = \"wear thin clothes in warm weather\"\n",
    "print(string.startswith(\"w\"))\n",
    "print(string.startswith(\"w\",21,26))#start,end searching\n",
    "print(string.startswith((\"thin\",\"wear\",\"warm\"),21,26)) #tuple is passes. if any of its items matched will return true"
   ]
  },
  {
   "cell_type": "code",
   "execution_count": 65,
   "metadata": {},
   "outputs": [
    {
     "name": "stdout",
     "output_type": "stream",
     "text": [
      "00hello\n",
      "-000345\n"
     ]
    }
   ],
   "source": [
    "#zfill (fill zeros)\n",
    "print(\"hello\".zfill(7))\n",
    "print(\"-345\".zfill(7))"
   ]
  },
  {
   "cell_type": "code",
   "execution_count": 2,
   "metadata": {},
   "outputs": [
    {
     "name": "stdout",
     "output_type": "stream",
     "text": [
      "f332 is t1sty\n"
     ]
    }
   ],
   "source": [
    "# translate, maketrans\n",
    "sen = \"food is tasty\"\n",
    "inp = \"ado\"\n",
    "out = \"123\"\n",
    "output = sen.maketrans(inp,out)\n",
    "print(sen.translate(output))\n"
   ]
  }
 ],
 "metadata": {
  "kernelspec": {
   "display_name": "Python 3",
   "language": "python",
   "name": "python3"
  },
  "language_info": {
   "codemirror_mode": {
    "name": "ipython",
    "version": 3
   },
   "file_extension": ".py",
   "mimetype": "text/x-python",
   "name": "python",
   "nbconvert_exporter": "python",
   "pygments_lexer": "ipython3",
   "version": "3.7.3"
  }
 },
 "nbformat": 4,
 "nbformat_minor": 2
}
