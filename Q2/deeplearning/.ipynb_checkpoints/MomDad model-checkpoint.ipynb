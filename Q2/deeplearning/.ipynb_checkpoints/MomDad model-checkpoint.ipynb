{
 "cells": [
  {
   "cell_type": "code",
   "execution_count": 10,
   "metadata": {},
   "outputs": [],
   "source": [
    "from tensorflow.keras.models import Sequential\n",
    "from tensorflow.keras.layers import Dense, Flatten\n",
    "from tensorflow.keras.optimizers import Adam, SGD\n",
    "from tensorflow.keras.preprocessing.image import ImageDataGenerator"
   ]
  },
  {
   "cell_type": "code",
   "execution_count": 6,
   "metadata": {},
   "outputs": [],
   "source": [
    "train_data_gen = ImageDataGenerator(rescale = 1.0/255)"
   ]
  },
  {
   "cell_type": "code",
   "execution_count": 27,
   "metadata": {},
   "outputs": [
    {
     "name": "stdout",
     "output_type": "stream",
     "text": [
      "Found 65 images belonging to 2 classes.\n"
     ]
    }
   ],
   "source": [
    "train_data = train_data_gen.flow_from_directory(\"F:/study/AI/Q2 lectures/datasets/family dataset/train\",\n",
    "                                               target_size=(150,150),\n",
    "                                               batch_size=5,\n",
    "                                               class_mode=\"binary\")"
   ]
  },
  {
   "cell_type": "code",
   "execution_count": 28,
   "metadata": {},
   "outputs": [
    {
     "data": {
      "text/plain": [
       "{'Abu': 0, 'Mum': 1}"
      ]
     },
     "execution_count": 28,
     "metadata": {},
     "output_type": "execute_result"
    }
   ],
   "source": [
    "train_data.class_indices"
   ]
  },
  {
   "cell_type": "code",
   "execution_count": 137,
   "metadata": {},
   "outputs": [],
   "source": [
    "model = Sequential()\n",
    "model.add(Flatten())\n",
    "model.add(Dense(40, activation = \"relu\"))\n",
    "model.add(Dense(40, activation = \"relu\"))\n",
    "model.add(Dense(1, activation = \"sigmoid\"))"
   ]
  },
  {
   "cell_type": "code",
   "execution_count": 138,
   "metadata": {},
   "outputs": [],
   "source": [
    "model.compile(optimizer=\"adam\",\n",
    "             loss=\"binary_crossentropy\",\n",
    "             metrics = [\"acc\"])"
   ]
  },
  {
   "cell_type": "code",
   "execution_count": 139,
   "metadata": {},
   "outputs": [
    {
     "name": "stdout",
     "output_type": "stream",
     "text": [
      "Epoch 1/20\n",
      "13/13 [==============================] - 6s 447ms/step - loss: 8.0280 - acc: 0.4923\n",
      "Epoch 2/20\n",
      "13/13 [==============================] - 5s 422ms/step - loss: 4.4904 - acc: 0.5231\n",
      "Epoch 3/20\n",
      "13/13 [==============================] - 5s 410ms/step - loss: 5.5760 - acc: 0.5692\n",
      "Epoch 4/20\n",
      "13/13 [==============================] - 6s 430ms/step - loss: 1.6212 - acc: 0.7385\n",
      "Epoch 5/20\n",
      "13/13 [==============================] - 6s 443ms/step - loss: 0.9412 - acc: 0.8308\n",
      "Epoch 6/20\n",
      "13/13 [==============================] - 5s 399ms/step - loss: 0.7389 - acc: 0.8308\n",
      "Epoch 7/20\n",
      "13/13 [==============================] - 5s 417ms/step - loss: 0.6273 - acc: 0.8462\n",
      "Epoch 8/20\n",
      "13/13 [==============================] - 5s 417ms/step - loss: 0.8355 - acc: 0.8154\n",
      "Epoch 9/20\n",
      "13/13 [==============================] - 12s 891ms/step - loss: 1.5400 - acc: 0.7692\n",
      "Epoch 10/20\n",
      "13/13 [==============================] - 18s 1s/step - loss: 1.4306 - acc: 0.7846\n",
      "Epoch 11/20\n",
      "13/13 [==============================] - 21s 2s/step - loss: 0.5086 - acc: 0.8769\n",
      "Epoch 12/20\n",
      "13/13 [==============================] - 15s 1s/step - loss: 0.9599 - acc: 0.7692\n",
      "Epoch 13/20\n",
      "13/13 [==============================] - 16s 1s/step - loss: 0.6108 - acc: 0.8462\n",
      "Epoch 14/20\n",
      "13/13 [==============================] - 17s 1s/step - loss: 2.8010 - acc: 0.6154\n",
      "Epoch 15/20\n",
      "13/13 [==============================] - 16s 1s/step - loss: 4.8979 - acc: 0.5231\n",
      "Epoch 16/20\n",
      "13/13 [==============================] - 16s 1s/step - loss: 0.8269 - acc: 0.8308\n",
      "Epoch 17/20\n",
      "13/13 [==============================] - 16s 1s/step - loss: 1.1310 - acc: 0.8308\n",
      "Epoch 18/20\n",
      "13/13 [==============================] - 16s 1s/step - loss: 1.0512 - acc: 0.8308\n",
      "Epoch 19/20\n",
      "13/13 [==============================] - 16s 1s/step - loss: 0.8165 - acc: 0.8769\n",
      "Epoch 20/20\n",
      "13/13 [==============================] - 17s 1s/step - loss: 0.6529 - acc: 0.8769\n"
     ]
    },
    {
     "data": {
      "text/plain": [
       "<tensorflow.python.keras.callbacks.History at 0x143272a27f0>"
      ]
     },
     "execution_count": 139,
     "metadata": {},
     "output_type": "execute_result"
    }
   ],
   "source": [
    "model.fit(train_data, epochs=20)"
   ]
  },
  {
   "cell_type": "code",
   "execution_count": 140,
   "metadata": {},
   "outputs": [
    {
     "name": "stdout",
     "output_type": "stream",
     "text": [
      "13/13 [==============================] - 18s 1s/step - loss: 0.5696 - acc: 0.8923\n"
     ]
    },
    {
     "data": {
      "text/plain": [
       "[0.5695556402206421, 0.892307698726654]"
      ]
     },
     "execution_count": 140,
     "metadata": {},
     "output_type": "execute_result"
    }
   ],
   "source": [
    "model.evaluate(train_data)"
   ]
  },
  {
   "cell_type": "code",
   "execution_count": 126,
   "metadata": {},
   "outputs": [
    {
     "name": "stdout",
     "output_type": "stream",
     "text": [
      "Found 11 images belonging to 2 classes.\n"
     ]
    }
   ],
   "source": [
    "test_data = train_data_gen.flow_from_directory(\"F:/study/AI/Q2 lectures/datasets/family dataset/test\",\n",
    "                                              target_size=(150,150),\n",
    "                                              class_mode=\"binary\")"
   ]
  },
  {
   "cell_type": "code",
   "execution_count": 141,
   "metadata": {},
   "outputs": [],
   "source": [
    "y = model.predict(test_data)"
   ]
  },
  {
   "cell_type": "code",
   "execution_count": 142,
   "metadata": {},
   "outputs": [
    {
     "data": {
      "text/plain": [
       "array([[2.4250047e-08],\n",
       "       [9.9983966e-01],\n",
       "       [3.5875639e-01],\n",
       "       [8.0656219e-01],\n",
       "       [8.5315144e-01],\n",
       "       [9.5448422e-01],\n",
       "       [4.8527539e-02],\n",
       "       [1.1431277e-03],\n",
       "       [1.5739717e-05],\n",
       "       [9.8192972e-01],\n",
       "       [6.5294967e-04]], dtype=float32)"
      ]
     },
     "execution_count": 142,
     "metadata": {},
     "output_type": "execute_result"
    }
   ],
   "source": [
    "y"
   ]
  },
  {
   "cell_type": "code",
   "execution_count": 129,
   "metadata": {},
   "outputs": [],
   "source": [
    "import numpy as np"
   ]
  },
  {
   "cell_type": "code",
   "execution_count": 143,
   "metadata": {},
   "outputs": [
    {
     "data": {
      "text/plain": [
       "array([['Mum'],\n",
       "       ['Abu'],\n",
       "       ['Mum'],\n",
       "       ['Abu'],\n",
       "       ['Abu'],\n",
       "       ['Abu'],\n",
       "       ['Mum'],\n",
       "       ['Mum'],\n",
       "       ['Mum'],\n",
       "       ['Abu'],\n",
       "       ['Mum']], dtype='<U3')"
      ]
     },
     "execution_count": 143,
     "metadata": {},
     "output_type": "execute_result"
    }
   ],
   "source": [
    "np.where(y>0.5, \"Abu\", \"Mum\")"
   ]
  },
  {
   "cell_type": "code",
   "execution_count": 144,
   "metadata": {},
   "outputs": [
    {
     "name": "stdout",
     "output_type": "stream",
     "text": [
      "1/1 [==============================] - 0s 10ms/step - loss: 0.9013 - acc: 0.6364\n"
     ]
    },
    {
     "data": {
      "text/plain": [
       "[0.9013090133666992, 0.6363636255264282]"
      ]
     },
     "execution_count": 144,
     "metadata": {},
     "output_type": "execute_result"
    }
   ],
   "source": [
    "model.evaluate(test_data)"
   ]
  },
  {
   "cell_type": "code",
   "execution_count": null,
   "metadata": {},
   "outputs": [],
   "source": []
  },
  {
   "cell_type": "code",
   "execution_count": null,
   "metadata": {},
   "outputs": [],
   "source": []
  }
 ],
 "metadata": {
  "kernelspec": {
   "display_name": "Python 3",
   "language": "python",
   "name": "python3"
  },
  "language_info": {
   "codemirror_mode": {
    "name": "ipython",
    "version": 3
   },
   "file_extension": ".py",
   "mimetype": "text/x-python",
   "name": "python",
   "nbconvert_exporter": "python",
   "pygments_lexer": "ipython3",
   "version": "3.7.3"
  }
 },
 "nbformat": 4,
 "nbformat_minor": 2
}
