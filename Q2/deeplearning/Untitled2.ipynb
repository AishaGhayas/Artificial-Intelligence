{
 "cells": [
  {
   "cell_type": "markdown",
   "metadata": {},
   "source": [
    "holdout cross validation:\n",
    "while continuously changing hyperparameters and training some of the info is leaked each time affecting acc. therefore training data is divided into train and val data then when u achieve max val acc u amd best hypothesis space is achieved then u should merge train and val data and do final training on the merged training data and then final testing on completely unseen test data\n",
    "\n",
    "Kfold cross validation\n",
    "https://scikit-learn.org/stable/modules/cross_validation.html"
   ]
  },
  {
   "cell_type": "code",
   "execution_count": null,
   "metadata": {},
   "outputs": [],
   "source": []
  }
 ],
 "metadata": {
  "kernelspec": {
   "display_name": "Python 3",
   "language": "python",
   "name": "python3"
  },
  "language_info": {
   "codemirror_mode": {
    "name": "ipython",
    "version": 3
   },
   "file_extension": ".py",
   "mimetype": "text/x-python",
   "name": "python",
   "nbconvert_exporter": "python",
   "pygments_lexer": "ipython3",
   "version": "3.7.3"
  }
 },
 "nbformat": 4,
 "nbformat_minor": 2
}
