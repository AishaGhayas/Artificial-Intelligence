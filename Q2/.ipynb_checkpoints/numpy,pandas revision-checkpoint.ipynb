{
 "cells": [
  {
   "cell_type": "code",
   "execution_count": 2,
   "metadata": {},
   "outputs": [],
   "source": [
    "import numpy as np"
   ]
  },
  {
   "cell_type": "code",
   "execution_count": 4,
   "metadata": {},
   "outputs": [
    {
     "data": {
      "text/plain": [
       "array([[[1, 7, 9],\n",
       "        [5, 9, 3],\n",
       "        [7, 9, 9]],\n",
       "\n",
       "       [[1, 2, 6],\n",
       "        [5, 9, 0],\n",
       "        [2, 0, 3]]])"
      ]
     },
     "execution_count": 4,
     "metadata": {},
     "output_type": "execute_result"
    }
   ],
   "source": [
    "a = np.array ( [ [ [ 1 , 7 , 9 ], \n",
    "                 [ 5 , 9 , 3 ],\n",
    "                 [ 7 , 9 , 9 ] ], \n",
    "                 [ [ 1 , 2 , 6 ], \n",
    "                 [ 5 , 9 , 0 ],\n",
    "                 [ 2 , 0 , 3 ] ] ] )\n",
    "a"
   ]
  },
  {
   "cell_type": "code",
   "execution_count": 5,
   "metadata": {},
   "outputs": [
    {
     "data": {
      "text/plain": [
       "9"
      ]
     },
     "execution_count": 5,
     "metadata": {},
     "output_type": "execute_result"
    }
   ],
   "source": [
    "a[0,2,1]"
   ]
  },
  {
   "cell_type": "code",
   "execution_count": 8,
   "metadata": {},
   "outputs": [
    {
     "data": {
      "text/plain": [
       "9"
      ]
     },
     "execution_count": 8,
     "metadata": {},
     "output_type": "execute_result"
    }
   ],
   "source": [
    "a = np.array ( [ [ 1 , 7 , 9 ], \n",
    "                 [ 5 , 9 , 3 ],\n",
    "                 [ 7 , 9 , 9 ] ] )\n",
    "a[2,1]"
   ]
  },
  {
   "cell_type": "code",
   "execution_count": 13,
   "metadata": {},
   "outputs": [
    {
     "data": {
      "text/plain": [
       "array([[[[1, 7, 9],\n",
       "         [5, 9, 3],\n",
       "         [7, 9, 9]],\n",
       "\n",
       "        [[1, 2, 6],\n",
       "         [5, 9, 0],\n",
       "         [2, 0, 3]]],\n",
       "\n",
       "\n",
       "       [[[1, 7, 9],\n",
       "         [5, 9, 3],\n",
       "         [7, 9, 9]],\n",
       "\n",
       "        [[1, 2, 6],\n",
       "         [5, 9, 0],\n",
       "         [2, 0, 3]]]])"
      ]
     },
     "execution_count": 13,
     "metadata": {},
     "output_type": "execute_result"
    }
   ],
   "source": [
    "a = np.array ( [ [ [ [ 1 , 7 , 9 ], \n",
    "                 [ 5 , 9 , 3 ],\n",
    "                 [ 7 , 9 , 9 ] ], \n",
    "                  \n",
    "                [ [ 1 , 2 , 6 ], \n",
    "                 [ 5 , 9 , 0 ],\n",
    "                 [ 2 , 0 , 3 ] ] ],\n",
    "                [ [ [ 1 , 7 , 9 ], \n",
    "                 [ 5 , 9 , 3 ],\n",
    "                 [ 7 , 9 , 9 ] ], \n",
    "                  \n",
    "                [ [ 1 , 2 , 6 ], \n",
    "                 [ 5 , 9 , 0 ],\n",
    "                 [ 2 , 0 , 3 ] ] ]\n",
    "               \n",
    "               ] )\n",
    "a"
   ]
  },
  {
   "cell_type": "code",
   "execution_count": 14,
   "metadata": {},
   "outputs": [
    {
     "data": {
      "text/plain": [
       "(2, 2, 3, 3)"
      ]
     },
     "execution_count": 14,
     "metadata": {},
     "output_type": "execute_result"
    }
   ],
   "source": [
    "a.shape"
   ]
  },
  {
   "cell_type": "code",
   "execution_count": 18,
   "metadata": {},
   "outputs": [
    {
     "data": {
      "text/plain": [
       "array([[[[ 0.01914792, -0.31958951],\n",
       "         [-2.14446542, -0.93033872],\n",
       "         [ 0.52721911, -0.04878236]],\n",
       "\n",
       "        [[ 0.96466484, -1.0520807 ],\n",
       "         [ 1.84868624,  0.71084826],\n",
       "         [-1.91738557, -1.21241617]],\n",
       "\n",
       "        [[-1.08365367, -1.71840163],\n",
       "         [ 0.40441496,  0.49492583],\n",
       "         [ 0.54966411,  0.29290098]]],\n",
       "\n",
       "\n",
       "       [[[ 0.48170927,  0.15155003],\n",
       "         [-0.21375635, -0.83302513],\n",
       "         [-0.795516  ,  2.0779531 ]],\n",
       "\n",
       "        [[ 0.27692554, -1.23722538],\n",
       "         [-0.93284253, -0.10734164],\n",
       "         [ 1.01903064,  1.19151351]],\n",
       "\n",
       "        [[ 0.49881375, -0.43863938],\n",
       "         [-2.15671578, -1.61443317],\n",
       "         [ 0.33967551,  0.07442555]]],\n",
       "\n",
       "\n",
       "       [[[-0.17762929,  0.05391919],\n",
       "         [-1.21936315, -0.34796402],\n",
       "         [-1.32617949, -1.8299793 ]],\n",
       "\n",
       "        [[ 0.82353011, -0.88784398],\n",
       "         [-0.04672778, -0.75598163],\n",
       "         [ 0.49597234,  1.85436097]],\n",
       "\n",
       "        [[-0.91351695, -1.43762344],\n",
       "         [ 1.82958127,  0.87836555],\n",
       "         [ 1.42748905,  0.72017817]]],\n",
       "\n",
       "\n",
       "       [[[-0.82239996,  0.83301859],\n",
       "         [ 0.11729612,  1.77287495],\n",
       "         [-0.40160173, -0.00987048]],\n",
       "\n",
       "        [[-0.65806778, -0.73946709],\n",
       "         [-0.02949262, -1.2531218 ],\n",
       "         [-0.16271508, -1.04958752]],\n",
       "\n",
       "        [[ 0.62281035, -0.44014678],\n",
       "         [ 0.5791725 ,  1.38931231],\n",
       "         [ 0.08423197, -0.73342064]]]])"
      ]
     },
     "execution_count": 18,
     "metadata": {},
     "output_type": "execute_result"
    }
   ],
   "source": [
    "x = np.random.randn(4, 3, 3, 2)\n",
    "x"
   ]
  },
  {
   "cell_type": "markdown",
   "metadata": {},
   "source": [
    "printing multiple values from 2D array"
   ]
  },
  {
   "cell_type": "code",
   "execution_count": 19,
   "metadata": {},
   "outputs": [
    {
     "data": {
      "text/plain": [
       "array([[1, 7, 9],\n",
       "       [5, 9, 3],\n",
       "       [7, 9, 9],\n",
       "       [1, 2, 6],\n",
       "       [5, 9, 0],\n",
       "       [2, 0, 3]])"
      ]
     },
     "execution_count": 19,
     "metadata": {},
     "output_type": "execute_result"
    }
   ],
   "source": [
    "a = np.array ( [ [ 1 , 7 , 9 ], \n",
    "                 [ 5 , 9 , 3 ],\n",
    "                 [ 7 , 9 , 9 ] , \n",
    "                 [ 1 , 2 , 6 ], \n",
    "                 [ 5 , 9 , 0 ],\n",
    "                 [ 2 , 0 , 3 ] ] )\n",
    "a"
   ]
  },
  {
   "cell_type": "code",
   "execution_count": 20,
   "metadata": {},
   "outputs": [
    {
     "data": {
      "text/plain": [
       "9"
      ]
     },
     "execution_count": 20,
     "metadata": {},
     "output_type": "execute_result"
    }
   ],
   "source": [
    "a[1,1]"
   ]
  },
  {
   "cell_type": "code",
   "execution_count": 22,
   "metadata": {},
   "outputs": [
    {
     "data": {
      "text/plain": [
       "array([9, 9, 9, 9])"
      ]
     },
     "execution_count": 22,
     "metadata": {},
     "output_type": "execute_result"
    }
   ],
   "source": [
    "a[[0,1,2,4],[2,1,2,1]] #[[rows], [columns]]"
   ]
  },
  {
   "cell_type": "code",
   "execution_count": 25,
   "metadata": {},
   "outputs": [
    {
     "data": {
      "text/plain": [
       "array([[1, 7, 9],\n",
       "       [5, 9, 3],\n",
       "       [7, 9, 9],\n",
       "       [5, 9, 0]])"
      ]
     },
     "execution_count": 25,
     "metadata": {},
     "output_type": "execute_result"
    }
   ],
   "source": [
    "a[[0,1,2,4]] #all mentioned rows"
   ]
  },
  {
   "cell_type": "code",
   "execution_count": 30,
   "metadata": {},
   "outputs": [
    {
     "data": {
      "text/plain": [
       "array([[1, 9],\n",
       "       [5, 3],\n",
       "       [7, 9],\n",
       "       [1, 6],\n",
       "       [5, 0],\n",
       "       [2, 3]])"
      ]
     },
     "execution_count": 30,
     "metadata": {},
     "output_type": "execute_result"
    }
   ],
   "source": [
    "a[:,[0,2]] #full col 0 and 2"
   ]
  },
  {
   "cell_type": "code",
   "execution_count": 33,
   "metadata": {},
   "outputs": [
    {
     "ename": "IndexError",
     "evalue": "too many indices for array",
     "output_type": "error",
     "traceback": [
      "\u001b[1;31m---------------------------------------------------------------------------\u001b[0m",
      "\u001b[1;31mIndexError\u001b[0m                                Traceback (most recent call last)",
      "\u001b[1;32m<ipython-input-33-9b3f4c0b8576>\u001b[0m in \u001b[0;36m<module>\u001b[1;34m\u001b[0m\n\u001b[1;32m----> 1\u001b[1;33m \u001b[0ma\u001b[0m\u001b[1;33m[\u001b[0m\u001b[1;36m2\u001b[0m\u001b[1;33m,\u001b[0m\u001b[1;36m0\u001b[0m\u001b[1;33m,\u001b[0m\u001b[1;36m2\u001b[0m\u001b[1;33m]\u001b[0m \u001b[1;31m# slide, rows, col --> but array is 2D\u001b[0m\u001b[1;33m\u001b[0m\u001b[1;33m\u001b[0m\u001b[0m\n\u001b[0m",
      "\u001b[1;31mIndexError\u001b[0m: too many indices for array"
     ]
    }
   ],
   "source": [
    "a[2,0,2] # slide, rows, col --> but array is 2D"
   ]
  },
  {
   "cell_type": "code",
   "execution_count": null,
   "metadata": {},
   "outputs": [],
   "source": [
    "axis 0 --> row\n",
    "1 --> col"
   ]
  },
  {
   "cell_type": "code",
   "execution_count": 40,
   "metadata": {},
   "outputs": [
    {
     "name": "stdout",
     "output_type": "stream",
     "text": [
      "[[1 2 3]\n",
      " [4 5 6]]\n",
      "[[ 7  8  9]\n",
      " [10 11 12]]\n"
     ]
    }
   ],
   "source": [
    "arr1 = np.array ( [ [ 1, 2, 3 ] , [ 4, 5, 6 ] ] ) \n",
    "\n",
    "arr2 = np.array ( [ [ 7, 8, 9 ] , [ 10, 11, 12 ] ] )\n",
    "print(arr1, arr2, sep=\"\\n\")"
   ]
  },
  {
   "cell_type": "code",
   "execution_count": 35,
   "metadata": {},
   "outputs": [
    {
     "data": {
      "text/plain": [
       "array([[ 1,  2,  3],\n",
       "       [ 4,  5,  6],\n",
       "       [ 7,  8,  9],\n",
       "       [10, 11, 12]])"
      ]
     },
     "execution_count": 35,
     "metadata": {},
     "output_type": "execute_result"
    }
   ],
   "source": [
    "np.concatenate([arr1,arr2], axis = 0)"
   ]
  },
  {
   "cell_type": "code",
   "execution_count": 36,
   "metadata": {},
   "outputs": [
    {
     "data": {
      "text/plain": [
       "array([[ 1,  2,  3],\n",
       "       [ 4,  5,  6],\n",
       "       [ 7,  8,  9],\n",
       "       [10, 11, 12]])"
      ]
     },
     "execution_count": 36,
     "metadata": {},
     "output_type": "execute_result"
    }
   ],
   "source": [
    "#same as above\n",
    "np.vstack((arr1,arr2))"
   ]
  },
  {
   "cell_type": "code",
   "execution_count": 37,
   "metadata": {},
   "outputs": [
    {
     "data": {
      "text/plain": [
       "array([[ 1,  2,  3,  7,  8,  9],\n",
       "       [ 4,  5,  6, 10, 11, 12]])"
      ]
     },
     "execution_count": 37,
     "metadata": {},
     "output_type": "execute_result"
    }
   ],
   "source": [
    "np.concatenate([arr1,arr2], axis = 1) #axis 1 adds col-vise"
   ]
  },
  {
   "cell_type": "code",
   "execution_count": 38,
   "metadata": {},
   "outputs": [
    {
     "data": {
      "text/plain": [
       "array([[ 1,  2,  3,  7,  8,  9],\n",
       "       [ 4,  5,  6, 10, 11, 12]])"
      ]
     },
     "execution_count": 38,
     "metadata": {},
     "output_type": "execute_result"
    }
   ],
   "source": [
    "#same as above\n",
    "np.hstack((arr1,arr2))"
   ]
  },
  {
   "cell_type": "markdown",
   "metadata": {},
   "source": [
    "difference between stack and concatinate\n",
    "* for concatinate both array dimension should be same\n",
    "* but for stack will join even without same D of both arrays"
   ]
  },
  {
   "cell_type": "code",
   "execution_count": null,
   "metadata": {},
   "outputs": [],
   "source": [
    "results for both vstack and concat is same if both have same D\n",
    "but concat join both arr as 1 2D array\n",
    "stack consider both as 2 seperate 2D arrays\n"
   ]
  },
  {
   "cell_type": "code",
   "execution_count": null,
   "metadata": {},
   "outputs": [],
   "source": [
    "np.concatenate ( [arr1, arr2] , axis = 0 ) \n",
    "Out: array ( [ [ 1 , 2 , 3 ],\n",
    "                        [ 4 , 5 , 6 ],\n",
    "                        [ 7 , 8 , 9 ],\n",
    "                        [10,11,12] ] )\n",
    "np.stack ( (arr1, arr2) , axis = 0 ) \n",
    "Out: array ( [ [ [ 1 , 2 , 3 ],\n",
    "                          [ 4 , 5 , 6 ] ],\n",
    "                        [ [ 7 , 8 , 9 ]\n",
    "                          [10,11,12] ] ] )\n"
   ]
  },
  {
   "cell_type": "code",
   "execution_count": 43,
   "metadata": {},
   "outputs": [
    {
     "data": {
      "text/plain": [
       "array([[ 1,  2,  3],\n",
       "       [ 4,  5,  6],\n",
       "       [ 7,  8,  9],\n",
       "       [10, 11, 12]])"
      ]
     },
     "execution_count": 43,
     "metadata": {},
     "output_type": "execute_result"
    }
   ],
   "source": [
    "concat and stack has following difference\n",
    "np.concatenate ( [arr1, arr2] , axis = 0 ) "
   ]
  },
  {
   "cell_type": "code",
   "execution_count": 44,
   "metadata": {},
   "outputs": [
    {
     "data": {
      "text/plain": [
       "array([[[ 1,  2,  3],\n",
       "        [ 4,  5,  6]],\n",
       "\n",
       "       [[ 7,  8,  9],\n",
       "        [10, 11, 12]]])"
      ]
     },
     "execution_count": 44,
     "metadata": {},
     "output_type": "execute_result"
    }
   ],
   "source": [
    "np.stack ( (arr1, arr2) , axis = 0 )"
   ]
  }
 ],
 "metadata": {
  "kernelspec": {
   "display_name": "Python 3",
   "language": "python",
   "name": "python3"
  },
  "language_info": {
   "codemirror_mode": {
    "name": "ipython",
    "version": 3
   },
   "file_extension": ".py",
   "mimetype": "text/x-python",
   "name": "python",
   "nbconvert_exporter": "python",
   "pygments_lexer": "ipython3",
   "version": "3.7.3"
  }
 },
 "nbformat": 4,
 "nbformat_minor": 2
}
