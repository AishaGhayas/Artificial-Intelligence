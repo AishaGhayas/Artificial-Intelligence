{
 "cells": [
  {
   "cell_type": "markdown",
   "metadata": {},
   "source": [
    "# functions"
   ]
  },
  {
   "cell_type": "raw",
   "metadata": {},
   "source": [
    "1- for preventing repetition\n",
    "2- short and have a long instructions at the backend\n",
    "steps:\n",
    "    1. function declaration\n",
    "    2. body(set of instructions)\n",
    "    3. call(function execution)"
   ]
  },
  {
   "cell_type": "raw",
   "metadata": {},
   "source": [
    "pre defined function\n",
    "    already exits\n",
    "user defined function\n",
    "    user make a function himself\n",
    "Default function\n",
    "    doesn't require argument while calling\n",
    "Required argument\n",
    "    require argument while calling.\n",
    "default argument\n",
    "    arguments value set by default. if value not changed function uses default value\n",
    "recursive function\n",
    "    call itself in its own body. infintly executes needs to be stopped \n",
    "generator function\n",
    "    when called doesn't directly allocate space in memory. instead step by step takes the members and allocates in memory. e.g     in range function. remembers previous value returned.\n",
    "lambda function\n",
    "    no name, one line function. used only once.\n",
    "positional arguments\n",
    "    position of arguments passed matters\n",
    "key word arguments\n",
    "    position does'nt matter. pass keywords\n",
    "argument with list\n",
    "    *list (passing each element one by one as positional argument)\n",
    "argument with dictionary\n",
    "    **dict (unzip dict and pass keyword arguments)"
   ]
  },
  {
   "cell_type": "markdown",
   "metadata": {},
   "source": [
    "# pre defined functions"
   ]
  },
  {
   "cell_type": "code",
   "execution_count": 1,
   "metadata": {},
   "outputs": [
    {
     "name": "stdout",
     "output_type": "stream",
     "text": [
      "asd\n",
      "8\n",
      "<class 'int'>\n",
      "1821364806800\n"
     ]
    }
   ],
   "source": [
    "print(\"asd\")\n",
    "print(len(\"aassddff\"))\n",
    "print(type(22))\n",
    "print(id(\"aa\"))"
   ]
  },
  {
   "cell_type": "markdown",
   "metadata": {},
   "source": [
    "# user defined function and default function"
   ]
  },
  {
   "cell_type": "code",
   "execution_count": 2,
   "metadata": {},
   "outputs": [
    {
     "name": "stdout",
     "output_type": "stream",
     "text": [
      "pakistan\n",
      "hello\n",
      "country\n"
     ]
    }
   ],
   "source": [
    "print(\"pakistan\")\n",
    "print(\"hello\")\n",
    "print(\"country\")"
   ]
  },
  {
   "cell_type": "code",
   "execution_count": 3,
   "metadata": {},
   "outputs": [
    {
     "name": "stdout",
     "output_type": "stream",
     "text": [
      "pakistan\n",
      "hello\n",
      "country\n",
      "pakistan\n",
      "hello\n",
      "country\n",
      "pakistan\n",
      "hello\n",
      "country\n"
     ]
    }
   ],
   "source": [
    "def abc(): #function declaration\n",
    "    print(\"pakistan\")\n",
    "    print(\"hello\")\n",
    "    print(\"country\")\n",
    "\n",
    "abc() #function call #default function\n",
    "abc() #function call\n",
    "abc() #function call"
   ]
  },
  {
   "cell_type": "raw",
   "metadata": {},
   "source": [
    "1. linear programming\n",
    "each line for each task so its fast\n",
    "not efficient but its fast\n",
    "2. functional programming/structural programming\n",
    "provided blocks e.g if block, else block\n",
    "efficient. less lines of code\n",
    "slow comparatively bcz interpretor has to search for funtions when called"
   ]
  },
  {
   "cell_type": "markdown",
   "metadata": {},
   "source": [
    "# required arguments"
   ]
  },
  {
   "cell_type": "code",
   "execution_count": 2,
   "metadata": {
    "collapsed": true
   },
   "outputs": [
    {
     "name": "stdout",
     "output_type": "stream",
     "text": [
      "\n",
      "    PIAIC Islamabad\n",
      "    ID: 1\n",
      "    Name: Ali\n",
      "    Father's Name: Hamza\n",
      "    Course: AI\n",
      "    Timing: 9-12\n",
      "    \n",
      "\n",
      "    PIAIC Islamabad\n",
      "    ID: 1\n",
      "    Name: Aisha\n",
      "    Father's Name: Ghayas\n",
      "    Course: AI\n",
      "    Timing: 9-12\n",
      "    \n"
     ]
    }
   ],
   "source": [
    "def id_card(id,name,fname, course, timing): #parameters\n",
    "    text = \"\"\"\n",
    "    PIAIC Islamabad\n",
    "    ID: {}\n",
    "    Name: {}\n",
    "    Father's Name: {}\n",
    "    Course: {}\n",
    "    Timing: {}\n",
    "    \"\"\".format(id,name,fname,course,timing)\n",
    "    print(text)\n",
    "id_card(1,\"Ali\",\"Hamza\",\"AI\",\"9-12\") #arguments\n",
    "id_card(1,\"Aisha\",\"Ghayas\",\"AI\",\"9-12\")\n",
    "\n",
    "# variable scope is local if it is only used within a function\n",
    "# variable scope is global if it is used within a function as well as outside it"
   ]
  },
  {
   "cell_type": "code",
   "execution_count": 10,
   "metadata": {},
   "outputs": [
    {
     "name": "stdout",
     "output_type": "stream",
     "text": [
      "\n",
      "    PIAIC Islamabad\n",
      "    ID: 1\n",
      "    Name: Ali\n",
      "    Father's Name: Hamza\n",
      "    Course: AI\n",
      "    Timing: 9-12\n",
      "    \n",
      "\n",
      "    PIAIC Islamabad\n",
      "    ID: 2\n",
      "    Name: Aisha\n",
      "    Father's Name: Ghayas\n",
      "    Course: AI\n",
      "    Timing: 12-3\n",
      "    \n",
      "\n",
      "    PIAIC Islamabad\n",
      "    ID: 3\n",
      "    Name: sonia\n",
      "    Father's Name: shoukat\n",
      "    Course: IOT\n",
      "    Timing: 3-6\n",
      "    \n"
     ]
    }
   ],
   "source": [
    "data = [[1,\"Ali\",\"Hamza\",\"AI\",\"9-12\"],\n",
    "       [2,\"Aisha\",\"Ghayas\",\"AI\",\"12-3\"],\n",
    "       [3,\"sonia\",\"shoukat\",\"IOT\",\"3-6\"]]\n",
    "for v in data:\n",
    "    #id_card(v[0],v[1],v[2],v[3],v[4])  or\n",
    "    id_card(*v)"
   ]
  },
  {
   "cell_type": "markdown",
   "metadata": {},
   "source": [
    "# optional argument"
   ]
  },
  {
   "cell_type": "code",
   "execution_count": 13,
   "metadata": {},
   "outputs": [
    {
     "name": "stdout",
     "output_type": "stream",
     "text": [
      "2 0 0\n",
      "2\n"
     ]
    }
   ],
   "source": [
    "def abc(x, y=0, z=0): # y, z -> optional arguments, x -> required argument\n",
    "    print(x,y,z)\n",
    "    print(x+y+z)\n",
    "abc(2)"
   ]
  },
  {
   "cell_type": "code",
   "execution_count": null,
   "metadata": {},
   "outputs": [],
   "source": []
  },
  {
   "cell_type": "code",
   "execution_count": 5,
   "metadata": {},
   "outputs": [
    {
     "name": "stdout",
     "output_type": "stream",
     "text": [
      "5 7 0\n",
      "12\n"
     ]
    }
   ],
   "source": [
    "abc(5,7)"
   ]
  },
  {
   "cell_type": "code",
   "execution_count": 14,
   "metadata": {},
   "outputs": [
    {
     "name": "stdout",
     "output_type": "stream",
     "text": [
      "3 4 5\n",
      "12\n"
     ]
    }
   ],
   "source": [
    "abc(3,4,5)"
   ]
  },
  {
   "cell_type": "markdown",
   "metadata": {},
   "source": [
    "# Return function\n",
    "- above all functions are non return functions \n",
    "- if value of a function can be saved into a variable it is a returned function \n",
    "- (result cannot be stored in a variable is non return functions)"
   ]
  },
  {
   "cell_type": "code",
   "execution_count": 16,
   "metadata": {},
   "outputs": [
    {
     "name": "stdout",
     "output_type": "stream",
     "text": [
      "hello\n",
      "None\n"
     ]
    }
   ],
   "source": [
    "string = print(\"hello\") # print non return function\n",
    "print(string)"
   ]
  },
  {
   "cell_type": "code",
   "execution_count": 21,
   "metadata": {},
   "outputs": [
    {
     "name": "stdout",
     "output_type": "stream",
     "text": [
      "5 7 9\n",
      "21\n",
      "None\n"
     ]
    }
   ],
   "source": [
    "x = abc(5,7,9) # user defined function abc is also non return function\n",
    "print(x)"
   ]
  },
  {
   "cell_type": "code",
   "execution_count": 16,
   "metadata": {},
   "outputs": [
    {
     "name": "stdout",
     "output_type": "stream",
     "text": [
      "Ali\n"
     ]
    }
   ],
   "source": [
    "#single return\n",
    "def id_card(id,name,fname, course, timing): #parameters\n",
    "    text = \"\"\"\n",
    "    PIAIC Islamabad\n",
    "    ID: {}\n",
    "    Name: {}\n",
    "    Father's Name: {}\n",
    "    Course: {}\n",
    "    Timing: {}\n",
    "    \"\"\".format(id,name,fname,course,timing)\n",
    "    return \"Ali\" # exit function at first return statement \n",
    "    return text\n",
    "    return \"Hamza\"\n",
    "\n",
    "print(id_card(1,\"Ali\",\"Hamza\",\"AI\",\"9-12\"))"
   ]
  },
  {
   "cell_type": "code",
   "execution_count": 21,
   "metadata": {},
   "outputs": [
    {
     "name": "stdout",
     "output_type": "stream",
     "text": [
      "('Ali', \"\\n    PIAIC Islamabad\\n    ID: 1\\n    Name: Ali\\n    Father's Name: Hamza\\n    Course: AI\\n    Timing: 9-12\\n    \", 'Hamza')\n"
     ]
    }
   ],
   "source": [
    "#multiple return\n",
    "def id_card(id,name,fname, course, timing): #parameters\n",
    "    text = \"\"\"\n",
    "    PIAIC Islamabad\n",
    "    ID: {}\n",
    "    Name: {}\n",
    "    Father's Name: {}\n",
    "    Course: {}\n",
    "    Timing: {}\n",
    "    \"\"\".format(id,name,fname,course,timing)\n",
    "    return \"Ali\", text, \"Hamza\" #return tuple\n",
    "\n",
    "print(id_card(1,\"Ali\",\"Hamza\",\"AI\",\"9-12\"))"
   ]
  },
  {
   "cell_type": "code",
   "execution_count": 24,
   "metadata": {},
   "outputs": [
    {
     "name": "stdout",
     "output_type": "stream",
     "text": [
      "Ali \n",
      "    PIAIC Islamabad\n",
      "    ID: 1\n",
      "    Name: Ali\n",
      "    Father's Name: Hamza\n",
      "    Course: AI\n",
      "    Timing: 9-12\n",
      "     Hamza\n"
     ]
    }
   ],
   "source": [
    "print(*id_card(1,\"Ali\",\"Hamza\",\"AI\",\"9-12\"))"
   ]
  },
  {
   "cell_type": "code",
   "execution_count": 41,
   "metadata": {},
   "outputs": [
    {
     "data": {
      "text/plain": [
       "12"
      ]
     },
     "execution_count": 41,
     "metadata": {},
     "output_type": "execute_result"
    }
   ],
   "source": [
    "def abc(x,y,z):\n",
    "    return x+y+z\n",
    "abc(3,4,5)"
   ]
  },
  {
   "cell_type": "markdown",
   "metadata": {},
   "source": [
    "# keyword arguments\n",
    "sequence doesn't matter"
   ]
  },
  {
   "cell_type": "code",
   "execution_count": 45,
   "metadata": {},
   "outputs": [
    {
     "name": "stdout",
     "output_type": "stream",
     "text": [
      "\n",
      "    PIAIC Islamabad\n",
      "    ID: 1\n",
      "    Name: Ali\n",
      "    Father's Name: Hamza\n",
      "    Course: AI\n",
      "    Timing: 9-12\n",
      "    \n"
     ]
    }
   ],
   "source": [
    "def id_card(id,name,fname, course, timing):\n",
    "    text = \"\"\"\n",
    "    PIAIC Islamabad\n",
    "    ID: {}\n",
    "    Name: {}\n",
    "    Father's Name: {}\n",
    "    Course: {}\n",
    "    Timing: {}\n",
    "    \"\"\".format(id,name,fname,course,timing)\n",
    "    return text\n",
    "\n",
    "print(id_card(1,\"Ali\",fname=\"Hamza\",timing=\"9-12\",course=\"AI\")) #positional arguments follow keyword arguments"
   ]
  },
  {
   "cell_type": "markdown",
   "metadata": {},
   "source": [
    "# argument with list\n",
    "position matters"
   ]
  },
  {
   "cell_type": "code",
   "execution_count": 56,
   "metadata": {},
   "outputs": [
    {
     "name": "stdout",
     "output_type": "stream",
     "text": [
      "\n",
      "    PIAIC Islamabad\n",
      "    ID: 1\n",
      "    Name: Ali\n",
      "    Father's Name: Hamza\n",
      "    Course: AI\n",
      "    Timing: 9-12\n",
      "    \n"
     ]
    }
   ],
   "source": [
    "l1 = [1,\"Ali\",\"Hamza\",\"AI\",\"9-12\"]\n",
    "#print(id_card(l1[0],l1[1],l1[2],l1[3],l1[4])) or\n",
    "print(id_card(*l1))"
   ]
  },
  {
   "cell_type": "markdown",
   "metadata": {},
   "source": [
    "# argument with dictionary\n",
    "- keys of dict should be same as parameters\n",
    "- position does'nt matter but name matters"
   ]
  },
  {
   "cell_type": "code",
   "execution_count": 67,
   "metadata": {},
   "outputs": [
    {
     "name": "stdout",
     "output_type": "stream",
     "text": [
      "\n",
      "    PIAIC Islamabad\n",
      "    ID: 1\n",
      "    Name: Ali\n",
      "    Father's Name: Hamza\n",
      "    Course: AI\n",
      "    Timing: 9-12\n",
      "    \n"
     ]
    }
   ],
   "source": [
    "def id_card(id,name,fname, course, timing):\n",
    "    text = \"\"\"\n",
    "    PIAIC Islamabad\n",
    "    ID: {}\n",
    "    Name: {}\n",
    "    Father's Name: {}\n",
    "    Course: {}\n",
    "    Timing: {}\n",
    "    \"\"\".format(id,name,fname,course,timing)\n",
    "    return text\n",
    "\n",
    "d1 ={\"id\": 1, \"fname\": \"Hamza\", \"course\": \"AI\",\"name\": \"Ali\", \"timing\": \"9-12\"}\n",
    "#print(id_card(1,\"Ali\",fname=\"Hamza\",timing=\"9-12\",course=\"AI\"))\n",
    "print(id_card(**d1))"
   ]
  },
  {
   "cell_type": "markdown",
   "metadata": {},
   "source": [
    "# recursive functions"
   ]
  },
  {
   "cell_type": "code",
   "execution_count": 28,
   "metadata": {},
   "outputs": [
    {
     "data": {
      "text/plain": [
       "20"
      ]
     },
     "execution_count": 28,
     "metadata": {},
     "output_type": "execute_result"
    }
   ],
   "source": [
    "def abc(n):\n",
    "    if n==1:\n",
    "        return 1\n",
    "    return n * abc(n-1) # 5 * 4 * 3 * 2 * 1\n",
    "    \n",
    "abc(5)"
   ]
  },
  {
   "cell_type": "markdown",
   "metadata": {},
   "source": [
    "# generator functions"
   ]
  },
  {
   "cell_type": "code",
   "execution_count": 78,
   "metadata": {},
   "outputs": [
    {
     "name": "stdout",
     "output_type": "stream",
     "text": [
      "<generator object abc at 0x000001A813E982A0>\n",
      "0\n",
      "1\n",
      "2\n",
      "3\n",
      "4\n",
      "5\n",
      "[6, 7, 8, 9, 10]\n"
     ]
    }
   ],
   "source": [
    "def abc():\n",
    "    for i in range(11):\n",
    "        yield i\n",
    "\n",
    "a = abc()\n",
    "print(a)\n",
    "print(next(a))\n",
    "print(next(a))\n",
    "print(next(a))\n",
    "print(next(a))\n",
    "print(next(a))\n",
    "print(next(a))\n",
    "print(list(a))"
   ]
  },
  {
   "cell_type": "markdown",
   "metadata": {},
   "source": [
    "# lambda function"
   ]
  },
  {
   "cell_type": "code",
   "execution_count": 31,
   "metadata": {},
   "outputs": [
    {
     "name": "stdout",
     "output_type": "stream",
     "text": [
      "13\n"
     ]
    },
    {
     "data": {
      "text/plain": [
       "13"
      ]
     },
     "execution_count": 31,
     "metadata": {},
     "output_type": "execute_result"
    }
   ],
   "source": [
    "def xyz(a,b):\n",
    "    return a+b\n",
    "print(xyz(5,8))\n",
    "\n",
    "# or\n",
    "def xyz(a,b): return a+b\n",
    "xyz(5,8)\n"
   ]
  },
  {
   "cell_type": "code",
   "execution_count": 32,
   "metadata": {},
   "outputs": [
    {
     "data": {
      "text/plain": [
       "13"
      ]
     },
     "execution_count": 32,
     "metadata": {},
     "output_type": "execute_result"
    }
   ],
   "source": [
    "abc = lambda a,b: a + b\n",
    "abc(5,8)# values passed in variable"
   ]
  },
  {
   "cell_type": "code",
   "execution_count": 36,
   "metadata": {},
   "outputs": [
    {
     "name": "stdout",
     "output_type": "stream",
     "text": [
      "8\n"
     ]
    }
   ],
   "source": [
    "xyz = lambda a,b: a if a>b  else print(b)\n",
    "\n",
    "xyz(5,8)"
   ]
  },
  {
   "cell_type": "code",
   "execution_count": 37,
   "metadata": {},
   "outputs": [
    {
     "name": "stdout",
     "output_type": "stream",
     "text": [
      "2\n"
     ]
    }
   ],
   "source": [
    "def whatever():\n",
    "    y = 2\n",
    "    print(y)\n",
    "y = 1\n",
    "whatever()"
   ]
  }
 ],
 "metadata": {
  "kernelspec": {
   "display_name": "Python 3",
   "language": "python",
   "name": "python3"
  },
  "language_info": {
   "codemirror_mode": {
    "name": "ipython",
    "version": 3
   },
   "file_extension": ".py",
   "mimetype": "text/x-python",
   "name": "python",
   "nbconvert_exporter": "python",
   "pygments_lexer": "ipython3",
   "version": "3.7.3"
  }
 },
 "nbformat": 4,
 "nbformat_minor": 2
}
