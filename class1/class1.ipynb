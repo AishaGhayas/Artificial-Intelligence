{
 "cells": [
  {
   "cell_type": "markdown",
   "metadata": {},
   "source": [
    "#PIAIC"
   ]
  },
  {
   "cell_type": "code",
   "execution_count": 51,
   "metadata": {},
   "outputs": [
    {
     "name": "stdout",
     "output_type": "stream",
     "text": [
      "Pakistan**0.88\n",
      "\n",
      "9000\n",
      "98.0 isl\n",
      "hi \r",
      " john\n"
     ]
    }
   ],
   "source": [
    "print(\"Pakistan\", 0.88, sep=\"**\",end='\\n\\n')\n",
    "print(9000)\n",
    "print(\"98.0\", 'isl')\n",
    "print(\"hi \\r john\")"
   ]
  },
  {
   "cell_type": "code",
   "execution_count": 15,
   "metadata": {},
   "outputs": [
    {
     "name": "stdout",
     "output_type": "stream",
     "text": [
      "2.5\n",
      "2\n"
     ]
    }
   ],
   "source": [
    "num=2+2\n",
    "num=3*12\n",
    "num=10/4 # float division\n",
    "num2 = 10//4 # integer division discard decimal part\n",
    "print(num)\n",
    "print(num2)"
   ]
  },
  {
   "cell_type": "code",
   "execution_count": 24,
   "metadata": {},
   "outputs": [
    {
     "name": "stdout",
     "output_type": "stream",
     "text": [
      "hi     world\n",
      "hiworldhi\n"
     ]
    }
   ],
   "source": [
    "n = \"hi\"\n",
    "nu = \"world\"\n",
    "print(n, nu) #concatenation\n",
    "print(n + nu)"
   ]
  },
  {
   "cell_type": "code",
   "execution_count": 48,
   "metadata": {},
   "outputs": [
    {
     "name": "stdout",
     "output_type": "stream",
     "text": [
      "\n",
      "International Islamic University\n",
      "Name: Aisha\n",
      "Fathers Name: Ghayas Uddin\n",
      "CNIC: 38201\n",
      "University: islamic\n",
      "\n"
     ]
    }
   ],
   "source": [
    "name = \"Aisha\"\n",
    "father_name = \"Ghayas Uddin\"\n",
    "cnic = 38201\n",
    "uni = \"islamic\"\n",
    "\n",
    "msg = \"\"\"\n",
    "International Islamic University\n",
    "Name: {}\n",
    "Fathers Name: {}\n",
    "CNIC: {}\n",
    "University: {}\n",
    "\"\"\".format(name, father_name, cnic, uni)\n",
    "print(msg)"
   ]
  },
  {
   "cell_type": "markdown",
   "metadata": {},
   "source": [
    "# string methods"
   ]
  },
  {
   "cell_type": "markdown",
   "metadata": {},
   "source": [
    "## capitalize() and center()\n",
    " The capitalize() function doesn't take any parameter. captalize first character & lowercases all other characters\n",
    " The center() method takes two arguments:\n",
    "    width: length of the string with padded characters\n",
    "   fillchar (optional): padding character (space is taken as default argument.)"
   ]
  },
  {
   "cell_type": "code",
   "execution_count": 29,
   "metadata": {},
   "outputs": [
    {
     "name": "stdout",
     "output_type": "stream",
     "text": [
      "Hello\n",
      "***heLlo***\n"
     ]
    }
   ],
   "source": [
    "msg = \"heLlo\"\n",
    "print(msg.capitalize())\n",
    "print(msg.center(11,'*'))"
   ]
  },
  {
   "cell_type": "markdown",
   "metadata": {},
   "source": [
    "## casefold() \n",
    "method doesn't take any parameters. It is an aggressive lower() method which convert strings to casefolded strings for caseless matching."
   ]
  },
  {
   "cell_type": "code",
   "execution_count": 58,
   "metadata": {},
   "outputs": [
    {
     "name": "stdout",
     "output_type": "stream",
     "text": [
      "they are same\n",
      "cat is a pet\n"
     ]
    }
   ],
   "source": [
    "string1 = \"cAT is a peT\"\n",
    "string2 = \"cat is a pet\"\n",
    "\n",
    "if string1.casefold() == string2.casefold():\n",
    "    print(\"they are same\")\n",
    "    print(string1.casefold())\n",
    "else:\n",
    "    print(\"not same\")"
   ]
  },
  {
   "cell_type": "markdown",
   "metadata": {},
   "source": [
    "## count()\n",
    "count() method searches the substring in the given string and returns how many times the substring is present in it.\n",
    "count() method only requires a single parameter for execution. However, it also has two optional parameters:\n",
    "\n",
    "substring - string whose count is to be found.\n",
    "start (Optional) - starting index within the string where search starts.\n",
    "end (Optional) - ending index within the string where search ends."
   ]
  },
  {
   "cell_type": "code",
   "execution_count": 66,
   "metadata": {},
   "outputs": [
    {
     "name": "stdout",
     "output_type": "stream",
     "text": [
      "2\n"
     ]
    }
   ],
   "source": [
    "string = \"count() method only requires a single parameter () for execution. However, it also has two optional parameters:substring - string whose count is to be found.start (Optional) - starting index within the string where search starts. end (Optional) - ending index within the string where search ends.\"\n",
    "check = \"()\"\n",
    "c = string.count(check,5, 100)\n",
    "print(c)"
   ]
  }
 ],
 "metadata": {
  "kernelspec": {
   "display_name": "Python 3",
   "language": "python",
   "name": "python3"
  },
  "language_info": {
   "codemirror_mode": {
    "name": "ipython",
    "version": 3
   },
   "file_extension": ".py",
   "mimetype": "text/x-python",
   "name": "python",
   "nbconvert_exporter": "python",
   "pygments_lexer": "ipython3",
   "version": "3.7.3"
  }
 },
 "nbformat": 4,
 "nbformat_minor": 2
}
