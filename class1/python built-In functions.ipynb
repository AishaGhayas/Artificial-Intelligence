{
 "cells": [
  {
   "cell_type": "code",
   "execution_count": 1,
   "metadata": {},
   "outputs": [
    {
     "name": "stdout",
     "output_type": "stream",
     "text": [
      "8.7\n",
      "9\n"
     ]
    }
   ],
   "source": [
    "num = -8.7\n",
    "ab_num = abs(num)\n",
    "print(ab_num)\n",
    "#OR\n",
    "print(abs(2 + 7))"
   ]
  },
  {
   "cell_type": "code",
   "execution_count": 3,
   "metadata": {},
   "outputs": [
    {
     "name": "stdout",
     "output_type": "stream",
     "text": [
      "True\n",
      "False\n",
      "True\n",
      "False\n"
     ]
    },
    {
     "data": {
      "text/plain": [
       "True"
      ]
     },
     "execution_count": 3,
     "metadata": {},
     "output_type": "execute_result"
    }
   ],
   "source": [
    "#The all() function returns True if all items or values in an iterable are true, otherwise it returns False.\n",
    "#If the iterable object is empty, the all() function also returns True. \n",
    "#parameter: An iterable object (list, tuple, dictionary)\n",
    "\n",
    "print(all({}))\n",
    "print(all({\"\"}))\n",
    "print(any({0,0,9}))\n",
    "print(all({\" \",\"\",\"c\",\"s\"}))\n",
    "all({\" \",\"a\",\"c\",\"s\"})"
   ]
  },
  {
   "cell_type": "code",
   "execution_count": 45,
   "metadata": {},
   "outputs": [
    {
     "name": "stdout",
     "output_type": "stream",
     "text": [
      "False\n",
      "False\n",
      "False\n",
      "True\n"
     ]
    },
    {
     "data": {
      "text/plain": [
       "True"
      ]
     },
     "execution_count": 45,
     "metadata": {},
     "output_type": "execute_result"
    }
   ],
   "source": [
    "#Like all(), it takes one argument and returns True if, even one value in the iterable has a Boolean value of True.\n",
    "print(any({}))\n",
    "print(any({\"\"}))\n",
    "print(any({0,0}))\n",
    "print(any({\" \",\"\",\"c\",\"s\"}))\n",
    "any({\" \",\"a\",\"c\",\"s\"})"
   ]
  },
  {
   "cell_type": "code",
   "execution_count": 47,
   "metadata": {},
   "outputs": [
    {
     "data": {
      "text/plain": [
       "\"'My name is St\\\\xe5le'\""
      ]
     },
     "execution_count": 47,
     "metadata": {},
     "output_type": "execute_result"
    }
   ],
   "source": [
    "#The ascii() function will replace any non-ascii characters with escape characters\n",
    "ascii(\"My name is Ståle\")"
   ]
  },
  {
   "cell_type": "code",
   "execution_count": 18,
   "metadata": {},
   "outputs": [
    {
     "data": {
      "text/plain": [
       "'0b10000110000011'"
      ]
     },
     "execution_count": 18,
     "metadata": {},
     "output_type": "execute_result"
    }
   ],
   "source": [
    "#bin() converts int to binary.\n",
    "bin(8579)"
   ]
  }
 ],
 "metadata": {
  "kernelspec": {
   "display_name": "Python 3",
   "language": "python",
   "name": "python3"
  },
  "language_info": {
   "codemirror_mode": {
    "name": "ipython",
    "version": 3
   },
   "file_extension": ".py",
   "mimetype": "text/x-python",
   "name": "python",
   "nbconvert_exporter": "python",
   "pygments_lexer": "ipython3",
   "version": "3.7.3"
  }
 },
 "nbformat": 4,
 "nbformat_minor": 2
}
