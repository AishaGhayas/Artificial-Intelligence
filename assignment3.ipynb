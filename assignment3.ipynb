{
 "cells": [
  {
   "cell_type": "markdown",
   "metadata": {},
   "source": [
    "# Task 1 \n",
    "Python Program to Add a Key-Value Pair to the Dictionary"
   ]
  },
  {
   "cell_type": "code",
   "execution_count": 7,
   "metadata": {},
   "outputs": [
    {
     "name": "stdout",
     "output_type": "stream",
     "text": [
      "enter key for your dictionary: 1\n",
      "enter value: a\n",
      "{'1': 'a'}\n"
     ]
    }
   ],
   "source": [
    "dic = {}\n",
    "key = input(\"enter key for your dictionary: \")\n",
    "value = input(\"enter value: \")\n",
    "\n",
    "dic[key] = value\n",
    "print(dic)"
   ]
  },
  {
   "cell_type": "markdown",
   "metadata": {},
   "source": [
    "# Task 2\n",
    "Python Program to Concatenate Two Dictionaries Into One"
   ]
  },
  {
   "cell_type": "code",
   "execution_count": 6,
   "metadata": {
    "scrolled": true
   },
   "outputs": [
    {
     "name": "stdout",
     "output_type": "stream",
     "text": [
      "{1: 'abc', 2: 'def', 3: 'ghi', 4: 'jkl'}\n"
     ]
    }
   ],
   "source": [
    "d1 = {1:\"abc\", 2:\"def\"}\n",
    "d2 = {3:\"ghi\", 4:\"jkl\"}\n",
    "d1.update(d2)\n",
    "print(\"concatenated dictionary is: \"d1)"
   ]
  },
  {
   "cell_type": "markdown",
   "metadata": {},
   "source": [
    "# Task 3 \n",
    "Python Program to Check if a Given Key Exists in a Dictionary or Not"
   ]
  },
  {
   "cell_type": "code",
   "execution_count": 18,
   "metadata": {},
   "outputs": [
    {
     "name": "stdout",
     "output_type": "stream",
     "text": [
      "enter a key to check: 2\n",
      "value of key 2 is: grapes\n"
     ]
    }
   ],
   "source": [
    "dic = {1:\"apple\",\n",
    "      2:\"grapes\",\n",
    "      3:\"banana\",\n",
    "      4:\"mango\"}\n",
    "check = int(input(\"enter a key to check: \"))\n",
    "if check in dic.keys():\n",
    "    print(\"value of key {} is: {}\".format(check,dic[check]))\n",
    "else:\n",
    "    print(\"key {} is not in dictionary\".format(check))"
   ]
  },
  {
   "cell_type": "markdown",
   "metadata": {},
   "source": [
    "# Task 4 \n",
    "Python Program to Generate a Dictionary that Contains Numbers (between 1 and n) in the Form (x,x*x). "
   ]
  },
  {
   "cell_type": "code",
   "execution_count": 21,
   "metadata": {},
   "outputs": [
    {
     "name": "stdout",
     "output_type": "stream",
     "text": [
      "enter numder: 5\n",
      "{1: 1, 2: 4, 3: 9, 4: 16, 5: 25}\n"
     ]
    }
   ],
   "source": [
    "num = int(input(\"enter numder: \"))\n",
    "dic = {}\n",
    "for i in range(1,num+1):\n",
    "    dic[i] = i*i\n",
    "print(dic)"
   ]
  },
  {
   "cell_type": "markdown",
   "metadata": {},
   "source": [
    "# Task 5 \n",
    "Python Program to Sum All the Items in a Dictionary "
   ]
  },
  {
   "cell_type": "code",
   "execution_count": 29,
   "metadata": {},
   "outputs": [
    {
     "name": "stdout",
     "output_type": "stream",
     "text": [
      "sum of values in dictionary is:\n",
      " 100\n"
     ]
    }
   ],
   "source": [
    "dic = {\"a\":10,\n",
    "      \"b\":20,\n",
    "      \"c\":30,\n",
    "      \"d\":40}\n",
    "sum = 0\n",
    "for i in dic.keys():\n",
    "    sum = sum + dic[i]\n",
    "print(\"sum of values in dictionary is:\\n\",sum)"
   ]
  },
  {
   "cell_type": "markdown",
   "metadata": {},
   "source": [
    "# Task 6 \n",
    "Python Program to Multiply All the Items in a Dictionary "
   ]
  },
  {
   "cell_type": "code",
   "execution_count": 35,
   "metadata": {},
   "outputs": [
    {
     "name": "stdout",
     "output_type": "stream",
     "text": [
      "the multiplication of all values is: 24\n"
     ]
    }
   ],
   "source": [
    "dic = {\"a\":1,\n",
    "      \"b\":2,\n",
    "      \"c\":3,\n",
    "      \"d\":4}\n",
    "mul = 1\n",
    "for i in dic.keys():\n",
    "    mul = mul*dic[i]\n",
    "print(\"the multiplication of all values is:\",mul)"
   ]
  },
  {
   "cell_type": "markdown",
   "metadata": {},
   "source": [
    "# Task 7 \n",
    "Python Program to Remove the Given Key from a Dictionary "
   ]
  },
  {
   "cell_type": "code",
   "execution_count": 47,
   "metadata": {},
   "outputs": [
    {
     "name": "stdout",
     "output_type": "stream",
     "text": [
      "original dictionary:\n",
      " {'a': 1, 'b': 2, 'c': 3, 'd': 4}\n",
      "enter key to delete: b\n",
      "b was deleted and updated dictionary is:{'a': 1, 'c': 3, 'd': 4}\n"
     ]
    }
   ],
   "source": [
    "dic = {\"a\":1,\n",
    "      \"b\":2,\n",
    "      \"c\":3,\n",
    "      \"d\":4}\n",
    "print(\"original dictionary:\\n\", dic)\n",
    "k = input(\"enter key to delete: \")\n",
    "if k in dic.keys():\n",
    "    del dic[k]\n",
    "    print(\"{} was deleted and updated dictionary is:{}\".format(k,dic))\n",
    "\n",
    "else:\n",
    "    print(\"key not found\")"
   ]
  },
  {
   "cell_type": "markdown",
   "metadata": {},
   "source": [
    "# Task 8 \n",
    "Python Program to Map Two Lists into a Dictionary"
   ]
  },
  {
   "cell_type": "code",
   "execution_count": 56,
   "metadata": {},
   "outputs": [
    {
     "name": "stdout",
     "output_type": "stream",
     "text": [
      "enter number of elements for dictionary3\n",
      "for keys\n",
      "enter element: 1\n",
      "enter element: 2\n",
      "enter element: 3\n",
      "for values\n",
      "enter element: a\n",
      "enter element: s\n",
      "enter element: d\n",
      "Dictionary is: {'1': 'a', '2': 's', '3': 'd'}\n"
     ]
    }
   ],
   "source": [
    "k = []\n",
    "v = []\n",
    "\n",
    "n = int(input(\"enter number of elements for dictionary\"))\n",
    "\n",
    "print(\"for keys\")\n",
    "for i in range(1,n+1):\n",
    "    k.append(input(\"enter element: \"))\n",
    "\n",
    "print(\"for values\")\n",
    "for i in range(1,n+1):\n",
    "    v.append(input(\"enter element: \"))\n",
    "    \n",
    "print(\"Dictionary is:\",dict(zip(k,v)))"
   ]
  },
  {
   "cell_type": "markdown",
   "metadata": {},
   "source": [
    "# Task 9 \n",
    "Python Program to Count the Frequency of Words Appearing in a String Using a Dictionary "
   ]
  },
  {
   "cell_type": "code",
   "execution_count": 1,
   "metadata": {},
   "outputs": [
    {
     "name": "stdout",
     "output_type": "stream",
     "text": [
      "enter a stringi am fine i am good\n",
      "{'i': 2, 'am': 2, 'fine': 1, 'good': 1}\n"
     ]
    },
    {
     "data": {
      "text/plain": [
       "[2, 2, 1, 2, 2, 1]"
      ]
     },
     "execution_count": 1,
     "metadata": {},
     "output_type": "execute_result"
    }
   ],
   "source": [
    "words = input(\"enter a string\").split(sep = \" \")\n",
    "c = []\n",
    "\n",
    "for i in words:\n",
    "    c.append(words.count(i))\n",
    "print(dict(zip(words,c)))\n",
    "c"
   ]
  },
  {
   "cell_type": "markdown",
   "metadata": {},
   "source": [
    "# Task 10 \n",
    "Python Program to Create a Dictionary with Key as First Character and Value as Words Starting with that Character "
   ]
  },
  {
   "cell_type": "code",
   "execution_count": 1,
   "metadata": {},
   "outputs": [
    {
     "name": "stdout",
     "output_type": "stream",
     "text": [
      "enter a string: yellow hi hut hat orange hot green\n",
      "{'y': ['yellow'], 'h': ['hi', 'hut', 'hat', 'hot'], 'o': ['orange'], 'g': ['green']}\n"
     ]
    }
   ],
   "source": [
    "words = input(\"enter a string: \").split(sep = \" \")#list\n",
    "dic = {}\n",
    "for i in words:\n",
    "    if i[0] in dic.keys():\n",
    "        dic[i[0]].append(i)\n",
    "    else:\n",
    "        dic[i[0]] = [i]\n",
    "print(dic)"
   ]
  }
 ],
 "metadata": {
  "kernelspec": {
   "display_name": "Python 3",
   "language": "python",
   "name": "python3"
  },
  "language_info": {
   "codemirror_mode": {
    "name": "ipython",
    "version": 3
   },
   "file_extension": ".py",
   "mimetype": "text/x-python",
   "name": "python",
   "nbconvert_exporter": "python",
   "pygments_lexer": "ipython3",
   "version": "3.7.3"
  }
 },
 "nbformat": 4,
 "nbformat_minor": 2
}
