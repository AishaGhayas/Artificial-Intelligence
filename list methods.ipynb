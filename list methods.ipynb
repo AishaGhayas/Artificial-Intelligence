{
 "cells": [
  {
   "cell_type": "code",
   "execution_count": 1,
   "metadata": {},
   "outputs": [
    {
     "name": "stdout",
     "output_type": "stream",
     "text": [
      "Help on class list in module builtins:\n",
      "\n",
      "class list(object)\n",
      " |  list(iterable=(), /)\n",
      " |  \n",
      " |  Built-in mutable sequence.\n",
      " |  \n",
      " |  If no argument is given, the constructor creates a new empty list.\n",
      " |  The argument must be an iterable if specified.\n",
      " |  \n",
      " |  Methods defined here:\n",
      " |  \n",
      " |  __add__(self, value, /)\n",
      " |      Return self+value.\n",
      " |  \n",
      " |  __contains__(self, key, /)\n",
      " |      Return key in self.\n",
      " |  \n",
      " |  __delitem__(self, key, /)\n",
      " |      Delete self[key].\n",
      " |  \n",
      " |  __eq__(self, value, /)\n",
      " |      Return self==value.\n",
      " |  \n",
      " |  __ge__(self, value, /)\n",
      " |      Return self>=value.\n",
      " |  \n",
      " |  __getattribute__(self, name, /)\n",
      " |      Return getattr(self, name).\n",
      " |  \n",
      " |  __getitem__(...)\n",
      " |      x.__getitem__(y) <==> x[y]\n",
      " |  \n",
      " |  __gt__(self, value, /)\n",
      " |      Return self>value.\n",
      " |  \n",
      " |  __iadd__(self, value, /)\n",
      " |      Implement self+=value.\n",
      " |  \n",
      " |  __imul__(self, value, /)\n",
      " |      Implement self*=value.\n",
      " |  \n",
      " |  __init__(self, /, *args, **kwargs)\n",
      " |      Initialize self.  See help(type(self)) for accurate signature.\n",
      " |  \n",
      " |  __iter__(self, /)\n",
      " |      Implement iter(self).\n",
      " |  \n",
      " |  __le__(self, value, /)\n",
      " |      Return self<=value.\n",
      " |  \n",
      " |  __len__(self, /)\n",
      " |      Return len(self).\n",
      " |  \n",
      " |  __lt__(self, value, /)\n",
      " |      Return self<value.\n",
      " |  \n",
      " |  __mul__(self, value, /)\n",
      " |      Return self*value.\n",
      " |  \n",
      " |  __ne__(self, value, /)\n",
      " |      Return self!=value.\n",
      " |  \n",
      " |  __repr__(self, /)\n",
      " |      Return repr(self).\n",
      " |  \n",
      " |  __reversed__(self, /)\n",
      " |      Return a reverse iterator over the list.\n",
      " |  \n",
      " |  __rmul__(self, value, /)\n",
      " |      Return value*self.\n",
      " |  \n",
      " |  __setitem__(self, key, value, /)\n",
      " |      Set self[key] to value.\n",
      " |  \n",
      " |  __sizeof__(self, /)\n",
      " |      Return the size of the list in memory, in bytes.\n",
      " |  \n",
      " |  append(self, object, /)\n",
      " |      Append object to the end of the list.\n",
      " |  \n",
      " |  clear(self, /)\n",
      " |      Remove all items from list.\n",
      " |  \n",
      " |  copy(self, /)\n",
      " |      Return a shallow copy of the list.\n",
      " |  \n",
      " |  count(self, value, /)\n",
      " |      Return number of occurrences of value.\n",
      " |  \n",
      " |  extend(self, iterable, /)\n",
      " |      Extend list by appending elements from the iterable.\n",
      " |  \n",
      " |  index(self, value, start=0, stop=9223372036854775807, /)\n",
      " |      Return first index of value.\n",
      " |      \n",
      " |      Raises ValueError if the value is not present.\n",
      " |  \n",
      " |  insert(self, index, object, /)\n",
      " |      Insert object before index.\n",
      " |  \n",
      " |  pop(self, index=-1, /)\n",
      " |      Remove and return item at index (default last).\n",
      " |      \n",
      " |      Raises IndexError if list is empty or index is out of range.\n",
      " |  \n",
      " |  remove(self, value, /)\n",
      " |      Remove first occurrence of value.\n",
      " |      \n",
      " |      Raises ValueError if the value is not present.\n",
      " |  \n",
      " |  reverse(self, /)\n",
      " |      Reverse *IN PLACE*.\n",
      " |  \n",
      " |  sort(self, /, *, key=None, reverse=False)\n",
      " |      Stable sort *IN PLACE*.\n",
      " |  \n",
      " |  ----------------------------------------------------------------------\n",
      " |  Static methods defined here:\n",
      " |  \n",
      " |  __new__(*args, **kwargs) from builtins.type\n",
      " |      Create and return a new object.  See help(type) for accurate signature.\n",
      " |  \n",
      " |  ----------------------------------------------------------------------\n",
      " |  Data and other attributes defined here:\n",
      " |  \n",
      " |  __hash__ = None\n",
      "\n"
     ]
    }
   ],
   "source": [
    "help(list)"
   ]
  },
  {
   "cell_type": "code",
   "execution_count": 4,
   "metadata": {},
   "outputs": [
    {
     "name": "stdout",
     "output_type": "stream",
     "text": [
      "['ali', 'hamza', 'sonia', ['amna'], 1]\n"
     ]
    }
   ],
   "source": [
    "#append\n",
    "names = [\"ali\", \"hamza\", \"sonia\"]\n",
    "name = [\"amna\"]\n",
    "names.append(name)\n",
    "names.append(1)\n",
    "print(names)"
   ]
  },
  {
   "cell_type": "code",
   "execution_count": 43,
   "metadata": {},
   "outputs": [
    {
     "name": "stdout",
     "output_type": "stream",
     "text": [
      "['aisha', 'warda']\n",
      "['aisha']\n"
     ]
    }
   ],
   "source": [
    "#copy\n",
    "#sir this example shows deep copy\n",
    "names = [\"aisha\"]\n",
    "listcopy = names.copy()\n",
    "listcopy.append(\"warda\")\n",
    "\n",
    "print(listcopy,names, sep = \"\\n\")"
   ]
  },
  {
   "cell_type": "code",
   "execution_count": 44,
   "metadata": {},
   "outputs": [
    {
     "name": "stdout",
     "output_type": "stream",
     "text": [
      "list1:[1, 2, [7, 5], 4]\n",
      "copy:[1, 2, [7, 5], 4]\n"
     ]
    }
   ],
   "source": [
    "#while this shows shallow copy\n",
    "li1 = [1, 2, [3,5], 4] \n",
    "li2 = copy.copy(li1) \n",
    "\n",
    "li2[2][0] = 7\n",
    "print (\"list1:{}\\ncopy:{}\".format(li1,li2))"
   ]
  },
  {
   "cell_type": "code",
   "execution_count": 61,
   "metadata": {},
   "outputs": [
    {
     "name": "stdout",
     "output_type": "stream",
     "text": [
      "2\n",
      "0\n"
     ]
    },
    {
     "data": {
      "text/plain": [
       "2"
      ]
     },
     "execution_count": 61,
     "metadata": {},
     "output_type": "execute_result"
    }
   ],
   "source": [
    "#count\n",
    "mixlist = [\"hi\", 1 , [\"a\",\"b\"], [\"a\",\"b\"], (1, 2), (1, 2)]\n",
    "print(mixlist.count((1, 2)))\n",
    "print(mixlist.count(2))\n",
    "mixlist.count([\"a\",\"b\"])"
   ]
  },
  {
   "cell_type": "code",
   "execution_count": 86,
   "metadata": {},
   "outputs": [
    {
     "name": "stdout",
     "output_type": "stream",
     "text": [
      "['4', '7', '5', '3', '2', '1']\n"
     ]
    }
   ],
   "source": [
    "#extend\n",
    "numset = {\"1\",\"3\",\"2\"}\n",
    "strtuple = (\"7\",\"5\")\n",
    "numlist = [\"4\"]\n",
    "\n",
    "numlist.extend(strtuple)\n",
    "numlist.extend(numset)\n",
    "print(numlist)"
   ]
  },
  {
   "cell_type": "code",
   "execution_count": 46,
   "metadata": {},
   "outputs": [
    {
     "name": "stdout",
     "output_type": "stream",
     "text": [
      "['7', '5', '4']\n"
     ]
    }
   ],
   "source": [
    "a = [\"7\",\"5\"]\n",
    "b = [\"4\"]\n",
    "\n",
    "a += b\n",
    "print(a)"
   ]
  },
  {
   "cell_type": "code",
   "execution_count": 106,
   "metadata": {},
   "outputs": [
    {
     "name": "stdout",
     "output_type": "stream",
     "text": [
      "['4', '7', '5', '3', '2', '1']\n"
     ]
    }
   ],
   "source": [
    "numset = {\"1\",\"3\",\"2\"}\n",
    "strtuple = (\"7\",\"5\")\n",
    "numlist = [\"4\"]\n",
    "\n",
    "numlist += strtuple\n",
    "numlist += numset\n",
    "print(numlist)"
   ]
  },
  {
   "cell_type": "code",
   "execution_count": 51,
   "metadata": {},
   "outputs": [
    {
     "name": "stdout",
     "output_type": "stream",
     "text": [
      "['7', ['4'], '5']\n"
     ]
    }
   ],
   "source": [
    "#insert\n",
    "a = [\"7\",\"5\"]\n",
    "b = [\"4\"]\n",
    "a.insert(1,b) #index, element\n",
    "print(a)"
   ]
  },
  {
   "cell_type": "code",
   "execution_count": 112,
   "metadata": {},
   "outputs": [
    {
     "name": "stdout",
     "output_type": "stream",
     "text": [
      "[3, '7', ['4'], '5']\n"
     ]
    }
   ],
   "source": [
    "a.insert(0, 3)\n",
    "print(a)"
   ]
  },
  {
   "cell_type": "code",
   "execution_count": 55,
   "metadata": {},
   "outputs": [
    {
     "name": "stdout",
     "output_type": "stream",
     "text": [
      "2\n",
      "4\n"
     ]
    }
   ],
   "source": [
    "names = ['ali', 'hamza', 'sonia', ['amna'], 1]\n",
    "print(names.index(\"sonia\", 1,3)) #value, start, end\n",
    "print(names.index(1, 0))"
   ]
  },
  {
   "cell_type": "code",
   "execution_count": 57,
   "metadata": {},
   "outputs": [
    {
     "name": "stdout",
     "output_type": "stream",
     "text": [
      "[1, ['amna'], 'sonia', 'hamza', 'ali']\n"
     ]
    }
   ],
   "source": [
    "#reverse\n",
    "names = ['ali', 'hamza', 'sonia', ['amna'], 1]\n",
    "names.reverse()\n",
    "print(names)"
   ]
  },
  {
   "cell_type": "code",
   "execution_count": 152,
   "metadata": {},
   "outputs": [
    {
     "name": "stdout",
     "output_type": "stream",
     "text": [
      "step is 1  ['ali', 'hamza', 'sonia', ['amna'], 1]\n",
      "step is 2  ['ali', 'sonia', 1]\n",
      "step is 3  ['ali', ['amna']]\n",
      "step is 4  ['ali', 1]\n",
      "[1, ['amna'], 'sonia', 'hamza', 'ali']\n"
     ]
    }
   ],
   "source": [
    "names = ['ali', 'hamza', 'sonia', ['amna'], 1]\n",
    "\n",
    "print(\"step is 1 \",names[0:5])# start:end:step (by default step = 1)\n",
    "print(\"step is 2 \",names[0:5:2])\n",
    "print(\"step is 3 \",names[0:5:3])\n",
    "print(\"step is 4 \",names[0:5:4])\n",
    "print(names[::-1]) #reverse list\n"
   ]
  },
  {
   "cell_type": "code",
   "execution_count": 156,
   "metadata": {},
   "outputs": [
    {
     "name": "stdout",
     "output_type": "stream",
     "text": [
      "['hamza', 'sonia', ['amna'], 1]\n"
     ]
    }
   ],
   "source": [
    "names = ['ali', 'hamza', 'sonia', ['amna'], 1]\n",
    "\n",
    "del names[0]\n",
    "print(names)"
   ]
  },
  {
   "cell_type": "code",
   "execution_count": 158,
   "metadata": {},
   "outputs": [
    {
     "name": "stdout",
     "output_type": "stream",
     "text": [
      "['sonia', ['amna'], 1]\n"
     ]
    }
   ],
   "source": [
    "names = ['ali', 'hamza', 'sonia', ['amna'], 1]\n",
    "\n",
    "del names[0:2]\n",
    "print(names)"
   ]
  },
  {
   "cell_type": "code",
   "execution_count": 163,
   "metadata": {},
   "outputs": [
    {
     "name": "stdout",
     "output_type": "stream",
     "text": [
      "[]\n"
     ]
    }
   ],
   "source": [
    "names = ['ali', 'hamza', 'sonia', ['amna'], 1]\n",
    "\n",
    "del names[:]\n",
    "print(names)"
   ]
  },
  {
   "cell_type": "code",
   "execution_count": 166,
   "metadata": {},
   "outputs": [
    {
     "name": "stdout",
     "output_type": "stream",
     "text": [
      "[]\n"
     ]
    }
   ],
   "source": [
    "#clear\n",
    "names = ['ali', 'hamza', 'sonia', ['amna'], 1]\n",
    "\n",
    "names.clear()\n",
    "print(names)"
   ]
  },
  {
   "cell_type": "code",
   "execution_count": 59,
   "metadata": {},
   "outputs": [
    {
     "name": "stdout",
     "output_type": "stream",
     "text": [
      "['hamza', 'ali', 'sonia', ['amna'], 1, 'ali']\n"
     ]
    }
   ],
   "source": [
    "#remove\n",
    "names = ['ali', 'hamza', 'ali', 'sonia', ['amna'], 1, 'ali']\n",
    "\n",
    "names.remove(\"ali\")\n",
    "print(names)"
   ]
  },
  {
   "cell_type": "code",
   "execution_count": 177,
   "metadata": {},
   "outputs": [
    {
     "name": "stdout",
     "output_type": "stream",
     "text": [
      "1\n"
     ]
    }
   ],
   "source": [
    "#pop\n",
    "names = ['ali', 'hamza', 'sonia', ['amna'], 1]\n",
    "\n",
    "print(names.pop())#by default index is -1"
   ]
  },
  {
   "cell_type": "code",
   "execution_count": 179,
   "metadata": {},
   "outputs": [
    {
     "name": "stdout",
     "output_type": "stream",
     "text": [
      "hamza\n"
     ]
    }
   ],
   "source": [
    "names = ['ali', 'hamza', 'sonia', ['amna'], 1]\n",
    "print(names.pop(1))"
   ]
  },
  {
   "cell_type": "code",
   "execution_count": 180,
   "metadata": {},
   "outputs": [
    {
     "name": "stdout",
     "output_type": "stream",
     "text": [
      "['amna']\n",
      "['ali', 'hamza', 'sonia', 1]\n"
     ]
    }
   ],
   "source": [
    "names = ['ali', 'hamza', 'sonia', ['amna'], 1]\n",
    "\n",
    "print(names.pop(-2))\n",
    "print(names)"
   ]
  },
  {
   "cell_type": "code",
   "execution_count": 182,
   "metadata": {},
   "outputs": [
    {
     "name": "stdout",
     "output_type": "stream",
     "text": [
      "['a', 'b', 'c', 'd', 'e']\n"
     ]
    }
   ],
   "source": [
    "#sort\n",
    "alphabets = [\"d\",\"a\",\"c\",\"e\",\"b\"]\n",
    "alphabets.sort() #by default ascending order\n",
    "print(alphabets)"
   ]
  },
  {
   "cell_type": "code",
   "execution_count": 1,
   "metadata": {},
   "outputs": [
    {
     "name": "stdout",
     "output_type": "stream",
     "text": [
      "['e', 'd', 'c', 'b', 'a']\n"
     ]
    }
   ],
   "source": [
    "alphabets = [\"d\",\"a\",\"c\",\"e\",\"b\"]\n",
    "alphabets.sort(reverse=True)\n",
    "print(alphabets)"
   ]
  },
  {
   "cell_type": "markdown",
   "metadata": {},
   "source": [
    "### sort changes the original list and returns no value while sorted is opposite"
   ]
  },
  {
   "cell_type": "code",
   "execution_count": 60,
   "metadata": {},
   "outputs": [
    {
     "name": "stdout",
     "output_type": "stream",
     "text": [
      "['e', 'd', 'c', 'b', 'a']\n",
      "['a', 'b', 'c', 'd', 'e']\n",
      "['d', 'a', 'c', 'e', 'b']\n"
     ]
    }
   ],
   "source": [
    "alphabets = [\"d\",\"a\",\"c\",\"e\",\"b\"]\n",
    "\n",
    "print(sorted(alphabets,reverse=True))\n",
    "print(sorted(alphabets))\n",
    "print(alphabets)"
   ]
  }
 ],
 "metadata": {
  "kernelspec": {
   "display_name": "Python 3",
   "language": "python",
   "name": "python3"
  },
  "language_info": {
   "codemirror_mode": {
    "name": "ipython",
    "version": 3
   },
   "file_extension": ".py",
   "mimetype": "text/x-python",
   "name": "python",
   "nbconvert_exporter": "python",
   "pygments_lexer": "ipython3",
   "version": "3.7.3"
  }
 },
 "nbformat": 4,
 "nbformat_minor": 2
}
